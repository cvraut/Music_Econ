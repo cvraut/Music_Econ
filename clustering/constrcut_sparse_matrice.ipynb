{
 "cells": [
  {
   "cell_type": "code",
   "execution_count": 38,
   "metadata": {},
   "outputs": [],
   "source": [
    "import pickle\n",
    "import numpy as np\n",
    "import pandas as pd\n",
    "import matplotlib.pyplot as plt\n",
    "from collections import Counter, defaultdict"
   ]
  },
  {
   "cell_type": "code",
   "execution_count": 4,
   "metadata": {},
   "outputs": [
    {
     "data": {
      "text/html": [
       "<div>\n",
       "<style scoped>\n",
       "    .dataframe tbody tr th:only-of-type {\n",
       "        vertical-align: middle;\n",
       "    }\n",
       "\n",
       "    .dataframe tbody tr th {\n",
       "        vertical-align: top;\n",
       "    }\n",
       "\n",
       "    .dataframe thead th {\n",
       "        text-align: right;\n",
       "    }\n",
       "</style>\n",
       "<table border=\"1\" class=\"dataframe\">\n",
       "  <thead>\n",
       "    <tr style=\"text-align: right;\">\n",
       "      <th></th>\n",
       "      <th>song</th>\n",
       "      <th>artist</th>\n",
       "      <th>genius_raw</th>\n",
       "      <th>genius_bag</th>\n",
       "      <th>az_lyrics_raw</th>\n",
       "      <th>az_lyrics_bag</th>\n",
       "      <th>lyrics_az_raw</th>\n",
       "      <th>lyrics_az_bag</th>\n",
       "      <th>GvAZL</th>\n",
       "      <th>GvLAZ</th>\n",
       "      <th>AZLvLAZ</th>\n",
       "      <th>genius_counter</th>\n",
       "      <th>az_lyrics_counter</th>\n",
       "      <th>lyrics_az_counter</th>\n",
       "      <th>word_intersect</th>\n",
       "    </tr>\n",
       "  </thead>\n",
       "  <tbody>\n",
       "    <tr>\n",
       "      <th>0</th>\n",
       "      <td>sauce it up</td>\n",
       "      <td>lil uzi vert</td>\n",
       "      <td>[Intro]\\nSauce it up, ayy, sauce it up, ayy\\nS...</td>\n",
       "      <td>[sauce, it, up, ayy, sauce, it, up, ayy, sauce...</td>\n",
       "      <td>Sauce it up, ayy, sauce it up, ayy&lt;br&gt;\\nSauce ...</td>\n",
       "      <td>[sauce, it, up, ayy, sauce, it, up, ayy, sauce...</td>\n",
       "      <td>[Intro]&lt;br /&gt;\\nSauce it up (aye)&lt;br /&gt;\\nSauce ...</td>\n",
       "      <td>[sauce, it, up, aye, sauce, it, up, aye, sauce...</td>\n",
       "      <td>0.981573</td>\n",
       "      <td>0.852666</td>\n",
       "      <td>0.864487</td>\n",
       "      <td>{'sauce': 18, 'it': 32, 'up': 36, 'ayy': 7, 'g...</td>\n",
       "      <td>{'sauce': 18, 'it': 32, 'up': 36, 'ayy': 7, 'i...</td>\n",
       "      <td>{'sauce': 12, 'it': 28, 'up': 24, 'aye': 6, 'g...</td>\n",
       "      <td>[let, okay, say, on, harley, brrr, woo, cardi,...</td>\n",
       "    </tr>\n",
       "    <tr>\n",
       "      <th>1</th>\n",
       "      <td>backroad song</td>\n",
       "      <td>granger smith</td>\n",
       "      <td>Barbed wire fence carving out a hillside\\nCutt...</td>\n",
       "      <td>[barb, wire, fence, carve, out, a, hillside, c...</td>\n",
       "      <td>Barbed wire fence carving out a hillside, cutt...</td>\n",
       "      <td>[barb, wire, fence, carve, out, a, hillside, c...</td>\n",
       "      <td>Barbed wire fence carving out a hillside, cutt...</td>\n",
       "      <td>[barb, wire, fence, carve, out, a, hillside, c...</td>\n",
       "      <td>0.996372</td>\n",
       "      <td>0.997579</td>\n",
       "      <td>0.998789</td>\n",
       "      <td>{'barb': 1, 'wire': 1, 'fence': 1, 'carve': 1,...</td>\n",
       "      <td>{'barb': 1, 'wire': 1, 'fence': 1, 'carve': 1,...</td>\n",
       "      <td>{'barb': 1, 'wire': 1, 'fence': 1, 'carve': 1,...</td>\n",
       "      <td>[let, feel, we're, today, grey, on, song, hear...</td>\n",
       "    </tr>\n",
       "    <tr>\n",
       "      <th>2</th>\n",
       "      <td>feelin' satisfied</td>\n",
       "      <td>boston</td>\n",
       "      <td>[Verse 1]\\nWell come on\\nAll you people\\nThe t...</td>\n",
       "      <td>[well, come, on, all, you, people, the, time, ...</td>\n",
       "      <td>Well come on&lt;br&gt;\\nAll you people&lt;br&gt;\\nThe time...</td>\n",
       "      <td>[well, come, on, all, you, people, the, time, ...</td>\n",
       "      <td>Well come on&lt;br /&gt;\\nAll you people&lt;br /&gt;\\nThe ...</td>\n",
       "      <td>[well, come, on, all, you, people, the, time, ...</td>\n",
       "      <td>0.949709</td>\n",
       "      <td>0.946203</td>\n",
       "      <td>0.996477</td>\n",
       "      <td>{'well': 2, 'come': 9, 'on': 9, 'all': 1, 'you...</td>\n",
       "      <td>{'well': 2, 'come': 10, 'on': 11, 'all': 1, 'y...</td>\n",
       "      <td>{'well': 2, 'come': 10, 'on': 11, 'all': 1, 'y...</td>\n",
       "      <td>[people, let, can, alright, satisfy, feel, giv...</td>\n",
       "    </tr>\n",
       "    <tr>\n",
       "      <th>3</th>\n",
       "      <td>saturday morning confusion</td>\n",
       "      <td>bobby russell</td>\n",
       "      <td>Here they come, warming up\\nI hear the pitter ...</td>\n",
       "      <td>[here, they, come, warm, up, i, hear, the, pit...</td>\n",
       "      <td>None</td>\n",
       "      <td>None</td>\n",
       "      <td>Here they come, warming up&lt;br /&gt;\\nI hear the p...</td>\n",
       "      <td>[here, they, come, warm, up, i, hear, the, pit...</td>\n",
       "      <td>0.000000</td>\n",
       "      <td>0.999033</td>\n",
       "      <td>0.000000</td>\n",
       "      <td>{'here': 3, 'they': 3, 'come': 3, 'warm': 2, '...</td>\n",
       "      <td>{}</td>\n",
       "      <td>{'here': 3, 'they': 3, 'come': 3, 'warm': 2, '...</td>\n",
       "      <td>[let, feel, dog, today, how, hear, on, come, r...</td>\n",
       "    </tr>\n",
       "    <tr>\n",
       "      <th>4</th>\n",
       "      <td>country man</td>\n",
       "      <td>luke bryan</td>\n",
       "      <td>[Verse 1]\\nYou need hands, rough not soft\\nTo ...</td>\n",
       "      <td>[you, need, hand, rough, not, soft, to, come, ...</td>\n",
       "      <td>You need hands, rough not soft&lt;br&gt;\\nTo come an...</td>\n",
       "      <td>[you, need, hand, rough, not, soft, to, come, ...</td>\n",
       "      <td>You need hands, rough not soft&lt;br /&gt;\\nTo come ...</td>\n",
       "      <td>[you, need, hand, rough, not, soft, to, come, ...</td>\n",
       "      <td>0.971121</td>\n",
       "      <td>0.967205</td>\n",
       "      <td>0.991220</td>\n",
       "      <td>{'you': 7, 'need': 1, 'hand': 2, 'rough': 1, '...</td>\n",
       "      <td>{'you': 7, 'need': 1, 'hand': 2, 'rough': 1, '...</td>\n",
       "      <td>{'you': 7, 'need': 1, 'hand': 2, 'rough': 1, '...</td>\n",
       "      <td>[let, gator, tenni, move, come, way, muscle, t...</td>\n",
       "    </tr>\n",
       "  </tbody>\n",
       "</table>\n",
       "</div>"
      ],
      "text/plain": [
       "                         song         artist  \\\n",
       "0                 sauce it up   lil uzi vert   \n",
       "1               backroad song  granger smith   \n",
       "2           feelin' satisfied         boston   \n",
       "3  saturday morning confusion  bobby russell   \n",
       "4                 country man     luke bryan   \n",
       "\n",
       "                                          genius_raw  \\\n",
       "0  [Intro]\\nSauce it up, ayy, sauce it up, ayy\\nS...   \n",
       "1  Barbed wire fence carving out a hillside\\nCutt...   \n",
       "2  [Verse 1]\\nWell come on\\nAll you people\\nThe t...   \n",
       "3  Here they come, warming up\\nI hear the pitter ...   \n",
       "4  [Verse 1]\\nYou need hands, rough not soft\\nTo ...   \n",
       "\n",
       "                                          genius_bag  \\\n",
       "0  [sauce, it, up, ayy, sauce, it, up, ayy, sauce...   \n",
       "1  [barb, wire, fence, carve, out, a, hillside, c...   \n",
       "2  [well, come, on, all, you, people, the, time, ...   \n",
       "3  [here, they, come, warm, up, i, hear, the, pit...   \n",
       "4  [you, need, hand, rough, not, soft, to, come, ...   \n",
       "\n",
       "                                       az_lyrics_raw  \\\n",
       "0  Sauce it up, ayy, sauce it up, ayy<br>\\nSauce ...   \n",
       "1  Barbed wire fence carving out a hillside, cutt...   \n",
       "2  Well come on<br>\\nAll you people<br>\\nThe time...   \n",
       "3                                               None   \n",
       "4  You need hands, rough not soft<br>\\nTo come an...   \n",
       "\n",
       "                                       az_lyrics_bag  \\\n",
       "0  [sauce, it, up, ayy, sauce, it, up, ayy, sauce...   \n",
       "1  [barb, wire, fence, carve, out, a, hillside, c...   \n",
       "2  [well, come, on, all, you, people, the, time, ...   \n",
       "3                                               None   \n",
       "4  [you, need, hand, rough, not, soft, to, come, ...   \n",
       "\n",
       "                                       lyrics_az_raw  \\\n",
       "0  [Intro]<br />\\nSauce it up (aye)<br />\\nSauce ...   \n",
       "1  Barbed wire fence carving out a hillside, cutt...   \n",
       "2  Well come on<br />\\nAll you people<br />\\nThe ...   \n",
       "3  Here they come, warming up<br />\\nI hear the p...   \n",
       "4  You need hands, rough not soft<br />\\nTo come ...   \n",
       "\n",
       "                                       lyrics_az_bag     GvAZL     GvLAZ  \\\n",
       "0  [sauce, it, up, aye, sauce, it, up, aye, sauce...  0.981573  0.852666   \n",
       "1  [barb, wire, fence, carve, out, a, hillside, c...  0.996372  0.997579   \n",
       "2  [well, come, on, all, you, people, the, time, ...  0.949709  0.946203   \n",
       "3  [here, they, come, warm, up, i, hear, the, pit...  0.000000  0.999033   \n",
       "4  [you, need, hand, rough, not, soft, to, come, ...  0.971121  0.967205   \n",
       "\n",
       "    AZLvLAZ                                     genius_counter  \\\n",
       "0  0.864487  {'sauce': 18, 'it': 32, 'up': 36, 'ayy': 7, 'g...   \n",
       "1  0.998789  {'barb': 1, 'wire': 1, 'fence': 1, 'carve': 1,...   \n",
       "2  0.996477  {'well': 2, 'come': 9, 'on': 9, 'all': 1, 'you...   \n",
       "3  0.000000  {'here': 3, 'they': 3, 'come': 3, 'warm': 2, '...   \n",
       "4  0.991220  {'you': 7, 'need': 1, 'hand': 2, 'rough': 1, '...   \n",
       "\n",
       "                                   az_lyrics_counter  \\\n",
       "0  {'sauce': 18, 'it': 32, 'up': 36, 'ayy': 7, 'i...   \n",
       "1  {'barb': 1, 'wire': 1, 'fence': 1, 'carve': 1,...   \n",
       "2  {'well': 2, 'come': 10, 'on': 11, 'all': 1, 'y...   \n",
       "3                                                 {}   \n",
       "4  {'you': 7, 'need': 1, 'hand': 2, 'rough': 1, '...   \n",
       "\n",
       "                                   lyrics_az_counter  \\\n",
       "0  {'sauce': 12, 'it': 28, 'up': 24, 'aye': 6, 'g...   \n",
       "1  {'barb': 1, 'wire': 1, 'fence': 1, 'carve': 1,...   \n",
       "2  {'well': 2, 'come': 10, 'on': 11, 'all': 1, 'y...   \n",
       "3  {'here': 3, 'they': 3, 'come': 3, 'warm': 2, '...   \n",
       "4  {'you': 7, 'need': 1, 'hand': 2, 'rough': 1, '...   \n",
       "\n",
       "                                      word_intersect  \n",
       "0  [let, okay, say, on, harley, brrr, woo, cardi,...  \n",
       "1  [let, feel, we're, today, grey, on, song, hear...  \n",
       "2  [people, let, can, alright, satisfy, feel, giv...  \n",
       "3  [let, feel, dog, today, how, hear, on, come, r...  \n",
       "4  [let, gator, tenni, move, come, way, muscle, t...  "
      ]
     },
     "execution_count": 4,
     "metadata": {},
     "output_type": "execute_result"
    }
   ],
   "source": [
    "song_lyrics.head()"
   ]
  },
  {
   "cell_type": "code",
   "execution_count": 5,
   "metadata": {},
   "outputs": [
    {
     "data": {
      "text/html": [
       "<div>\n",
       "<style scoped>\n",
       "    .dataframe tbody tr th:only-of-type {\n",
       "        vertical-align: middle;\n",
       "    }\n",
       "\n",
       "    .dataframe tbody tr th {\n",
       "        vertical-align: top;\n",
       "    }\n",
       "\n",
       "    .dataframe thead th {\n",
       "        text-align: right;\n",
       "    }\n",
       "</style>\n",
       "<table border=\"1\" class=\"dataframe\">\n",
       "  <thead>\n",
       "    <tr style=\"text-align: right;\">\n",
       "      <th></th>\n",
       "      <th>word</th>\n",
       "      <th>songcount</th>\n",
       "      <th>wordcount</th>\n",
       "    </tr>\n",
       "  </thead>\n",
       "  <tbody>\n",
       "    <tr>\n",
       "      <th>0</th>\n",
       "      <td>truthfulne</td>\n",
       "      <td>1</td>\n",
       "      <td>1</td>\n",
       "    </tr>\n",
       "    <tr>\n",
       "      <th>1</th>\n",
       "      <td>ornate</td>\n",
       "      <td>1</td>\n",
       "      <td>1</td>\n",
       "    </tr>\n",
       "    <tr>\n",
       "      <th>2</th>\n",
       "      <td>quieren</td>\n",
       "      <td>2</td>\n",
       "      <td>3</td>\n",
       "    </tr>\n",
       "    <tr>\n",
       "      <th>3</th>\n",
       "      <td>decadence</td>\n",
       "      <td>3</td>\n",
       "      <td>3</td>\n",
       "    </tr>\n",
       "    <tr>\n",
       "      <th>4</th>\n",
       "      <td>robe</td>\n",
       "      <td>12</td>\n",
       "      <td>19</td>\n",
       "    </tr>\n",
       "  </tbody>\n",
       "</table>\n",
       "</div>"
      ],
      "text/plain": [
       "         word  songcount  wordcount\n",
       "0  truthfulne          1          1\n",
       "1      ornate          1          1\n",
       "2     quieren          2          3\n",
       "3   decadence          3          3\n",
       "4        robe         12         19"
      ]
     },
     "execution_count": 5,
     "metadata": {},
     "output_type": "execute_result"
    }
   ],
   "source": [
    "bag_of_words.head()"
   ]
  },
  {
   "cell_type": "code",
   "execution_count": 6,
   "metadata": {},
   "outputs": [
    {
     "data": {
      "image/png": "[encoded data removed]",
      "text/plain": [
       "<Figure size 993.6x576 with 1 Axes>"
      ]
     },
     "metadata": {
      "needs_background": "light"
     },
     "output_type": "display_data"
    }
   ],
   "source": [
    "plt.figure(figsize=(13.8, 8))\n",
    "# for i in [\"GvAZL\", \"GvLAZ\", \"AZLvLAZ\"]:\n",
    "#     plt.plot(list(range(df.shape[0])), sorted(df[i]), label=\"{} ratio score\".format(i))\n",
    "plt.plot([i / 100 for i in range(50, 98, 1)], [np.quantile(bag_of_words[\"wordcount\"], i/100) for i in range(50, 98, 1)], \n",
    "         \"-o\")\n",
    "plt.xlabel(\"Quantile\", fontsize=14)\n",
    "plt.ylabel(\"Num of words\", fontsize=14)\n",
    "plt.title(\"Word Counts Quantile\", fontsize=18)\n",
    "plt.tick_params(labelsize=13)\n",
    "plt.xticks([i / 100 for i in range(50, 98, 5)])\n",
    "plt.show()"
   ]
  },
  {
   "cell_type": "code",
   "execution_count": 7,
   "metadata": {},
   "outputs": [],
   "source": [
    "selected_bag_of_words = bag_of_words[(bag_of_words[\"wordcount\"] != 1) & (bag_of_words[\"wordcount\"] < np.quantile(bag_of_words[\"wordcount\"], 0.94))]"
   ]
  },
  {
   "cell_type": "code",
   "execution_count": 39,
   "metadata": {},
   "outputs": [
    {
     "name": "stdout",
     "output_type": "stream",
     "text": [
      "0\n",
      "1000\n",
      "2000\n"
     ]
    },
    {
     "name": "stderr",
     "output_type": "stream",
     "text": [
      "/Library/Frameworks/Python.framework/Versions/3.6/lib/python3.6/site-packages/numpy/core/fromnumeric.py:3118: RuntimeWarning: Mean of empty slice.\n",
      "  out=out, **kwargs)\n",
      "/Library/Frameworks/Python.framework/Versions/3.6/lib/python3.6/site-packages/numpy/core/_methods.py:85: RuntimeWarning: invalid value encountered in double_scalars\n",
      "  ret = ret.dtype.type(ret / rcount)\n"
     ]
    },
    {
     "name": "stdout",
     "output_type": "stream",
     "text": [
      "3000\n",
      "4000\n",
      "5000\n",
      "6000\n",
      "7000\n",
      "8000\n",
      "9000\n",
      "10000\n",
      "11000\n",
      "12000\n",
      "13000\n",
      "14000\n",
      "15000\n",
      "16000\n",
      "17000\n",
      "18000\n",
      "19000\n",
      "20000\n",
      "21000\n",
      "22000\n"
     ]
    }
   ],
   "source": [
    "# song_lyrics[\"word_intersect_counter\"] = [defaultdict(int) for i in range(song_lyrics.shape[0])]\n",
    "# try:\n",
    "#     for i in range(song_lyrics.shape[0]):\n",
    "#         curr = song_lyrics.loc[i]\n",
    "#         if len(curr[\"word_intersect\"]) != 0:\n",
    "#             for w in curr[\"word_intersect\"]:\n",
    "#                 curr[\"word_intersect_counter\"][w] = np.mean([d[w] for d in curr[[\"genius_counter\", \"az_lyrics_counter\", \"lyrics_az_counter\"]].values if len(d) != 0])\n",
    "#         if i % 1000 == 0:\n",
    "#             print(i)\n",
    "# except Exception as error:\n",
    "#     print(error)\n",
    "# pickle.dump(song_lyrics, open(\"df_concat.pickle\", \"wb\"))"
   ]
  },
  {
   "cell_type": "code",
   "execution_count": 40,
   "metadata": {},
   "outputs": [],
   "source": [
    "pickle.dump(song_lyrics, open(\"df_concat.pickle\", \"wb\"))"
   ]
  },
  {
   "cell_type": "code",
   "execution_count": 53,
   "metadata": {},
   "outputs": [],
   "source": [
    "def construct_sparse_matrice(df, bag_of_words):\n",
    "    words = bag_of_words[\"word\"]\n",
    "    sparse_matrice = [[] for i in range(df.shape[0])]\n",
    "    for i in range(df.shape[0]):\n",
    "        curr = df.loc[i, \"word_intersect_counter\"]\n",
    "        sparse_matrice[i] = [curr[w] for w in words]\n",
    "        if i % 2000 == 0:\n",
    "            print(i)\n",
    "    return sparse_matrice"
   ]
  },
  {
   "cell_type": "code",
   "execution_count": 54,
   "metadata": {},
   "outputs": [
    {
     "name": "stdout",
     "output_type": "stream",
     "text": [
      "0\n",
      "2000\n",
      "4000\n",
      "6000\n",
      "8000\n",
      "10000\n",
      "12000\n",
      "14000\n",
      "16000\n",
      "18000\n",
      "20000\n",
      "22000\n"
     ]
    }
   ],
   "source": [
    "sparse_matrice = construct_sparse_matrice(song_lyrics, selected_bag_of_words)"
   ]
  },
  {
   "cell_type": "code",
   "execution_count": 57,
   "metadata": {},
   "outputs": [],
   "source": [
    "temp = pd.DataFrame(sparse_matrice)"
   ]
  },
  {
   "cell_type": "code",
   "execution_count": 70,
   "metadata": {},
   "outputs": [
    {
     "ename": "OSError",
     "evalue": "[Errno 22] Invalid argument",
     "output_type": "error",
     "traceback": [
      "\u001b[0;31m---------------------------------------------------------------------------\u001b[0m",
      "\u001b[0;31mOSError\u001b[0m                                   Traceback (most recent call last)",
      "\u001b[0;32m<ipython-input-70-bc652835bd15>\u001b[0m in \u001b[0;36m<module>\u001b[0;34m\u001b[0m\n\u001b[0;32m----> 1\u001b[0;31m \u001b[0mpickle\u001b[0m\u001b[0;34m.\u001b[0m\u001b[0mdump\u001b[0m\u001b[0;34m(\u001b[0m\u001b[0mtemp\u001b[0m\u001b[0;34m,\u001b[0m \u001b[0mopen\u001b[0m\u001b[0;34m(\u001b[0m\u001b[0;34m\"sparse_matrice.pickle\"\u001b[0m\u001b[0;34m,\u001b[0m \u001b[0;34m\"wb\"\u001b[0m\u001b[0;34m)\u001b[0m\u001b[0;34m)\u001b[0m\u001b[0;34m\u001b[0m\u001b[0m\n\u001b[0m",
      "\u001b[0;31mOSError\u001b[0m: [Errno 22] Invalid argument"
     ]
    }
   ],
   "source": [
    "pickle.dump(temp, open(\"sparse_matrice.pickle\", \"wb\"))"
   ]
  },
  {
   "cell_type": "code",
   "execution_count": 60,
   "metadata": {},
   "outputs": [],
   "source": [
    "temp.columns = list(selected_bag_of_words[\"word\"])"
   ]
  },
  {
   "cell_type": "code",
   "execution_count": 66,
   "metadata": {},
   "outputs": [],
   "source": [
    "temp[\"song\"] = song_lyrics[\"song\"].tolist()"
   ]
  },
  {
   "cell_type": "code",
   "execution_count": 68,
   "metadata": {},
   "outputs": [],
   "source": [
    "temp[\"artist\"] = song_lyrics[\"artist\"].tolist()"
   ]
  },
  {
   "cell_type": "code",
   "execution_count": 71,
   "metadata": {},
   "outputs": [
    {
     "data": {
      "text/plain": [
       "Index                      80\n",
       "quieren                181664\n",
       "decadence              181664\n",
       "robe                   181664\n",
       "jessie                 181664\n",
       "barnum                 181664\n",
       "soil                   181664\n",
       "tightly                181664\n",
       "smoothie               181664\n",
       "taxi                   181664\n",
       "swoon                  181664\n",
       "s5                     181664\n",
       "grown-a                181664\n",
       "twitter                181664\n",
       "rigby                  181664\n",
       "'lone                  181664\n",
       "ba-ba-da-bope          181664\n",
       "westcoast              181664\n",
       "debutante              181664\n",
       "billie                 181664\n",
       "'in                    181664\n",
       "bareback               181664\n",
       "hoodie                 181664\n",
       "indecent               181664\n",
       "accidentally           181664\n",
       "dah-dah-dah-dah-dum    181664\n",
       "n9ne                   181664\n",
       "haaa                   181664\n",
       "infinite               181664\n",
       "everglade              181664\n",
       "                        ...  \n",
       "severe                 181664\n",
       "stewball               181664\n",
       "buick                  181664\n",
       "diminish               181664\n",
       "chapo                  181664\n",
       "balcón                 181664\n",
       "stevie                 181664\n",
       "nikita                 181664\n",
       "leisurely              181664\n",
       "moma                   181664\n",
       "kart                   181664\n",
       "bashful                181664\n",
       "pbr                    181664\n",
       "bandera                181664\n",
       "scraper                181664\n",
       "ramalam                181664\n",
       "percocet               181664\n",
       "noonday                181664\n",
       "performance            181664\n",
       "bly                    181664\n",
       "zona                   181664\n",
       "moet                   181664\n",
       "favela                 181664\n",
       "baaaa                  181664\n",
       "berp                   181664\n",
       "forty-three-oh-one     181664\n",
       "ring-r                 181664\n",
       "bonifide               181664\n",
       "e-v-e                  181664\n",
       "song                   181664\n",
       "Length: 21076, dtype: int64"
      ]
     },
     "execution_count": 71,
     "metadata": {},
     "output_type": "execute_result"
    }
   ],
   "source": [
    "temp.memory_usage()"
   ]
  },
  {
   "cell_type": "code",
   "execution_count": null,
   "metadata": {},
   "outputs": [],
   "source": []
  },
  {
   "cell_type": "code",
   "execution_count": null,
   "metadata": {},
   "outputs": [],
   "source": []
  },
  {
   "cell_type": "code",
   "execution_count": null,
   "metadata": {},
   "outputs": [],
   "source": []
  },
  {
   "cell_type": "code",
   "execution_count": null,
   "metadata": {},
   "outputs": [],
   "source": []
  },
  {
   "cell_type": "code",
   "execution_count": null,
   "metadata": {},
   "outputs": [],
   "source": []
  },
  {
   "cell_type": "code",
   "execution_count": null,
   "metadata": {},
   "outputs": [],
   "source": []
  },
  {
   "cell_type": "code",
   "execution_count": null,
   "metadata": {},
   "outputs": [],
   "source": []
  }
 ],
 "metadata": {
  "kernelspec": {
   "display_name": "Python 3",
   "language": "python",
   "name": "python3"
  },
  "language_info": {
   "codemirror_mode": {
    "name": "ipython",
    "version": 3
   },
   "file_extension": ".py",
   "mimetype": "text/x-python",
   "name": "python",
   "nbconvert_exporter": "python",
   "pygments_lexer": "ipython3",
   "version": "3.6.4"
  }
 },
 "nbformat": 4,
 "nbformat_minor": 2
}
