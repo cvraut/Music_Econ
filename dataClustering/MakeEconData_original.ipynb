{
 "cells": [
  {
   "cell_type": "code",
   "execution_count": 23,
   "metadata": {},
   "outputs": [],
   "source": [
    "import pandas as pd\n",
    "import numpy as np\n",
    "import matplotlib.pyplot as plt"
   ]
  },
  {
   "cell_type": "code",
   "execution_count": 24,
   "metadata": {},
   "outputs": [
    {
     "data": {
      "text/html": [
       "<div>\n",
       "<style scoped>\n",
       "    .dataframe tbody tr th:only-of-type {\n",
       "        vertical-align: middle;\n",
       "    }\n",
       "\n",
       "    .dataframe tbody tr th {\n",
       "        vertical-align: top;\n",
       "    }\n",
       "\n",
       "    .dataframe thead th {\n",
       "        text-align: right;\n",
       "    }\n",
       "</style>\n",
       "<table border=\"1\" class=\"dataframe\">\n",
       "  <thead>\n",
       "    <tr style=\"text-align: right;\">\n",
       "      <th></th>\n",
       "      <th>Year</th>\n",
       "      <th>Jan</th>\n",
       "      <th>Feb</th>\n",
       "      <th>Mar</th>\n",
       "      <th>Apr</th>\n",
       "      <th>May</th>\n",
       "      <th>Jun</th>\n",
       "      <th>Jul</th>\n",
       "      <th>Aug</th>\n",
       "      <th>Sep</th>\n",
       "      <th>Oct</th>\n",
       "      <th>Nov</th>\n",
       "      <th>Dec</th>\n",
       "    </tr>\n",
       "  </thead>\n",
       "  <tbody>\n",
       "    <tr>\n",
       "      <th>0</th>\n",
       "      <td>1958</td>\n",
       "      <td>5.8</td>\n",
       "      <td>6.4</td>\n",
       "      <td>6.7</td>\n",
       "      <td>7.4</td>\n",
       "      <td>7.4</td>\n",
       "      <td>7.3</td>\n",
       "      <td>7.5</td>\n",
       "      <td>7.4</td>\n",
       "      <td>7.1</td>\n",
       "      <td>6.7</td>\n",
       "      <td>6.2</td>\n",
       "      <td>6.2</td>\n",
       "    </tr>\n",
       "    <tr>\n",
       "      <th>1</th>\n",
       "      <td>1959</td>\n",
       "      <td>6.0</td>\n",
       "      <td>5.9</td>\n",
       "      <td>5.6</td>\n",
       "      <td>5.2</td>\n",
       "      <td>5.1</td>\n",
       "      <td>5.0</td>\n",
       "      <td>5.1</td>\n",
       "      <td>5.2</td>\n",
       "      <td>5.5</td>\n",
       "      <td>5.7</td>\n",
       "      <td>5.8</td>\n",
       "      <td>5.3</td>\n",
       "    </tr>\n",
       "    <tr>\n",
       "      <th>2</th>\n",
       "      <td>1960</td>\n",
       "      <td>5.2</td>\n",
       "      <td>4.8</td>\n",
       "      <td>5.4</td>\n",
       "      <td>5.2</td>\n",
       "      <td>5.1</td>\n",
       "      <td>5.4</td>\n",
       "      <td>5.5</td>\n",
       "      <td>5.6</td>\n",
       "      <td>5.5</td>\n",
       "      <td>6.1</td>\n",
       "      <td>6.1</td>\n",
       "      <td>6.6</td>\n",
       "    </tr>\n",
       "    <tr>\n",
       "      <th>3</th>\n",
       "      <td>1961</td>\n",
       "      <td>6.6</td>\n",
       "      <td>6.9</td>\n",
       "      <td>6.9</td>\n",
       "      <td>7.0</td>\n",
       "      <td>7.1</td>\n",
       "      <td>6.9</td>\n",
       "      <td>7.0</td>\n",
       "      <td>6.6</td>\n",
       "      <td>6.7</td>\n",
       "      <td>6.5</td>\n",
       "      <td>6.1</td>\n",
       "      <td>6.0</td>\n",
       "    </tr>\n",
       "    <tr>\n",
       "      <th>4</th>\n",
       "      <td>1962</td>\n",
       "      <td>5.8</td>\n",
       "      <td>5.5</td>\n",
       "      <td>5.6</td>\n",
       "      <td>5.6</td>\n",
       "      <td>5.5</td>\n",
       "      <td>5.5</td>\n",
       "      <td>5.4</td>\n",
       "      <td>5.7</td>\n",
       "      <td>5.6</td>\n",
       "      <td>5.4</td>\n",
       "      <td>5.7</td>\n",
       "      <td>5.5</td>\n",
       "    </tr>\n",
       "  </tbody>\n",
       "</table>\n",
       "</div>"
      ],
      "text/plain": [
       "   Year  Jan  Feb  Mar  Apr  May  Jun  Jul  Aug  Sep  Oct  Nov  Dec\n",
       "0  1958  5.8  6.4  6.7  7.4  7.4  7.3  7.5  7.4  7.1  6.7  6.2  6.2\n",
       "1  1959  6.0  5.9  5.6  5.2  5.1  5.0  5.1  5.2  5.5  5.7  5.8  5.3\n",
       "2  1960  5.2  4.8  5.4  5.2  5.1  5.4  5.5  5.6  5.5  6.1  6.1  6.6\n",
       "3  1961  6.6  6.9  6.9  7.0  7.1  6.9  7.0  6.6  6.7  6.5  6.1  6.0\n",
       "4  1962  5.8  5.5  5.6  5.6  5.5  5.5  5.4  5.7  5.6  5.4  5.7  5.5"
      ]
     },
     "execution_count": 24,
     "metadata": {},
     "output_type": "execute_result"
    }
   ],
   "source": [
    "unemp = pd.read_csv(\"../data/Econ/EconOriginal/unemp.csv\")\n",
    "unemp.head()"
   ]
  },
  {
   "cell_type": "code",
   "execution_count": 25,
   "metadata": {},
   "outputs": [],
   "source": [
    "unemp_rate = list()\n",
    "unemp_time = list()\n",
    "for i in range(unemp.shape[0]):\n",
    "    curr = unemp.loc[i]\n",
    "    unemp_rate += curr.tolist()[1:]\n",
    "    unemp_time += [int(curr.Year) + (i+1) / 12 for i in range(len(curr) - 1)]"
   ]
  },
  {
   "cell_type": "code",
   "execution_count": 26,
   "metadata": {},
   "outputs": [],
   "source": [
    "unemp = pd.DataFrame()\n",
    "unemp[\"MonthID\"] = unemp_time\n",
    "unemp[\"Unemp\"] = unemp_rate\n",
    "unemp = unemp.dropna()"
   ]
  },
  {
   "cell_type": "code",
   "execution_count": 27,
   "metadata": {},
   "outputs": [],
   "source": [
    "f1 = open(\"../data/Econ/EconOriginal/fnames.txt\", 'r')\n",
    "fnames = [i.strip() for i in f1.readlines()]\n",
    "f1.close()"
   ]
  },
  {
   "cell_type": "code",
   "execution_count": 28,
   "metadata": {},
   "outputs": [
    {
     "data": {
      "text/plain": [
       "['Food&Beverage', 'GDP', 'Income', 'LoanRate', 'Meat', 'MedicalCare']"
      ]
     },
     "execution_count": 28,
     "metadata": {},
     "output_type": "execute_result"
    }
   ],
   "source": [
    "dname = [i.split(\".csv\")[0] for i in fnames]\n",
    "dname"
   ]
  },
  {
   "cell_type": "code",
   "execution_count": 29,
   "metadata": {},
   "outputs": [],
   "source": [
    "ds = [pd.read_csv(\"../data/Econ/EconOriginal/{}\".format(i)) for i in fnames]"
   ]
  },
  {
   "cell_type": "code",
   "execution_count": 30,
   "metadata": {},
   "outputs": [],
   "source": [
    "for i in range(len(fnames)):\n",
    "    ds[i][\"DATE\"] = pd.to_datetime(ds[i][\"DATE\"])\n",
    "    ds[i].columns = [\"DATE\",dname[i]]\n",
    "    ds[i][\"MonthID\"] = [i.year + i.month / 12 for i in ds[i][\"DATE\"]]\n",
    "    ds[i][dname[i]] = [i if i != '.' else np.nan for i in ds[i][dname[i]]]\n",
    "    ds[i][dname[i]] = ds[i][dname[i]].astype(\"float64\")"
   ]
  },
  {
   "cell_type": "code",
   "execution_count": 31,
   "metadata": {},
   "outputs": [],
   "source": [
    "ds.append(unemp)\n",
    "dname.append(\"Unemp\")"
   ]
  },
  {
   "cell_type": "code",
   "execution_count": 32,
   "metadata": {},
   "outputs": [
    {
     "data": {
      "text/plain": [
       "[('GDP', 1947.0833333333333),\n",
       " ('MedicalCare', 1947.0833333333333),\n",
       " ('Unemp', 1958.0833333333333),\n",
       " ('Income', 1959.0833333333333),\n",
       " ('Food&Beverage', 1967.0833333333333),\n",
       " ('Meat', 1967.0833333333333),\n",
       " ('LoanRate', 1972.1666666666667)]"
      ]
     },
     "execution_count": 32,
     "metadata": {},
     "output_type": "execute_result"
    }
   ],
   "source": [
    "start_date = sorted([(dname[i], min(ds[i][\"MonthID\"])) for i in range(len(ds))], key = lambda x: x[1])\n",
    "start_date"
   ]
  },
  {
   "cell_type": "code",
   "execution_count": 33,
   "metadata": {},
   "outputs": [
    {
     "data": {
      "text/plain": [
       "[('Food&Beverage', 2019.3333333333333),\n",
       " ('Meat', 2019.3333333333333),\n",
       " ('MedicalCare', 2019.3333333333333),\n",
       " ('Income', 2019.25),\n",
       " ('Unemp', 2019.25),\n",
       " ('LoanRate', 2019.1666666666667),\n",
       " ('GDP', 2019.0833333333333)]"
      ]
     },
     "execution_count": 33,
     "metadata": {},
     "output_type": "execute_result"
    }
   ],
   "source": [
    "end_date = sorted([(dname[i], max(ds[i][\"MonthID\"])) for i in range(len(ds))], key = lambda x: x[1], reverse=True)\n",
    "end_date"
   ]
  },
  {
   "cell_type": "code",
   "execution_count": 34,
   "metadata": {},
   "outputs": [],
   "source": [
    "econ_master = ds[0]"
   ]
  },
  {
   "cell_type": "code",
   "execution_count": 35,
   "metadata": {},
   "outputs": [],
   "source": [
    "for i in range(1, len(ds)):\n",
    "    econ_master = econ_master.merge(ds[i][[i for i in ds[i].columns if i != 'DATE']], left_on = \"MonthID\", right_on = \"MonthID\", how=\"left\")"
   ]
  },
  {
   "cell_type": "code",
   "execution_count": 36,
   "metadata": {},
   "outputs": [
    {
     "data": {
      "text/plain": [
       "Index(['DATE', 'Food&Beverage', 'MonthID', 'GDP', 'Income', 'LoanRate', 'Meat',\n",
       "       'MedicalCare', 'Unemp'],\n",
       "      dtype='object')"
      ]
     },
     "execution_count": 36,
     "metadata": {},
     "output_type": "execute_result"
    }
   ],
   "source": [
    "econ_master.columns"
   ]
  },
  {
   "cell_type": "code",
   "execution_count": 37,
   "metadata": {},
   "outputs": [
    {
     "data": {
      "text/html": [
       "<div>\n",
       "<style scoped>\n",
       "    .dataframe tbody tr th:only-of-type {\n",
       "        vertical-align: middle;\n",
       "    }\n",
       "\n",
       "    .dataframe tbody tr th {\n",
       "        vertical-align: top;\n",
       "    }\n",
       "\n",
       "    .dataframe thead th {\n",
       "        text-align: right;\n",
       "    }\n",
       "</style>\n",
       "<table border=\"1\" class=\"dataframe\">\n",
       "  <thead>\n",
       "    <tr style=\"text-align: right;\">\n",
       "      <th></th>\n",
       "      <th>DATE</th>\n",
       "      <th>Food&amp;Beverage</th>\n",
       "      <th>MonthID</th>\n",
       "      <th>GDP</th>\n",
       "      <th>Income</th>\n",
       "      <th>LoanRate</th>\n",
       "      <th>Meat</th>\n",
       "      <th>MedicalCare</th>\n",
       "      <th>Unemp</th>\n",
       "    </tr>\n",
       "  </thead>\n",
       "  <tbody>\n",
       "    <tr>\n",
       "      <th>0</th>\n",
       "      <td>1967-01-01</td>\n",
       "      <td>34.8</td>\n",
       "      <td>1967.083333</td>\n",
       "      <td>4535.591</td>\n",
       "      <td>3164.0</td>\n",
       "      <td>NaN</td>\n",
       "      <td>38.1</td>\n",
       "      <td>27.4</td>\n",
       "      <td>3.9</td>\n",
       "    </tr>\n",
       "    <tr>\n",
       "      <th>1</th>\n",
       "      <td>1967-02-01</td>\n",
       "      <td>34.7</td>\n",
       "      <td>1967.166667</td>\n",
       "      <td>NaN</td>\n",
       "      <td>3170.2</td>\n",
       "      <td>NaN</td>\n",
       "      <td>38.0</td>\n",
       "      <td>27.5</td>\n",
       "      <td>3.8</td>\n",
       "    </tr>\n",
       "    <tr>\n",
       "      <th>2</th>\n",
       "      <td>1967-03-01</td>\n",
       "      <td>34.7</td>\n",
       "      <td>1967.250000</td>\n",
       "      <td>NaN</td>\n",
       "      <td>3194.0</td>\n",
       "      <td>NaN</td>\n",
       "      <td>37.8</td>\n",
       "      <td>27.6</td>\n",
       "      <td>3.8</td>\n",
       "    </tr>\n",
       "    <tr>\n",
       "      <th>3</th>\n",
       "      <td>1967-04-01</td>\n",
       "      <td>34.6</td>\n",
       "      <td>1967.333333</td>\n",
       "      <td>4538.370</td>\n",
       "      <td>3193.0</td>\n",
       "      <td>NaN</td>\n",
       "      <td>37.5</td>\n",
       "      <td>27.8</td>\n",
       "      <td>3.8</td>\n",
       "    </tr>\n",
       "    <tr>\n",
       "      <th>4</th>\n",
       "      <td>1967-05-01</td>\n",
       "      <td>34.6</td>\n",
       "      <td>1967.416667</td>\n",
       "      <td>NaN</td>\n",
       "      <td>3199.5</td>\n",
       "      <td>NaN</td>\n",
       "      <td>37.4</td>\n",
       "      <td>27.9</td>\n",
       "      <td>3.8</td>\n",
       "    </tr>\n",
       "  </tbody>\n",
       "</table>\n",
       "</div>"
      ],
      "text/plain": [
       "        DATE  Food&Beverage      MonthID       GDP  Income  LoanRate  Meat  \\\n",
       "0 1967-01-01           34.8  1967.083333  4535.591  3164.0       NaN  38.1   \n",
       "1 1967-02-01           34.7  1967.166667       NaN  3170.2       NaN  38.0   \n",
       "2 1967-03-01           34.7  1967.250000       NaN  3194.0       NaN  37.8   \n",
       "3 1967-04-01           34.6  1967.333333  4538.370  3193.0       NaN  37.5   \n",
       "4 1967-05-01           34.6  1967.416667       NaN  3199.5       NaN  37.4   \n",
       "\n",
       "   MedicalCare  Unemp  \n",
       "0         27.4    3.9  \n",
       "1         27.5    3.8  \n",
       "2         27.6    3.8  \n",
       "3         27.8    3.8  \n",
       "4         27.9    3.8  "
      ]
     },
     "execution_count": 37,
     "metadata": {},
     "output_type": "execute_result"
    }
   ],
   "source": [
    "econ_master.head()"
   ]
  },
  {
   "cell_type": "code",
   "execution_count": 38,
   "metadata": {},
   "outputs": [],
   "source": [
    "econ_master.to_csv(\"../data/Econ/EconOriginal/econ_master.csv\")"
   ]
  },
  {
   "cell_type": "code",
   "execution_count": null,
   "metadata": {},
   "outputs": [],
   "source": []
  },
  {
   "cell_type": "code",
   "execution_count": 39,
   "metadata": {},
   "outputs": [],
   "source": [
    "import matplotlib.pyplot as plt\n",
    "import numpy as np\n",
    "from sklearn.linear_model import LinearRegression\n",
    "from sklearn.preprocessing import normalize"
   ]
  },
  {
   "cell_type": "code",
   "execution_count": 40,
   "metadata": {},
   "outputs": [],
   "source": [
    "def detrender(econ, time):\n",
    "    reg = LinearRegression().fit(np.reshape(time.tolist(), (-1, 1)), econ)\n",
    "#     return reg.predict(np.reshape(time.tolist(), (-1, 1)))\n",
    "    return [i-j for i, j in zip(econ, reg.predict(np.reshape(time.tolist(), (-1, 1))))]"
   ]
  },
  {
   "cell_type": "code",
   "execution_count": 41,
   "metadata": {},
   "outputs": [
    {
     "data": {
      "text/html": [
       "<div>\n",
       "<style scoped>\n",
       "    .dataframe tbody tr th:only-of-type {\n",
       "        vertical-align: middle;\n",
       "    }\n",
       "\n",
       "    .dataframe tbody tr th {\n",
       "        vertical-align: top;\n",
       "    }\n",
       "\n",
       "    .dataframe thead th {\n",
       "        text-align: right;\n",
       "    }\n",
       "</style>\n",
       "<table border=\"1\" class=\"dataframe\">\n",
       "  <thead>\n",
       "    <tr style=\"text-align: right;\">\n",
       "      <th></th>\n",
       "      <th>DATE</th>\n",
       "      <th>Food&amp;Beverage</th>\n",
       "      <th>MonthID</th>\n",
       "      <th>GDP</th>\n",
       "      <th>Income</th>\n",
       "      <th>LoanRate</th>\n",
       "      <th>Meat</th>\n",
       "      <th>MedicalCare</th>\n",
       "      <th>Unemp</th>\n",
       "    </tr>\n",
       "  </thead>\n",
       "  <tbody>\n",
       "    <tr>\n",
       "      <th>0</th>\n",
       "      <td>1967-01-01</td>\n",
       "      <td>34.8</td>\n",
       "      <td>1967.083333</td>\n",
       "      <td>4535.591</td>\n",
       "      <td>3164.0</td>\n",
       "      <td>NaN</td>\n",
       "      <td>38.1</td>\n",
       "      <td>27.4</td>\n",
       "      <td>3.9</td>\n",
       "    </tr>\n",
       "    <tr>\n",
       "      <th>1</th>\n",
       "      <td>1967-02-01</td>\n",
       "      <td>34.7</td>\n",
       "      <td>1967.166667</td>\n",
       "      <td>NaN</td>\n",
       "      <td>3170.2</td>\n",
       "      <td>NaN</td>\n",
       "      <td>38.0</td>\n",
       "      <td>27.5</td>\n",
       "      <td>3.8</td>\n",
       "    </tr>\n",
       "    <tr>\n",
       "      <th>2</th>\n",
       "      <td>1967-03-01</td>\n",
       "      <td>34.7</td>\n",
       "      <td>1967.250000</td>\n",
       "      <td>NaN</td>\n",
       "      <td>3194.0</td>\n",
       "      <td>NaN</td>\n",
       "      <td>37.8</td>\n",
       "      <td>27.6</td>\n",
       "      <td>3.8</td>\n",
       "    </tr>\n",
       "    <tr>\n",
       "      <th>3</th>\n",
       "      <td>1967-04-01</td>\n",
       "      <td>34.6</td>\n",
       "      <td>1967.333333</td>\n",
       "      <td>4538.370</td>\n",
       "      <td>3193.0</td>\n",
       "      <td>NaN</td>\n",
       "      <td>37.5</td>\n",
       "      <td>27.8</td>\n",
       "      <td>3.8</td>\n",
       "    </tr>\n",
       "    <tr>\n",
       "      <th>4</th>\n",
       "      <td>1967-05-01</td>\n",
       "      <td>34.6</td>\n",
       "      <td>1967.416667</td>\n",
       "      <td>NaN</td>\n",
       "      <td>3199.5</td>\n",
       "      <td>NaN</td>\n",
       "      <td>37.4</td>\n",
       "      <td>27.9</td>\n",
       "      <td>3.8</td>\n",
       "    </tr>\n",
       "  </tbody>\n",
       "</table>\n",
       "</div>"
      ],
      "text/plain": [
       "        DATE  Food&Beverage      MonthID       GDP  Income  LoanRate  Meat  \\\n",
       "0 1967-01-01           34.8  1967.083333  4535.591  3164.0       NaN  38.1   \n",
       "1 1967-02-01           34.7  1967.166667       NaN  3170.2       NaN  38.0   \n",
       "2 1967-03-01           34.7  1967.250000       NaN  3194.0       NaN  37.8   \n",
       "3 1967-04-01           34.6  1967.333333  4538.370  3193.0       NaN  37.5   \n",
       "4 1967-05-01           34.6  1967.416667       NaN  3199.5       NaN  37.4   \n",
       "\n",
       "   MedicalCare  Unemp  \n",
       "0         27.4    3.9  \n",
       "1         27.5    3.8  \n",
       "2         27.6    3.8  \n",
       "3         27.8    3.8  \n",
       "4         27.9    3.8  "
      ]
     },
     "execution_count": 41,
     "metadata": {},
     "output_type": "execute_result"
    }
   ],
   "source": [
    "econ_master.head()"
   ]
  },
  {
   "cell_type": "code",
   "execution_count": 42,
   "metadata": {},
   "outputs": [
    {
     "name": "stdout",
     "output_type": "stream",
     "text": [
      "<class 'pandas.core.frame.DataFrame'>\n",
      "Int64Index: 628 entries, 0 to 627\n",
      "Data columns (total 9 columns):\n",
      "DATE             628 non-null datetime64[ns]\n",
      "Food&Beverage    628 non-null float64\n",
      "MonthID          628 non-null float64\n",
      "GDP              209 non-null float64\n",
      "Income           627 non-null float64\n",
      "LoanRate         189 non-null float64\n",
      "Meat             628 non-null float64\n",
      "MedicalCare      628 non-null float64\n",
      "Unemp            627 non-null float64\n",
      "dtypes: datetime64[ns](1), float64(8)\n",
      "memory usage: 49.1 KB\n"
     ]
    }
   ],
   "source": [
    "econ_master.info()"
   ]
  },
  {
   "cell_type": "code",
   "execution_count": 44,
   "metadata": {},
   "outputs": [
    {
     "data": {
      "text/plain": [
       "0      12.500000\n",
       "1      12.500000\n",
       "2      12.500000\n",
       "3      12.500000\n",
       "4      12.500000\n",
       "5      12.500000\n",
       "6      12.500000\n",
       "7      12.500000\n",
       "8      12.500000\n",
       "9      12.500000\n",
       "10     12.500000\n",
       "11     12.500000\n",
       "12     12.500000\n",
       "13     12.500000\n",
       "14     12.500000\n",
       "15     12.500000\n",
       "16     12.500000\n",
       "17     12.500000\n",
       "18     12.500000\n",
       "19     12.500000\n",
       "20     12.500000\n",
       "21     12.500000\n",
       "22     12.500000\n",
       "23     12.500000\n",
       "24     12.500000\n",
       "25     12.500000\n",
       "26     12.500000\n",
       "27     12.500000\n",
       "28     12.500000\n",
       "29     12.500000\n",
       "         ...    \n",
       "598     9.450000\n",
       "599     9.650000\n",
       "600     9.850000\n",
       "601    10.050000\n",
       "602    10.076667\n",
       "603    10.103333\n",
       "604    10.130000\n",
       "605    10.006667\n",
       "606     9.883333\n",
       "607     9.760000\n",
       "608    10.030000\n",
       "609    10.300000\n",
       "610    10.570000\n",
       "611    10.453333\n",
       "612    10.336667\n",
       "613    10.220000\n",
       "614    10.250000\n",
       "615    10.280000\n",
       "616    10.310000\n",
       "617    10.233333\n",
       "618    10.156667\n",
       "619    10.080000\n",
       "620    10.270000\n",
       "621    10.460000\n",
       "622    10.650000\n",
       "623    10.553333\n",
       "624    10.456667\n",
       "625    10.360000\n",
       "626    10.360000\n",
       "627    10.360000\n",
       "Name: LoanRate, Length: 628, dtype: float64"
      ]
     },
     "execution_count": 44,
     "metadata": {},
     "output_type": "execute_result"
    }
   ],
   "source": [
    "econ_master[\"LoanRate\"].interpolate(limit = 1000, limit_direction=\"both\")"
   ]
  },
  {
   "cell_type": "code",
   "execution_count": 46,
   "metadata": {},
   "outputs": [
    {
     "name": "stdout",
     "output_type": "stream",
     "text": [
      "Food&Beverage\n",
      "GDP\n",
      "Income\n",
      "LoanRate\n",
      "Meat\n",
      "MedicalCare\n",
      "Unemp\n"
     ]
    }
   ],
   "source": [
    "for i in range(len(ds)):\n",
    "    print(dname[i])\n",
    "    econ_master[\"{}_detrended\".format(dname[i])] = detrender(econ_master[dname[i]].interpolate(\"linear\",limit = 1000, limit_direction=\"both\"),\n",
    "                                                        econ_master[\"MonthID\"].interpolate(\"linear\",limit = 1000, limit_direction=\"both\"))"
   ]
  },
  {
   "cell_type": "code",
   "execution_count": 47,
   "metadata": {},
   "outputs": [
    {
     "data": {
      "text/plain": [
       "[<matplotlib.lines.Line2D at 0x12186c940>]"
      ]
     },
     "execution_count": 47,
     "metadata": {},
     "output_type": "execute_result"
    },
    {
     "data": {
      "image/png": "[encoded data removed]",
      "text/plain": [
       "<Figure size 432x288 with 1 Axes>"
      ]
     },
     "metadata": {
      "needs_background": "light"
     },
     "output_type": "display_data"
    }
   ],
   "source": [
    "plt.plot(econ_master[\"MonthID\"], econ_master[\"GDP_detrended\"])"
   ]
  },
  {
   "cell_type": "code",
   "execution_count": 154,
   "metadata": {},
   "outputs": [
    {
     "data": {
      "text/plain": [
       "[<matplotlib.lines.Line2D at 0x12572ed68>]"
      ]
     },
     "execution_count": 154,
     "metadata": {},
     "output_type": "execute_result"
    },
    {
     "data": {
      "image/png": "[encoded data removed]",
      "text/plain": [
       "<Figure size 432x288 with 1 Axes>"
      ]
     },
     "metadata": {
      "needs_background": "light"
     },
     "output_type": "display_data"
    }
   ],
   "source": [
    "plt.plot(econ_master[\"MonthID\"], econ_master[\"GDP\"].interpolate(\"linear\"))\n",
    "pred = detrender(econ_master[\"GDP\"].interpolate(\"linear\"), econ_master[\"MonthID\"])\n",
    "plt.plot(econ_master[\"MonthID\"], pred)"
   ]
  },
  {
   "cell_type": "code",
   "execution_count": 48,
   "metadata": {},
   "outputs": [],
   "source": [
    "econ_master.to_csv(\"../data/Econ/EconOriginal/econ_master.csv\")"
   ]
  },
  {
   "cell_type": "code",
   "execution_count": null,
   "metadata": {},
   "outputs": [],
   "source": []
  },
  {
   "cell_type": "code",
   "execution_count": null,
   "metadata": {},
   "outputs": [],
   "source": []
  }
 ],
 "metadata": {
  "kernelspec": {
   "display_name": "Python 3",
   "language": "python",
   "name": "python3"
  },
  "language_info": {
   "codemirror_mode": {
    "name": "ipython",
    "version": 3
   },
   "file_extension": ".py",
   "mimetype": "text/x-python",
   "name": "python",
   "nbconvert_exporter": "python",
   "pygments_lexer": "ipython3",
   "version": "3.6.4"
  }
 },
 "nbformat": 4,
 "nbformat_minor": 2
}
