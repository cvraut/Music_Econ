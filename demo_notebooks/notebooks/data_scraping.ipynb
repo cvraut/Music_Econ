{
 "cells": [
  {
   "cell_type": "markdown",
   "metadata": {},
   "source": [
    "# Data Scraping Notebook"
   ]
  },
  {
   "cell_type": "markdown",
   "metadata": {},
   "source": [
    "## A sample data scraping code for Genius dataset."
   ]
  },
  {
   "cell_type": "code",
   "execution_count": 1,
   "metadata": {},
   "outputs": [],
   "source": [
    "import pandas as pd\n",
    "import numpy as np\n",
    "import multiprocessing\n",
    "from collections import defaultdict\n",
    "from time import sleep\n",
    "import lyricsgenius\n",
    "import re\n",
    "import urllib.request\n",
    "from bs4 import BeautifulSoup\n",
    "from collections import Counter\n",
    "from Levenshtein import ratio\n",
    "import pickle"
   ]
  },
  {
   "cell_type": "code",
   "execution_count": 2,
   "metadata": {},
   "outputs": [
    {
     "name": "stdout",
     "output_type": "stream",
     "text": [
      "Total Artist-Song Pair:  27949\n"
     ]
    }
   ],
   "source": [
    "BB = pd.read_csv(\"../data/Hot Stuff.csv\")\n",
    "BB_artist_song_pair = list(BB.groupby([\"Performer\", \"Song\"]).count().index)\n",
    "print(\"Total Artist-Song Pair:  {}\".format(len(BB_artist_song_pair)))"
   ]
  },
  {
   "cell_type": "markdown",
   "metadata": {},
   "source": [
    "### Removing featuring, parenthesis for more precise scaping"
   ]
  },
  {
   "cell_type": "code",
   "execution_count": 3,
   "metadata": {},
   "outputs": [],
   "source": [
    "def reformat_aritst_song(artist, song):\n",
    "    if \"Featuring\" in artist:\n",
    "        artist = artist.split(\"Featuring\")[0].strip()\n",
    "    if \"Feat.\" in artist:\n",
    "        artist = artist.split(\"Feat.\")[0].strip()\n",
    "    if \"featuring\" in artist:\n",
    "        artist = artist.split(\"featuring\")[0].strip()\n",
    "    if \"&\" in artist:\n",
    "        artist = artist.split(\"&\")[0].strip()\n",
    "    if \"With\" in artist:\n",
    "        artist = artist.split(\"With\")[0].strip()\n",
    "    if \"with\" in artist:\n",
    "        artist = artist.split(\"with\")[0].strip()\n",
    "    if \"(\" in artist:\n",
    "        artist = artist.split(\"(\")[0].strip()\n",
    "    return [artist, song]"
   ]
  },
  {
   "cell_type": "markdown",
   "metadata": {},
   "source": [
    "### Using Genius API to scape the lyrics given songname and artist name"
   ]
  },
  {
   "cell_type": "code",
   "execution_count": 4,
   "metadata": {},
   "outputs": [],
   "source": [
    "# Here we are using a well defined Github lyricsgenius functino\n",
    "genius = lyricsgenius.Genius(\"dxvLAG0Jhx6B01DK9pLzusCIFlboFV996sOvwEAPQbON-MUPz2vLgu9_z7u-hODo\", verbose=False)"
   ]
  },
  {
   "cell_type": "code",
   "execution_count": 5,
   "metadata": {},
   "outputs": [],
   "source": [
    "def Genius_scrape(ArtSongPair):\n",
    "    a, s = ArtSongPair\n",
    "    a_reformatted, s_reformatted = reformat_aritst_song(a, s)\n",
    "    try:\n",
    "        song = genius.search_song(s_reformatted, a_reformatted)\n",
    "        if song == None:\n",
    "            return [a, s, None]\n",
    "        else:\n",
    "            return [song, a, s]\n",
    "    except Exception as e:\n",
    "        print(e)\n",
    "        print(\"Oof chill. Too many requests\")\n",
    "        sleep(60)\n",
    "        return Genius_scrape(ArtSongPair)"
   ]
  },
  {
   "cell_type": "code",
   "execution_count": 6,
   "metadata": {},
   "outputs": [
    {
     "name": "stdout",
     "output_type": "stream",
     "text": [
      "Artist:  Adele\n",
      "Song:  Hello\n",
      "\n",
      "[Verse 1]\n",
      "Hello, it's me\n",
      "I was wondering if after all these years you'd like to meet\n",
      "To go over everything\n",
      "They say that time's supposed to heal ya, but I ain't done much healing\n"
     ]
    }
   ],
   "source": [
    "val = Genius_scrape((\"Adele\", \"Hello\"))\n",
    "if type(val[0]) != str:\n",
    "    print(\"Artist: \", val[0].artist)\n",
    "    print(\"Song: \", val[0].title)\n",
    "    print()\n",
    "    print(\"\\n\".join(val[0].lyrics.split(\"\\n\")[:5])) #First 5 lines"
   ]
  },
  {
   "cell_type": "markdown",
   "metadata": {},
   "source": [
    "### Using multiprocessing to speed up scraping "
   ]
  },
  {
   "cell_type": "code",
   "execution_count": 8,
   "metadata": {},
   "outputs": [],
   "source": [
    "# Using multiproceeing to speed up scraping \n",
    "# Here we are only scraping for 100 songs\n",
    "# Since multiprocessing is very unstable, If failed, tried rerun this cell \n",
    "art_song_lyrics = defaultdict(dict)\n",
    "missing_art_song_lyrics = defaultdict(set)\n",
    "with multiprocessing.Pool(processes=16) as pool:\n",
    "    try:\n",
    "        count = 0; found = 0; missing = 0\n",
    "        for val1, val2, val3 in pool.imap_unordered(Genius_scrape, BB_artist_song_pair[:100]):\n",
    "            if type(val1) != str:\n",
    "                art_song_lyrics[val2][val3] = {\"lyrics\": val1.lyrics, \"url\": val1.url, \"obj\": val1}\n",
    "                found += 1\n",
    "            else:\n",
    "                missing_art_song_lyrics[val1].add(val2)\n",
    "                missing += 1\n",
    "            count += 1\n",
    "            if count % 1000 == 0:\n",
    "                print(\"Till {}:    Found: {}  Missing: {}\".format(count, found, missing))\n",
    "    except Exception as e:\n",
    "        print(e)\n",
    "    pool.terminate()"
   ]
  },
  {
   "cell_type": "code",
   "execution_count": 10,
   "metadata": {},
   "outputs": [
    {
     "data": {
      "text/plain": [
       "{'lyrics': '(Instrumental)',\n",
       " 'url': 'https://genius.com/Richard-groove-holmes-misty-lyrics',\n",
       " 'obj': ('Misty', 'Richard “Groove” Holmes')}"
      ]
     },
     "execution_count": 10,
     "metadata": {},
     "output_type": "execute_result"
    }
   ],
   "source": [
    "art_song_lyrics['\"Groove\" Holmes'][\"Misty\"]"
   ]
  },
  {
   "cell_type": "code",
   "execution_count": 11,
   "metadata": {},
   "outputs": [
    {
     "name": "stdout",
     "output_type": "stream",
     "text": [
      "Total:  100    No.Found:  100,  No.Missing:  0\n"
     ]
    }
   ],
   "source": [
    "original_found_art_song_pair = [[i, j] for i in art_song_lyrics.keys() for j in art_song_lyrics[i].keys()]\n",
    "original_missing_art_song_pair = [[i, j] for i in missing_art_song_lyrics.keys() for j in missing_art_song_lyrics[i]]\n",
    "print(\"Total:  {}    No.Found:  {},  No.Missing:  {}\".format(100, len(original_found_art_song_pair), len(original_missing_art_song_pair)))"
   ]
  },
  {
   "cell_type": "markdown",
   "metadata": {},
   "source": [
    "### Verified Scraped data"
   ]
  },
  {
   "cell_type": "code",
   "execution_count": 12,
   "metadata": {},
   "outputs": [],
   "source": [
    "# An example where the artist name does not match the scraped data artist name"
   ]
  },
  {
   "cell_type": "code",
   "execution_count": 13,
   "metadata": {},
   "outputs": [
    {
     "name": "stdout",
     "output_type": "stream",
     "text": [
      "Original Artist Name:  \"Groove\" Holmes\n",
      "Scraped Artist Name:  Marcel Proust\n"
     ]
    }
   ],
   "source": [
    "print(\"Original Artist Name: \", '\"Groove\" Holmes')\n",
    "print(\"Scraped Artist Name: \", art_song_lyrics['\"Groove\" Holmes'][\"What Now My Love\"][\"obj\"].artist)"
   ]
  },
  {
   "cell_type": "code",
   "execution_count": 14,
   "metadata": {},
   "outputs": [],
   "source": [
    "# Use Leverstein Ratio Score to compare the scraped artist_name / song_name. Keep the ones has score >= 0.85"
   ]
  },
  {
   "cell_type": "code",
   "execution_count": 15,
   "metadata": {},
   "outputs": [],
   "source": [
    "genius_verify_art_song_found = defaultdict(dict)\n",
    "genius_verify_art_song_missing = defaultdict(dict)\n",
    "for i in art_song_lyrics.keys():\n",
    "    for j in art_song_lyrics[i].keys():\n",
    "        if ratio(art_song_lyrics[i][j][\"obj\"].artist.lower(), i.lower()) > 0.85 and ratio(art_song_lyrics[i][j][\"obj\"].title.lower(), j.lower()) > 0.85:\n",
    "            genius_verify_art_song_found[i][j] = dict(art_song_lyrics[i][j])\n",
    "        else:\n",
    "            genius_verify_art_song_missing[i][j] = dict(art_song_lyrics[i][j])"
   ]
  },
  {
   "cell_type": "code",
   "execution_count": 16,
   "metadata": {},
   "outputs": [
    {
     "name": "stdout",
     "output_type": "stream",
     "text": [
      "Total:  100    No.Found/Verified:  48,  No.Missing/Not Verified:  52\n"
     ]
    }
   ],
   "source": [
    "verified_art_song_pair = [(i, j) for i in genius_verify_art_song_found.keys() for j in genius_verify_art_song_found[i].keys()]\n",
    "not_verified_art_song_pair = [(i, j) for i in genius_verify_art_song_missing.keys() for j in genius_verify_art_song_missing[i].keys()]\n",
    "total_missing_art_song_pair =  original_missing_art_song_pair + not_verified_art_song_pair\n",
    "print(\"Total:  {}    No.Found/Verified:  {},  No.Missing/Not Verified:  {}\".format(100, len(verified_art_song_pair), len(total_missing_art_song_pair)))"
   ]
  },
  {
   "cell_type": "markdown",
   "metadata": {},
   "source": [
    "### Then saving all of the verified artist_song pair into a csv file"
   ]
  },
  {
   "cell_type": "code",
   "execution_count": 17,
   "metadata": {},
   "outputs": [],
   "source": [
    "# Lemmatizer to standardize the words\n",
    "from pattern.en import lemma\n",
    "def Tokenizer(word):\n",
    "    def get_rid_of_apostrophe(s):\n",
    "        if s[-3:] == \"in'\":\n",
    "            s = s[:-3] + \"ing\"\n",
    "        if s[-2:] == \"'s\" or s[-2:] == \"''\":\n",
    "            s = s[:-2]\n",
    "        if s[-1:] == \"'\":\n",
    "            s = s[:-1]\n",
    "        return s\n",
    "    temp = lemma(get_rid_of_apostrophe(word))\n",
    "    while lemma(get_rid_of_apostrophe(temp)) != temp:\n",
    "        temp = lemma(get_rid_of_apostrophe(temp))\n",
    "    return temp"
   ]
  },
  {
   "cell_type": "code",
   "execution_count": 18,
   "metadata": {},
   "outputs": [],
   "source": [
    "list_of_words = lambda ly : \" \".join(re.split(r\"&[\\s\\S]*?;|<[\\s\\S]*?>|\\[[\\s\\S]*?\\]|[^\\w'\\\\-]|\\s\",ly.lower())).split()"
   ]
  },
  {
   "cell_type": "code",
   "execution_count": 19,
   "metadata": {},
   "outputs": [],
   "source": [
    "df = pd.DataFrame()\n",
    "df[\"artist\"] = [i[0] for i in verified_art_song_pair]\n",
    "df[\"song\"] = [i[1] for i in verified_art_song_pair]\n",
    "df[\"genius_raw\"] = [genius_verify_art_song_found[i][j][\"lyrics\"] for i, j in verified_art_song_pair]\n",
    "df[\"genius_counter\"] = [Counter([Tokenizer(j) for j in list_of_words(i)]) for i in df[\"genius_raw\"]]\n",
    "df[\"genius_bag\"] = [list(i.keys()) for i in df[\"genius_counter\"]]"
   ]
  },
  {
   "cell_type": "code",
   "execution_count": 20,
   "metadata": {},
   "outputs": [
    {
     "data": {
      "text/html": [
       "<div>\n",
       "<style scoped>\n",
       "    .dataframe tbody tr th:only-of-type {\n",
       "        vertical-align: middle;\n",
       "    }\n",
       "\n",
       "    .dataframe tbody tr th {\n",
       "        vertical-align: top;\n",
       "    }\n",
       "\n",
       "    .dataframe thead th {\n",
       "        text-align: right;\n",
       "    }\n",
       "</style>\n",
       "<table border=\"1\" class=\"dataframe\">\n",
       "  <thead>\n",
       "    <tr style=\"text-align: right;\">\n",
       "      <th></th>\n",
       "      <th>artist</th>\n",
       "      <th>song</th>\n",
       "      <th>genius_raw</th>\n",
       "      <th>genius_counter</th>\n",
       "      <th>genius_bag</th>\n",
       "    </tr>\n",
       "  </thead>\n",
       "  <tbody>\n",
       "    <tr>\n",
       "      <th>0</th>\n",
       "      <td>\"Weird Al\" Yankovic</td>\n",
       "      <td>Like A Surgeon</td>\n",
       "      <td>I finally made it through med school\\nSomehow ...</td>\n",
       "      <td>{'i': 7, 'finally': 1, 'make': 3, 'it': 3, 'th...</td>\n",
       "      <td>[i, finally, make, it, through, med, school, s...</td>\n",
       "    </tr>\n",
       "    <tr>\n",
       "      <th>1</th>\n",
       "      <td>\"Weird Al\" Yankovic</td>\n",
       "      <td>Ricky</td>\n",
       "      <td>[Ricky]\\nHey Lucy, I'm home\\n\\n[Lucy]\\nOh Rick...</td>\n",
       "      <td>{'hey': 10, 'lucy': 17, 'i'm': 5, 'home': 1, '...</td>\n",
       "      <td>[hey, lucy, i'm, home, oh, ricky, you're, so, ...</td>\n",
       "    </tr>\n",
       "    <tr>\n",
       "      <th>2</th>\n",
       "      <td>\"Weird Al\" Yankovic</td>\n",
       "      <td>Smells Like Nirvana</td>\n",
       "      <td>[Verse 1]\\nWhat is this song all about\\nCan't ...</td>\n",
       "      <td>{'what': 7, 'be': 4, 'thi': 2, 'song': 1, 'all...</td>\n",
       "      <td>[what, be, thi, song, all, about, can, figure,...</td>\n",
       "    </tr>\n",
       "    <tr>\n",
       "      <th>3</th>\n",
       "      <td>\"Weird Al\" Yankovic</td>\n",
       "      <td>Fat</td>\n",
       "      <td>Your butt is wide, well mine is too\\nJust watc...</td>\n",
       "      <td>{'your': 3, 'butt': 1, 'be': 3, 'wide': 1, 'we...</td>\n",
       "      <td>[your, butt, be, wide, well, mine, too, just, ...</td>\n",
       "    </tr>\n",
       "    <tr>\n",
       "      <th>4</th>\n",
       "      <td>\"Weird Al\" Yankovic</td>\n",
       "      <td>King Of Suede</td>\n",
       "      <td>[Verse 1:]\\nThere's a sale on our gabardine su...</td>\n",
       "      <td>{'there': 15, 'a': 9, 'sale': 5, 'on': 7, 'our...</td>\n",
       "      <td>[there, a, sale, on, our, gabardine, suit, tod...</td>\n",
       "    </tr>\n",
       "  </tbody>\n",
       "</table>\n",
       "</div>"
      ],
      "text/plain": [
       "                artist                 song  \\\n",
       "0  \"Weird Al\" Yankovic       Like A Surgeon   \n",
       "1  \"Weird Al\" Yankovic                Ricky   \n",
       "2  \"Weird Al\" Yankovic  Smells Like Nirvana   \n",
       "3  \"Weird Al\" Yankovic                  Fat   \n",
       "4  \"Weird Al\" Yankovic        King Of Suede   \n",
       "\n",
       "                                          genius_raw  \\\n",
       "0  I finally made it through med school\\nSomehow ...   \n",
       "1  [Ricky]\\nHey Lucy, I'm home\\n\\n[Lucy]\\nOh Rick...   \n",
       "2  [Verse 1]\\nWhat is this song all about\\nCan't ...   \n",
       "3  Your butt is wide, well mine is too\\nJust watc...   \n",
       "4  [Verse 1:]\\nThere's a sale on our gabardine su...   \n",
       "\n",
       "                                      genius_counter  \\\n",
       "0  {'i': 7, 'finally': 1, 'make': 3, 'it': 3, 'th...   \n",
       "1  {'hey': 10, 'lucy': 17, 'i'm': 5, 'home': 1, '...   \n",
       "2  {'what': 7, 'be': 4, 'thi': 2, 'song': 1, 'all...   \n",
       "3  {'your': 3, 'butt': 1, 'be': 3, 'wide': 1, 'we...   \n",
       "4  {'there': 15, 'a': 9, 'sale': 5, 'on': 7, 'our...   \n",
       "\n",
       "                                          genius_bag  \n",
       "0  [i, finally, make, it, through, med, school, s...  \n",
       "1  [hey, lucy, i'm, home, oh, ricky, you're, so, ...  \n",
       "2  [what, be, thi, song, all, about, can, figure,...  \n",
       "3  [your, butt, be, wide, well, mine, too, just, ...  \n",
       "4  [there, a, sale, on, our, gabardine, suit, tod...  "
      ]
     },
     "execution_count": 20,
     "metadata": {},
     "output_type": "execute_result"
    }
   ],
   "source": [
    "df.head()"
   ]
  },
  {
   "cell_type": "markdown",
   "metadata": {},
   "source": [
    "### Adjoining Azlyrics & lyricsAZ, we can obtain the following dataset"
   ]
  },
  {
   "cell_type": "code",
   "execution_count": 21,
   "metadata": {},
   "outputs": [
    {
     "data": {
      "text/html": [
       "<div>\n",
       "<style scoped>\n",
       "    .dataframe tbody tr th:only-of-type {\n",
       "        vertical-align: middle;\n",
       "    }\n",
       "\n",
       "    .dataframe tbody tr th {\n",
       "        vertical-align: top;\n",
       "    }\n",
       "\n",
       "    .dataframe thead th {\n",
       "        text-align: right;\n",
       "    }\n",
       "</style>\n",
       "<table border=\"1\" class=\"dataframe\">\n",
       "  <thead>\n",
       "    <tr style=\"text-align: right;\">\n",
       "      <th></th>\n",
       "      <th>song</th>\n",
       "      <th>artist</th>\n",
       "      <th>genius_raw</th>\n",
       "      <th>genius_bag</th>\n",
       "      <th>az_lyrics_raw</th>\n",
       "      <th>az_lyrics_bag</th>\n",
       "      <th>lyrics_az_raw</th>\n",
       "      <th>lyrics_az_bag</th>\n",
       "      <th>GvAZL</th>\n",
       "      <th>GvLAZ</th>\n",
       "      <th>AZLvLAZ</th>\n",
       "      <th>genius_counter</th>\n",
       "      <th>az_lyrics_counter</th>\n",
       "      <th>lyrics_az_counter</th>\n",
       "      <th>word_intersect</th>\n",
       "      <th>word_intersect_counter</th>\n",
       "    </tr>\n",
       "  </thead>\n",
       "  <tbody>\n",
       "    <tr>\n",
       "      <th>0</th>\n",
       "      <td>sauce it up</td>\n",
       "      <td>lil uzi vert</td>\n",
       "      <td>[Intro]\\nSauce it up, ayy, sauce it up, ayy\\nS...</td>\n",
       "      <td>[sauce, it, up, ayy, sauce, it, up, ayy, sauce...</td>\n",
       "      <td>Sauce it up, ayy, sauce it up, ayy&lt;br&gt;\\nSauce ...</td>\n",
       "      <td>[sauce, it, up, ayy, sauce, it, up, ayy, sauce...</td>\n",
       "      <td>[Intro]&lt;br /&gt;\\nSauce it up (aye)&lt;br /&gt;\\nSauce ...</td>\n",
       "      <td>[sauce, it, up, aye, sauce, it, up, aye, sauce...</td>\n",
       "      <td>0.981573</td>\n",
       "      <td>0.852666</td>\n",
       "      <td>0.864487</td>\n",
       "      <td>{'sauce': 18, 'it': 32, 'up': 36, 'ayy': 7, 'g...</td>\n",
       "      <td>{'sauce': 18, 'it': 32, 'up': 36, 'ayy': 7, 'i...</td>\n",
       "      <td>{'sauce': 12, 'it': 28, 'up': 24, 'aye': 6, 'g...</td>\n",
       "      <td>[let, okay, say, on, harley, brrr, woo, cardi,...</td>\n",
       "      <td>{'let': 2.0, 'okay': 1.0, 'say': 2.0, 'on': 4....</td>\n",
       "    </tr>\n",
       "    <tr>\n",
       "      <th>1</th>\n",
       "      <td>backroad song</td>\n",
       "      <td>granger smith</td>\n",
       "      <td>Barbed wire fence carving out a hillside\\nCutt...</td>\n",
       "      <td>[barb, wire, fence, carve, out, a, hillside, c...</td>\n",
       "      <td>Barbed wire fence carving out a hillside, cutt...</td>\n",
       "      <td>[barb, wire, fence, carve, out, a, hillside, c...</td>\n",
       "      <td>Barbed wire fence carving out a hillside, cutt...</td>\n",
       "      <td>[barb, wire, fence, carve, out, a, hillside, c...</td>\n",
       "      <td>0.996372</td>\n",
       "      <td>0.997579</td>\n",
       "      <td>0.998789</td>\n",
       "      <td>{'barb': 1, 'wire': 1, 'fence': 1, 'carve': 1,...</td>\n",
       "      <td>{'barb': 1, 'wire': 1, 'fence': 1, 'carve': 1,...</td>\n",
       "      <td>{'barb': 1, 'wire': 1, 'fence': 1, 'carve': 1,...</td>\n",
       "      <td>[let, feel, we're, today, grey, on, song, hear...</td>\n",
       "      <td>{'let': 1.0, 'feel': 11.0, 'we're': 1.0, 'toda...</td>\n",
       "    </tr>\n",
       "    <tr>\n",
       "      <th>2</th>\n",
       "      <td>feelin' satisfied</td>\n",
       "      <td>boston</td>\n",
       "      <td>[Verse 1]\\nWell come on\\nAll you people\\nThe t...</td>\n",
       "      <td>[well, come, on, all, you, people, the, time, ...</td>\n",
       "      <td>Well come on&lt;br&gt;\\nAll you people&lt;br&gt;\\nThe time...</td>\n",
       "      <td>[well, come, on, all, you, people, the, time, ...</td>\n",
       "      <td>Well come on&lt;br /&gt;\\nAll you people&lt;br /&gt;\\nThe ...</td>\n",
       "      <td>[well, come, on, all, you, people, the, time, ...</td>\n",
       "      <td>0.949709</td>\n",
       "      <td>0.946203</td>\n",
       "      <td>0.996477</td>\n",
       "      <td>{'well': 2, 'come': 9, 'on': 9, 'all': 1, 'you...</td>\n",
       "      <td>{'well': 2, 'come': 10, 'on': 11, 'all': 1, 'y...</td>\n",
       "      <td>{'well': 2, 'come': 10, 'on': 11, 'all': 1, 'y...</td>\n",
       "      <td>[people, let, can, alright, satisfy, feel, giv...</td>\n",
       "      <td>{'people': 1.0, 'let': 8.0, 'can': 2.0, 'alrig...</td>\n",
       "    </tr>\n",
       "    <tr>\n",
       "      <th>3</th>\n",
       "      <td>saturday morning confusion</td>\n",
       "      <td>bobby russell</td>\n",
       "      <td>Here they come, warming up\\nI hear the pitter ...</td>\n",
       "      <td>[here, they, come, warm, up, i, hear, the, pit...</td>\n",
       "      <td>None</td>\n",
       "      <td>None</td>\n",
       "      <td>Here they come, warming up&lt;br /&gt;\\nI hear the p...</td>\n",
       "      <td>[here, they, come, warm, up, i, hear, the, pit...</td>\n",
       "      <td>0.000000</td>\n",
       "      <td>0.999033</td>\n",
       "      <td>0.000000</td>\n",
       "      <td>{'here': 3, 'they': 3, 'come': 3, 'warm': 2, '...</td>\n",
       "      <td>{}</td>\n",
       "      <td>{'here': 3, 'they': 3, 'come': 3, 'warm': 2, '...</td>\n",
       "      <td>[let, feel, dog, today, how, hear, on, come, r...</td>\n",
       "      <td>{'let': 2.0, 'feel': 1.0, 'dog': 4.0, 'today':...</td>\n",
       "    </tr>\n",
       "    <tr>\n",
       "      <th>4</th>\n",
       "      <td>country man</td>\n",
       "      <td>luke bryan</td>\n",
       "      <td>[Verse 1]\\nYou need hands, rough not soft\\nTo ...</td>\n",
       "      <td>[you, need, hand, rough, not, soft, to, come, ...</td>\n",
       "      <td>You need hands, rough not soft&lt;br&gt;\\nTo come an...</td>\n",
       "      <td>[you, need, hand, rough, not, soft, to, come, ...</td>\n",
       "      <td>You need hands, rough not soft&lt;br /&gt;\\nTo come ...</td>\n",
       "      <td>[you, need, hand, rough, not, soft, to, come, ...</td>\n",
       "      <td>0.971121</td>\n",
       "      <td>0.967205</td>\n",
       "      <td>0.991220</td>\n",
       "      <td>{'you': 7, 'need': 1, 'hand': 2, 'rough': 1, '...</td>\n",
       "      <td>{'you': 7, 'need': 1, 'hand': 2, 'rough': 1, '...</td>\n",
       "      <td>{'you': 7, 'need': 1, 'hand': 2, 'rough': 1, '...</td>\n",
       "      <td>[let, gator, tenni, move, come, way, muscle, t...</td>\n",
       "      <td>{'let': 1.0, 'gator': 1.0, 'tenni': 1.0, 'move...</td>\n",
       "    </tr>\n",
       "  </tbody>\n",
       "</table>\n",
       "</div>"
      ],
      "text/plain": [
       "                         song         artist  \\\n",
       "0                 sauce it up   lil uzi vert   \n",
       "1               backroad song  granger smith   \n",
       "2           feelin' satisfied         boston   \n",
       "3  saturday morning confusion  bobby russell   \n",
       "4                 country man     luke bryan   \n",
       "\n",
       "                                          genius_raw  \\\n",
       "0  [Intro]\\nSauce it up, ayy, sauce it up, ayy\\nS...   \n",
       "1  Barbed wire fence carving out a hillside\\nCutt...   \n",
       "2  [Verse 1]\\nWell come on\\nAll you people\\nThe t...   \n",
       "3  Here they come, warming up\\nI hear the pitter ...   \n",
       "4  [Verse 1]\\nYou need hands, rough not soft\\nTo ...   \n",
       "\n",
       "                                          genius_bag  \\\n",
       "0  [sauce, it, up, ayy, sauce, it, up, ayy, sauce...   \n",
       "1  [barb, wire, fence, carve, out, a, hillside, c...   \n",
       "2  [well, come, on, all, you, people, the, time, ...   \n",
       "3  [here, they, come, warm, up, i, hear, the, pit...   \n",
       "4  [you, need, hand, rough, not, soft, to, come, ...   \n",
       "\n",
       "                                       az_lyrics_raw  \\\n",
       "0  Sauce it up, ayy, sauce it up, ayy<br>\\nSauce ...   \n",
       "1  Barbed wire fence carving out a hillside, cutt...   \n",
       "2  Well come on<br>\\nAll you people<br>\\nThe time...   \n",
       "3                                               None   \n",
       "4  You need hands, rough not soft<br>\\nTo come an...   \n",
       "\n",
       "                                       az_lyrics_bag  \\\n",
       "0  [sauce, it, up, ayy, sauce, it, up, ayy, sauce...   \n",
       "1  [barb, wire, fence, carve, out, a, hillside, c...   \n",
       "2  [well, come, on, all, you, people, the, time, ...   \n",
       "3                                               None   \n",
       "4  [you, need, hand, rough, not, soft, to, come, ...   \n",
       "\n",
       "                                       lyrics_az_raw  \\\n",
       "0  [Intro]<br />\\nSauce it up (aye)<br />\\nSauce ...   \n",
       "1  Barbed wire fence carving out a hillside, cutt...   \n",
       "2  Well come on<br />\\nAll you people<br />\\nThe ...   \n",
       "3  Here they come, warming up<br />\\nI hear the p...   \n",
       "4  You need hands, rough not soft<br />\\nTo come ...   \n",
       "\n",
       "                                       lyrics_az_bag     GvAZL     GvLAZ  \\\n",
       "0  [sauce, it, up, aye, sauce, it, up, aye, sauce...  0.981573  0.852666   \n",
       "1  [barb, wire, fence, carve, out, a, hillside, c...  0.996372  0.997579   \n",
       "2  [well, come, on, all, you, people, the, time, ...  0.949709  0.946203   \n",
       "3  [here, they, come, warm, up, i, hear, the, pit...  0.000000  0.999033   \n",
       "4  [you, need, hand, rough, not, soft, to, come, ...  0.971121  0.967205   \n",
       "\n",
       "    AZLvLAZ                                     genius_counter  \\\n",
       "0  0.864487  {'sauce': 18, 'it': 32, 'up': 36, 'ayy': 7, 'g...   \n",
       "1  0.998789  {'barb': 1, 'wire': 1, 'fence': 1, 'carve': 1,...   \n",
       "2  0.996477  {'well': 2, 'come': 9, 'on': 9, 'all': 1, 'you...   \n",
       "3  0.000000  {'here': 3, 'they': 3, 'come': 3, 'warm': 2, '...   \n",
       "4  0.991220  {'you': 7, 'need': 1, 'hand': 2, 'rough': 1, '...   \n",
       "\n",
       "                                   az_lyrics_counter  \\\n",
       "0  {'sauce': 18, 'it': 32, 'up': 36, 'ayy': 7, 'i...   \n",
       "1  {'barb': 1, 'wire': 1, 'fence': 1, 'carve': 1,...   \n",
       "2  {'well': 2, 'come': 10, 'on': 11, 'all': 1, 'y...   \n",
       "3                                                 {}   \n",
       "4  {'you': 7, 'need': 1, 'hand': 2, 'rough': 1, '...   \n",
       "\n",
       "                                   lyrics_az_counter  \\\n",
       "0  {'sauce': 12, 'it': 28, 'up': 24, 'aye': 6, 'g...   \n",
       "1  {'barb': 1, 'wire': 1, 'fence': 1, 'carve': 1,...   \n",
       "2  {'well': 2, 'come': 10, 'on': 11, 'all': 1, 'y...   \n",
       "3  {'here': 3, 'they': 3, 'come': 3, 'warm': 2, '...   \n",
       "4  {'you': 7, 'need': 1, 'hand': 2, 'rough': 1, '...   \n",
       "\n",
       "                                      word_intersect  \\\n",
       "0  [let, okay, say, on, harley, brrr, woo, cardi,...   \n",
       "1  [let, feel, we're, today, grey, on, song, hear...   \n",
       "2  [people, let, can, alright, satisfy, feel, giv...   \n",
       "3  [let, feel, dog, today, how, hear, on, come, r...   \n",
       "4  [let, gator, tenni, move, come, way, muscle, t...   \n",
       "\n",
       "                              word_intersect_counter  \n",
       "0  {'let': 2.0, 'okay': 1.0, 'say': 2.0, 'on': 4....  \n",
       "1  {'let': 1.0, 'feel': 11.0, 'we're': 1.0, 'toda...  \n",
       "2  {'people': 1.0, 'let': 8.0, 'can': 2.0, 'alrig...  \n",
       "3  {'let': 2.0, 'feel': 1.0, 'dog': 4.0, 'today':...  \n",
       "4  {'let': 1.0, 'gator': 1.0, 'tenni': 1.0, 'move...  "
      ]
     },
     "execution_count": 21,
     "metadata": {},
     "output_type": "execute_result"
    }
   ],
   "source": [
    "lyrics_master = pickle.load(open(\"../data/lyrics_master.pickle\", 'rb'))\n",
    "lyrics_master.head()"
   ]
  },
  {
   "cell_type": "markdown",
   "metadata": {},
   "source": [
    "#### Since azlyrics and lyricsaz lyrics scraping are customized for each website. For simplicity and readability, only genius scraping is presented here. (The final dataframe for lyricsaz and azlyrics are of the same structure as genius dataframe shown above"
   ]
  },
  {
   "cell_type": "code",
   "execution_count": null,
   "metadata": {},
   "outputs": [],
   "source": []
  },
  {
   "cell_type": "code",
   "execution_count": null,
   "metadata": {},
   "outputs": [],
   "source": []
  },
  {
   "cell_type": "code",
   "execution_count": null,
   "metadata": {},
   "outputs": [],
   "source": []
  }
 ],
 "metadata": {
  "kernelspec": {
   "display_name": "Python 3",
   "language": "python",
   "name": "python3"
  },
  "language_info": {
   "codemirror_mode": {
    "name": "ipython",
    "version": 3
   },
   "file_extension": ".py",
   "mimetype": "text/x-python",
   "name": "python",
   "nbconvert_exporter": "python",
   "pygments_lexer": "ipython3",
   "version": "3.6.4"
  }
 },
 "nbformat": 4,
 "nbformat_minor": 2
}
