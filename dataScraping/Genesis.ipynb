{
 "cells": [
  {
   "cell_type": "code",
   "execution_count": 18,
   "metadata": {
    "collapsed": true
   },
   "outputs": [],
   "source": [
    "import pandas as pd\n",
    "import numpy as np\n",
    "import requests\n",
    "import json\n",
    "import pickle\n",
    "import collections\n",
    "from bs4 import BeautifulSoup\n",
    "import multiprocessing\n",
    "from time import sleep\n",
    "from Levenshtein import ratio"
   ]
  },
  {
   "cell_type": "code",
   "execution_count": 2,
   "metadata": {
    "collapsed": true
   },
   "outputs": [
    {
     "data": {
      "text/plain": [
       "27949"
      ]
     },
     "execution_count": 2,
     "metadata": {},
     "output_type": "execute_result"
    }
   ],
   "source": [
    "BB = pd.read_csv(\"../data/Hot Stuff.csv\")\n",
    "songs = BB[\"SongID\"]; performer = BB[\"Performer\"]\n",
    "song_performer_pair = list(BB.groupby([\"Performer\", \"Song\"]).count().index)\n",
    "len(song_performer_pair)"
   ]
  },
  {
   "cell_type": "code",
   "execution_count": 3,
   "metadata": {
    "collapsed": true
   },
   "outputs": [],
   "source": [
    "client_id = \"HYxx-SDO43-ap9RUVgD9nNRuz-kmhQw9W-TeCtA4NdmWbLYQUvkCmmcOlNzsdzRE\"\n",
    "client_secred = \"2xRkeAd2SDvMLXbkScUzLCZvOPxYXcsdQeiDqhrax-kzxpFkO3fKI4HEKeD5aDlXnYnja7pwYQ9BkMoDvl6ipw\"\n",
    "token = \"dxvLAG0Jhx6B01DK9pLzusCIFlboFV996sOvwEAPQbON-MUPz2vLgu9_z7u-hODo\"\n",
    "headers = {'Authorization': \"Bearer \" + token}\n",
    "base_url = \"http://api.genius.com\"\n",
    "search_url = base_url + \"/search\""
   ]
  },
  {
   "cell_type": "code",
   "execution_count": 4,
   "metadata": {},
   "outputs": [],
   "source": [
    "def reformat_aritst_song(artist, song):\n",
    "    if \"Featuring\" in artist:\n",
    "        artist = artist.split(\"Featuring\")[0].strip()\n",
    "    if \"Feat.\" in artist:\n",
    "        artist = artist.split(\"Feat.\")[0].strip()\n",
    "    if \"featuring\" in artist:\n",
    "        artist = artist.split(\"featuring\")[0].strip()\n",
    "    if \"&\" in artist:\n",
    "        artist = artist.split(\"&\")[0].strip()\n",
    "    if \"and\" in artist:\n",
    "        artist = artist.split(\"and\")[0].strip()\n",
    "    if \"And\" in artist:\n",
    "        artist = artist.split(\"And\")[0].strip()\n",
    "    if \"With\" in artist:\n",
    "        artist = artist.split(\"With\")[0].strip()\n",
    "    if \"with\" in artist:\n",
    "        artist = artist.split(\"with\")[0].strip()\n",
    "    if \"The\" in artist:\n",
    "        artist = artist.split(\"The\")[0].strip()\n",
    "    if \"the\" in artist:\n",
    "        artist = artist.split(\"the\")[0].strip()\n",
    "    if \"(\" in artist:\n",
    "        artist = artist.split(\"(\")[0].strip()\n",
    "    return [artist, song]"
   ]
  },
  {
   "cell_type": "code",
   "execution_count": 64,
   "metadata": {},
   "outputs": [],
   "source": [
    "song_title = \"Hey, Little Girl\"\n",
    "artist_name = 'Foster Sylvers'\n",
    "params = {'q': song_title + \" by \" + artist_name}\n",
    "response = requests.get(search_url, params=params, headers=headers).json()"
   ]
  },
  {
   "cell_type": "code",
   "execution_count": 56,
   "metadata": {},
   "outputs": [],
   "source": [
    "searchurl = \"https://genius.com/Foster-sylvers-hey-little-girl-lyrics\"\n",
    "response = requests.get(searchurl)"
   ]
  },
  {
   "cell_type": "code",
   "execution_count": 57,
   "metadata": {},
   "outputs": [],
   "source": [
    "html = BeautifulSoup(response.text, \"html.parser\")"
   ]
  },
  {
   "cell_type": "code",
   "execution_count": 63,
   "metadata": {},
   "outputs": [
    {
     "ename": "SyntaxError",
     "evalue": "EOL while scanning string literal (<ipython-input-63-02e6b17f29b2>, line 1)",
     "output_type": "error",
     "traceback": [
      "\u001b[0;36m  File \u001b[0;32m\"<ipython-input-63-02e6b17f29b2>\"\u001b[0;36m, line \u001b[0;32m1\u001b[0m\n\u001b[0;31m    html.find(\"div\", class_=\"lyrics)\u001b[0m\n\u001b[0m                                    ^\u001b[0m\n\u001b[0;31mSyntaxError\u001b[0m\u001b[0;31m:\u001b[0m EOL while scanning string literal\n"
     ]
    }
   ],
   "source": [
    "html.find(\"div\", class_=\"lyrics)"
   ]
  },
  {
   "cell_type": "code",
   "execution_count": 40,
   "metadata": {},
   "outputs": [
    {
     "name": "stdout",
     "output_type": "stream",
     "text": [
      "title:  Slow Down,    artist:  Krizz Kaliko\n",
      "title:  Home Alone,    artist:  John Hughes\n",
      "title:  Brave New World (Chapter 3),    artist:  Aldous Huxley\n",
      "title:  Pulp Fiction full screenplay,    artist:  Quentin Tarantino\n",
      "title:  Boogie Nights Screenplay,    artist:  Paul Thomas Anderson\n",
      "title:  Winter Dreams,    artist:  F. Scott Fitzgerald\n",
      "title:  Bliss.,    artist:  Katherine Mansfield\n",
      "title:  Wonder Tales from Scottish Myth and Legend - Chapter XIV: Exiles from Fairyland,    artist:  Donald Alexander Mackenzie\n",
      "title:  Week 7 Reading Journal,    artist:  Iris Venture-Ayala\n"
     ]
    }
   ],
   "source": [
    "for hit in response[\"response\"][\"hits\"]:\n",
    "    print(\"title:  {},    artist:  {}\".format(hit[\"result\"][\"title\"], hit[\"result\"][\"primary_artist\"][\"name\"]))"
   ]
  },
  {
   "cell_type": "code",
   "execution_count": 10,
   "metadata": {
    "collapsed": true
   },
   "outputs": [],
   "source": [
    "def get_lyrics(i):\n",
    "#     artist_name, song_title = song_performer_pair[i]\n",
    "    artist_name, song_title = song_pair_missing[i]\n",
    "    artist_name_reformatted, song_title_reformatted = artist_name, song_title\n",
    "    params = {'q': song_title.lower() + \" \" + artist_name.lower()}\n",
    "#     params = {'q': song_title.lower()}\n",
    "    try:\n",
    "        if i%1000 == 0:\n",
    "            print(i)\n",
    "        response = requests.get(search_url, params=params, headers=headers).json()\n",
    "        song_info = False\n",
    "        for hit in response[\"response\"][\"hits\"]:\n",
    "            if len(set(hit[\"result\"][\"primary_artist\"][\"name\"].lower().split(\" \")).intersection(set(artist_name.lower().split(\" \")))) != 0:\n",
    "                song_info = hit\n",
    "                break\n",
    "        if not song_info:\n",
    "            artist_name_reformatted, song_title = reformat_aritst_song(artist_name, song_title)\n",
    "            params = {'q': song_title.lower() + \" \" + artist_name_reformatted.lower()}\n",
    "            response = requests.get(search_url, params=params, headers=headers).json()\n",
    "            for hit in response[\"response\"][\"hits\"]:\n",
    "                if len(set(hit[\"result\"][\"primary_artist\"][\"name\"].lower().split(\" \")).intersection(set(artist_name.lower().split(\" \")))) != 0:\n",
    "                    song_info = hit\n",
    "                    break\n",
    "        if song_info:\n",
    "            song_api_path = song_info[\"result\"][\"api_path\"]\n",
    "            song_url = base_url + song_api_path\n",
    "            response = requests.get(song_url, headers=headers).json()\n",
    "            path = response[\"response\"][\"song\"][\"path\"]\n",
    "            page_url = \"http://genius.com\" + path\n",
    "            page = requests.get(page_url)\n",
    "            html = BeautifulSoup(page.text, \"html.parser\")\n",
    "            [h.extract() for h in html('script')]\n",
    "            lyrics = html.find(\"div\", class_=\"lyrics\").get_text()\n",
    "            return [artist_name, song_title, [i for i in lyrics.split(\"\\n\") if i != \"\"], page_url]\n",
    "        else:\n",
    "            return [False, artist_name, song_title, None]\n",
    "    except Exception as e:\n",
    "        print(e)\n",
    "        print(\"Site thinks im tryna DDOS, lol\")\n",
    "        sleep(np.random.random()*10)\n",
    "        return get_lyrics(i)"
   ]
  },
  {
   "cell_type": "code",
   "execution_count": 6,
   "metadata": {},
   "outputs": [
    {
     "name": "stdout",
     "output_type": "stream",
     "text": [
      "0\n",
      "1000\n",
      "2000\n",
      "3000\n",
      "4000\n",
      "5000\n",
      "6000\n",
      "7000\n",
      "8000\n",
      "9000\n",
      "10000\n",
      "11000\n",
      "12000\n",
      "13000\n",
      "14000\n",
      "15000\n",
      "16000\n",
      "17000\n",
      "18000\n",
      "19000\n",
      "20000\n",
      "21000\n",
      "22000\n",
      "23000\n",
      "24000\n",
      "Expecting value: line 1 column 1 (char 0)\n",
      "Site thinks im tryna DDOS, lol\n",
      "25000\n",
      "26000\n",
      "27000\n"
     ]
    }
   ],
   "source": [
    "art_song_lyrics = collections.defaultdict(dict)\n",
    "missing_artists_song = collections.defaultdict(set)\n",
    "with multiprocessing.Pool(processes=multiprocessing.cpu_count()*16) as pool:\n",
    "    try:\n",
    "        for suc,val1,val2 in pool.imap_unordered(get_lyrics, range(len(song_performer_pair))):\n",
    "            if type(suc) == str:\n",
    "                art_song_lyrics[suc][val1] = val2\n",
    "            else:\n",
    "                missing_artists_song[val1].add(val2)\n",
    "    except Exception as e:\n",
    "        print(e)"
   ]
  },
  {
   "cell_type": "code",
   "execution_count": 6,
   "metadata": {},
   "outputs": [],
   "source": [
    "missing_artists_song = pickle.loads(open(\"../data/pickle/Genius_missing4.pickle\", \"rb\").read())\n",
    "art_song_lyrics = pickle.loads(open(\"../data/pickle/Genius_found4.pickle\", \"rb\").read()) "
   ]
  },
  {
   "cell_type": "code",
   "execution_count": 7,
   "metadata": {
    "collapsed": true
   },
   "outputs": [],
   "source": [
    "temp = {}\n",
    "for i in list(missing_artists_song.keys()):\n",
    "    temp[i] = list(missing_artists_song[i])"
   ]
  },
  {
   "cell_type": "code",
   "execution_count": 8,
   "metadata": {},
   "outputs": [
    {
     "name": "stdout",
     "output_type": "stream",
     "text": [
      "No. Found Song Pair:  24534\n",
      "No. Missing Song Pair:  3415\n"
     ]
    }
   ],
   "source": [
    "Genius_artist_song_pair = [[i, j] for i in art_song_lyrics.keys() for j in art_song_lyrics[i].keys() ]\n",
    "song_pair_missing = [[i, j] for i in list(missing_artists_song.keys()) for j in list(missing_artists_song[i])]\n",
    "print(\"No. Found Song Pair:  {}\".format(len(Genius_artist_song_pair)))\n",
    "print(\"No. Missing Song Pair:  {}\".format(len(song_pair_missing)))\n",
    "assert(len(Genius_artist_song_pair) + len(song_pair_missing) == len(song_performer_pair))"
   ]
  },
  {
   "cell_type": "code",
   "execution_count": 15,
   "metadata": {},
   "outputs": [],
   "source": [
    "# pickle.dump(art_song_lyrics, open(\"../data/pickle/Genius_found4.pickle\", \"wb\"))\n",
    "# pickle.dump(temp, open(\"../data/pickle/Genius_missing4.pickle\", \"wb\"))"
   ]
  },
  {
   "cell_type": "code",
   "execution_count": 14,
   "metadata": {},
   "outputs": [],
   "source": [
    "# jdata = json.dumps(temp)\n",
    "# output_file = open(\"../data/json/Genius_missing2.json\",\"w+\")\n",
    "# output_file.write(jdata)\n",
    "# output_file.close()\n",
    "\n",
    "# jdata = json.dumps(art_song_lyrics)\n",
    "# output_file = open(\"../data/json/Genius_data2.json\",\"w+\")\n",
    "# output_file.write(jdata)\n",
    "# output_file.close()"
   ]
  },
  {
   "cell_type": "code",
   "execution_count": 9,
   "metadata": {},
   "outputs": [
    {
     "data": {
      "text/plain": [
       "[('The', 313),\n",
       " ('&', 189),\n",
       " ('Featuring', 113),\n",
       " ('And', 102),\n",
       " ('His', 48),\n",
       " ('Orchestra', 46),\n",
       " ('and', 42),\n",
       " ('Bobby', 38),\n",
       " ('Band', 37),\n",
       " ('With', 32),\n",
       " ('Johnny', 30),\n",
       " ('Joe', 28),\n",
       " ('Billy', 26),\n",
       " ('Of', 23),\n",
       " ('Lee', 23),\n",
       " ('Jimmy', 22),\n",
       " ('Brown', 21),\n",
       " ('Paul', 19),\n",
       " ('Ray', 18),\n",
       " ('John', 17)]"
      ]
     },
     "execution_count": 9,
     "metadata": {},
     "output_type": "execute_result"
    }
   ],
   "source": [
    "collections.Counter([j for i in list(missing_artists_song.keys()) for j in i.split(\" \")]).most_common(20)"
   ]
  },
  {
   "cell_type": "code",
   "execution_count": 10,
   "metadata": {},
   "outputs": [],
   "source": [
    "missing_artists_song_old = dict(missing_artists_song)"
   ]
  },
  {
   "cell_type": "code",
   "execution_count": 11,
   "metadata": {},
   "outputs": [
    {
     "name": "stdout",
     "output_type": "stream",
     "text": [
      "0\n",
      "1000\n",
      "2000\n",
      "3000\n"
     ]
    }
   ],
   "source": [
    "missing_artists_song = collections.defaultdict(set)\n",
    "new_added = collections.defaultdict(dict)\n",
    "with multiprocessing.Pool(processes=multiprocessing.cpu_count()*16) as pool:\n",
    "    try:\n",
    "        for suc,val1,val2, val3 in pool.imap_unordered(get_lyrics, range(len(song_pair_missing))):\n",
    "            if type(suc) == str:\n",
    "                art_song_lyrics[suc][val1] = val2\n",
    "                new_added[suc][val1] = {\"lyrics\":  val2, \"url\": val3}\n",
    "            else:\n",
    "                missing_artists_song[val1].add(val2)\n",
    "    except Exception as e:\n",
    "        print(e)"
   ]
  },
  {
   "cell_type": "code",
   "execution_count": 12,
   "metadata": {},
   "outputs": [
    {
     "name": "stdout",
     "output_type": "stream",
     "text": [
      "3409\n"
     ]
    }
   ],
   "source": [
    "song_pair_missing_2 = [[i, j] for i in list(missing_artists_song.keys()) for j in list(missing_artists_song[i])]\n",
    "print(len(song_pair_missing_2))"
   ]
  },
  {
   "cell_type": "code",
   "execution_count": 4,
   "metadata": {},
   "outputs": [],
   "source": [
    "genius_data = json.loads(open('./Genesis_data.json').read())"
   ]
  },
  {
   "cell_type": "code",
   "execution_count": 5,
   "metadata": {
    "collapsed": true
   },
   "outputs": [],
   "source": [
    "lyric_l = []\n",
    "genius_data['\"Weird Al\" Yankovic']\n",
    "for art in genius_data:\n",
    "    for song in genius_data[art]:\n",
    "        lyrics = \"\\n\".join(genius_data[art][song])\n",
    "        lyric_l.append([art,song,lyrics])"
   ]
  },
  {
   "cell_type": "code",
   "execution_count": 6,
   "metadata": {},
   "outputs": [
    {
     "data": {
      "text/html": [
       "<div>\n",
       "<style scoped>\n",
       "    .dataframe tbody tr th:only-of-type {\n",
       "        vertical-align: middle;\n",
       "    }\n",
       "\n",
       "    .dataframe tbody tr th {\n",
       "        vertical-align: top;\n",
       "    }\n",
       "\n",
       "    .dataframe thead th {\n",
       "        text-align: right;\n",
       "    }\n",
       "</style>\n",
       "<table border=\"1\" class=\"dataframe\">\n",
       "  <thead>\n",
       "    <tr style=\"text-align: right;\">\n",
       "      <th></th>\n",
       "      <th>Artist</th>\n",
       "      <th>Song</th>\n",
       "      <th>Lyrics</th>\n",
       "    </tr>\n",
       "  </thead>\n",
       "  <tbody>\n",
       "    <tr>\n",
       "      <th>0</th>\n",
       "      <td>\"Weird Al\" Yankovic</td>\n",
       "      <td>Canadian Idiot</td>\n",
       "      <td>[Verse 1]\\nDon't wanna be a Canadian idiot\\nDo...</td>\n",
       "    </tr>\n",
       "    <tr>\n",
       "      <th>1</th>\n",
       "      <td>\"Weird Al\" Yankovic</td>\n",
       "      <td>Like A Surgeon</td>\n",
       "      <td>I finally made it through med school\\nSomehow ...</td>\n",
       "    </tr>\n",
       "    <tr>\n",
       "      <th>2</th>\n",
       "      <td>\"Weird Al\" Yankovic</td>\n",
       "      <td>Amish Paradise</td>\n",
       "      <td>[Verse 1]\\nAs I walk through the valley where ...</td>\n",
       "    </tr>\n",
       "    <tr>\n",
       "      <th>3</th>\n",
       "      <td>\"Weird Al\" Yankovic</td>\n",
       "      <td>Eat It</td>\n",
       "      <td>[Verse 1:]\\nHow come you're always such a fuss...</td>\n",
       "    </tr>\n",
       "    <tr>\n",
       "      <th>4</th>\n",
       "      <td>\"Weird Al\" Yankovic</td>\n",
       "      <td>Ricky</td>\n",
       "      <td>[Ricky]\\nHey Lucy, I'm home\\n[Lucy]\\nOh Ricky,...</td>\n",
       "    </tr>\n",
       "  </tbody>\n",
       "</table>\n",
       "</div>"
      ],
      "text/plain": [
       "                Artist            Song  \\\n",
       "0  \"Weird Al\" Yankovic  Canadian Idiot   \n",
       "1  \"Weird Al\" Yankovic  Like A Surgeon   \n",
       "2  \"Weird Al\" Yankovic  Amish Paradise   \n",
       "3  \"Weird Al\" Yankovic          Eat It   \n",
       "4  \"Weird Al\" Yankovic           Ricky   \n",
       "\n",
       "                                              Lyrics  \n",
       "0  [Verse 1]\\nDon't wanna be a Canadian idiot\\nDo...  \n",
       "1  I finally made it through med school\\nSomehow ...  \n",
       "2  [Verse 1]\\nAs I walk through the valley where ...  \n",
       "3  [Verse 1:]\\nHow come you're always such a fuss...  \n",
       "4  [Ricky]\\nHey Lucy, I'm home\\n[Lucy]\\nOh Ricky,...  "
      ]
     },
     "execution_count": 6,
     "metadata": {},
     "output_type": "execute_result"
    }
   ],
   "source": [
    "genius_df = pd.DataFrame(data=lyric_l,columns=[\"Artist\",\"Song\",\"Lyrics\"])\n",
    "genius_df.head()"
   ]
  },
  {
   "cell_type": "code",
   "execution_count": 13,
   "metadata": {},
   "outputs": [
    {
     "data": {
      "text/plain": [
       "(23454, 3)"
      ]
     },
     "execution_count": 13,
     "metadata": {},
     "output_type": "execute_result"
    }
   ],
   "source": [
    "genius_df.shape"
   ]
  },
  {
   "cell_type": "code",
   "execution_count": 7,
   "metadata": {
    "collapsed": true
   },
   "outputs": [],
   "source": [
    "import re\n",
    "list_of_words = lambda ly : \" \".join(re.split(r\"\\[[\\s\\S]*?\\]|[^\\w'\\\\-]|\\s\",ly.lower())).split()\n",
    "from collections import Counter\n",
    "bags = [Counter(list_of_words(ly)) for ly in genius_df[\"Lyrics\"]]"
   ]
  },
  {
   "cell_type": "code",
   "execution_count": 8,
   "metadata": {
    "collapsed": true
   },
   "outputs": [],
   "source": [
    "lists = [list_of_words(ly) for ly in genius_df[\"Lyrics\"]]"
   ]
  },
  {
   "cell_type": "code",
   "execution_count": 9,
   "metadata": {
    "collapsed": true
   },
   "outputs": [],
   "source": [
    "genius_df[\"Bag\"] = bags\n",
    "genius_df[\"List\"] = lists"
   ]
  },
  {
   "cell_type": "code",
   "execution_count": 10,
   "metadata": {},
   "outputs": [
    {
     "data": {
      "text/html": [
       "<div>\n",
       "<style scoped>\n",
       "    .dataframe tbody tr th:only-of-type {\n",
       "        vertical-align: middle;\n",
       "    }\n",
       "\n",
       "    .dataframe tbody tr th {\n",
       "        vertical-align: top;\n",
       "    }\n",
       "\n",
       "    .dataframe thead th {\n",
       "        text-align: right;\n",
       "    }\n",
       "</style>\n",
       "<table border=\"1\" class=\"dataframe\">\n",
       "  <thead>\n",
       "    <tr style=\"text-align: right;\">\n",
       "      <th></th>\n",
       "      <th>Artist</th>\n",
       "      <th>Song</th>\n",
       "      <th>Lyrics</th>\n",
       "      <th>Bag</th>\n",
       "      <th>List</th>\n",
       "    </tr>\n",
       "  </thead>\n",
       "  <tbody>\n",
       "    <tr>\n",
       "      <th>0</th>\n",
       "      <td>\"Weird Al\" Yankovic</td>\n",
       "      <td>Canadian Idiot</td>\n",
       "      <td>[Verse 1]\\nDon't wanna be a Canadian idiot\\nDo...</td>\n",
       "      <td>{'don't': 3, 'wanna': 3, 'be': 3, 'a': 7, 'can...</td>\n",
       "      <td>[don't, wanna, be, a, canadian, idiot, don't, ...</td>\n",
       "    </tr>\n",
       "    <tr>\n",
       "      <th>1</th>\n",
       "      <td>\"Weird Al\" Yankovic</td>\n",
       "      <td>Like A Surgeon</td>\n",
       "      <td>I finally made it through med school\\nSomehow ...</td>\n",
       "      <td>{'i': 7, 'finally': 1, 'made': 2, 'it': 2, 'th...</td>\n",
       "      <td>[i, finally, made, it, through, med, school, s...</td>\n",
       "    </tr>\n",
       "    <tr>\n",
       "      <th>2</th>\n",
       "      <td>\"Weird Al\" Yankovic</td>\n",
       "      <td>Amish Paradise</td>\n",
       "      <td>[Verse 1]\\nAs I walk through the valley where ...</td>\n",
       "      <td>{'as': 5, 'i': 14, 'walk': 1, 'through': 1, 't...</td>\n",
       "      <td>[as, i, walk, through, the, valley, where, i, ...</td>\n",
       "    </tr>\n",
       "    <tr>\n",
       "      <th>3</th>\n",
       "      <td>\"Weird Al\" Yankovic</td>\n",
       "      <td>Eat It</td>\n",
       "      <td>[Verse 1:]\\nHow come you're always such a fuss...</td>\n",
       "      <td>{'how': 1, 'come': 1, 'you're': 5, 'always': 1...</td>\n",
       "      <td>[how, come, you're, always, such, a, fussy, yo...</td>\n",
       "    </tr>\n",
       "    <tr>\n",
       "      <th>4</th>\n",
       "      <td>\"Weird Al\" Yankovic</td>\n",
       "      <td>Ricky</td>\n",
       "      <td>[Ricky]\\nHey Lucy, I'm home\\n[Lucy]\\nOh Ricky,...</td>\n",
       "      <td>{'hey': 10, 'lucy': 17, 'i'm': 5, 'home': 1, '...</td>\n",
       "      <td>[hey, lucy, i'm, home, oh, ricky, you're, so, ...</td>\n",
       "    </tr>\n",
       "  </tbody>\n",
       "</table>\n",
       "</div>"
      ],
      "text/plain": [
       "                Artist            Song  \\\n",
       "0  \"Weird Al\" Yankovic  Canadian Idiot   \n",
       "1  \"Weird Al\" Yankovic  Like A Surgeon   \n",
       "2  \"Weird Al\" Yankovic  Amish Paradise   \n",
       "3  \"Weird Al\" Yankovic          Eat It   \n",
       "4  \"Weird Al\" Yankovic           Ricky   \n",
       "\n",
       "                                              Lyrics  \\\n",
       "0  [Verse 1]\\nDon't wanna be a Canadian idiot\\nDo...   \n",
       "1  I finally made it through med school\\nSomehow ...   \n",
       "2  [Verse 1]\\nAs I walk through the valley where ...   \n",
       "3  [Verse 1:]\\nHow come you're always such a fuss...   \n",
       "4  [Ricky]\\nHey Lucy, I'm home\\n[Lucy]\\nOh Ricky,...   \n",
       "\n",
       "                                                 Bag  \\\n",
       "0  {'don't': 3, 'wanna': 3, 'be': 3, 'a': 7, 'can...   \n",
       "1  {'i': 7, 'finally': 1, 'made': 2, 'it': 2, 'th...   \n",
       "2  {'as': 5, 'i': 14, 'walk': 1, 'through': 1, 't...   \n",
       "3  {'how': 1, 'come': 1, 'you're': 5, 'always': 1...   \n",
       "4  {'hey': 10, 'lucy': 17, 'i'm': 5, 'home': 1, '...   \n",
       "\n",
       "                                                List  \n",
       "0  [don't, wanna, be, a, canadian, idiot, don't, ...  \n",
       "1  [i, finally, made, it, through, med, school, s...  \n",
       "2  [as, i, walk, through, the, valley, where, i, ...  \n",
       "3  [how, come, you're, always, such, a, fussy, yo...  \n",
       "4  [hey, lucy, i'm, home, oh, ricky, you're, so, ...  "
      ]
     },
     "execution_count": 10,
     "metadata": {},
     "output_type": "execute_result"
    }
   ],
   "source": [
    "genius_df.head()"
   ]
  },
  {
   "cell_type": "code",
   "execution_count": 11,
   "metadata": {},
   "outputs": [
    {
     "data": {
      "text/plain": [
       "153645"
      ]
     },
     "execution_count": 11,
     "metadata": {},
     "output_type": "execute_result"
    }
   ],
   "source": [
    "from collections import defaultdict\n",
    "big_word_bag = defaultdict(int)\n",
    "for ls in genius_df[\"List\"]:\n",
    "    for word in ls:\n",
    "        big_word_bag[word]+=1\n",
    "len(big_word_bag)"
   ]
  },
  {
   "cell_type": "code",
   "execution_count": 14,
   "metadata": {},
   "outputs": [],
   "source": [
    "sorted_words = sorted(big_word_bag,key=lambda w: big_word_bag[w],reverse=True)"
   ]
  },
  {
   "cell_type": "code",
   "execution_count": 15,
   "metadata": {},
   "outputs": [
    {
     "name": "stdout",
     "output_type": "stream",
     "text": [
      "0 the 0\n",
      "1 i 0\n",
      "2 you 0\n",
      "3 and 0\n",
      "4 to 0\n",
      "5 a 0\n",
      "6 of 0\n",
      "7 in 0\n",
      "8 it 0\n",
      "9 me 0\n",
      "10 that 0\n",
      "11 my 0\n",
      "12 on 0\n",
      "13 is 0\n",
      "14 for 0\n",
      "15 be 0\n",
      "16 your 0\n",
      "17 with 0\n",
      "18 all 0\n",
      "19 i'm 0\n"
     ]
    }
   ],
   "source": [
    "for i in range(20):\n",
    "    print(i,sorted_words[i],big_word_bag[])"
   ]
  }
 ],
 "metadata": {
  "kernelspec": {
   "display_name": "Python 3",
   "language": "python",
   "name": "python3"
  },
  "language_info": {
   "codemirror_mode": {
    "name": "ipython",
    "version": 3
   },
   "file_extension": ".py",
   "mimetype": "text/x-python",
   "name": "python",
   "nbconvert_exporter": "python",
   "pygments_lexer": "ipython3",
   "version": "3.6.4"
  }
 },
 "nbformat": 4,
 "nbformat_minor": 2
}
