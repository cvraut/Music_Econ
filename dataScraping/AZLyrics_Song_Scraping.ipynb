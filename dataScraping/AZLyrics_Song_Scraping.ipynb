{
 "cells": [
  {
   "cell_type": "code",
   "execution_count": 1,
   "metadata": {},
   "outputs": [],
   "source": [
    "from json import dumps,loads\n",
    "import pandas as pd\n",
    "from collections import defaultdict"
   ]
  },
  {
   "cell_type": "code",
   "execution_count": 2,
   "metadata": {},
   "outputs": [
    {
     "data": {
      "text/html": [
       "<div>\n",
       "<style scoped>\n",
       "    .dataframe tbody tr th:only-of-type {\n",
       "        vertical-align: middle;\n",
       "    }\n",
       "\n",
       "    .dataframe tbody tr th {\n",
       "        vertical-align: top;\n",
       "    }\n",
       "\n",
       "    .dataframe thead th {\n",
       "        text-align: right;\n",
       "    }\n",
       "</style>\n",
       "<table border=\"1\" class=\"dataframe\">\n",
       "  <thead>\n",
       "    <tr style=\"text-align: right;\">\n",
       "      <th></th>\n",
       "      <th>url</th>\n",
       "      <th>WeekID</th>\n",
       "      <th>Week Position</th>\n",
       "      <th>Song</th>\n",
       "      <th>Performer</th>\n",
       "      <th>SongID</th>\n",
       "      <th>Instance</th>\n",
       "      <th>Previous Week Position</th>\n",
       "      <th>Peak Position</th>\n",
       "      <th>Weeks on Chart</th>\n",
       "    </tr>\n",
       "  </thead>\n",
       "  <tbody>\n",
       "    <tr>\n",
       "      <th>0</th>\n",
       "      <td>http://www.billboard.com/charts/hot-100/2012-1...</td>\n",
       "      <td>12/15/2012</td>\n",
       "      <td>21</td>\n",
       "      <td>Don't You Worry Child</td>\n",
       "      <td>Swedish House Mafia Featuring John Martin</td>\n",
       "      <td>Don't You Worry ChildSwedish House Mafia Featu...</td>\n",
       "      <td>1</td>\n",
       "      <td>28.0</td>\n",
       "      <td>21</td>\n",
       "      <td>11</td>\n",
       "    </tr>\n",
       "    <tr>\n",
       "      <th>1</th>\n",
       "      <td>http://www.billboard.com/charts/hot-100/2012-1...</td>\n",
       "      <td>12/22/2012</td>\n",
       "      <td>14</td>\n",
       "      <td>Don't You Worry Child</td>\n",
       "      <td>Swedish House Mafia Featuring John Martin</td>\n",
       "      <td>Don't You Worry ChildSwedish House Mafia Featu...</td>\n",
       "      <td>1</td>\n",
       "      <td>21.0</td>\n",
       "      <td>14</td>\n",
       "      <td>12</td>\n",
       "    </tr>\n",
       "    <tr>\n",
       "      <th>2</th>\n",
       "      <td>http://www.billboard.com/charts/hot-100/2012-1...</td>\n",
       "      <td>12/29/2012</td>\n",
       "      <td>12</td>\n",
       "      <td>Don't You Worry Child</td>\n",
       "      <td>Swedish House Mafia Featuring John Martin</td>\n",
       "      <td>Don't You Worry ChildSwedish House Mafia Featu...</td>\n",
       "      <td>1</td>\n",
       "      <td>14.0</td>\n",
       "      <td>12</td>\n",
       "      <td>13</td>\n",
       "    </tr>\n",
       "    <tr>\n",
       "      <th>3</th>\n",
       "      <td>http://www.billboard.com/charts/hot-100/2013-0...</td>\n",
       "      <td>1/5/2013</td>\n",
       "      <td>11</td>\n",
       "      <td>Don't You Worry Child</td>\n",
       "      <td>Swedish House Mafia Featuring John Martin</td>\n",
       "      <td>Don't You Worry ChildSwedish House Mafia Featu...</td>\n",
       "      <td>1</td>\n",
       "      <td>12.0</td>\n",
       "      <td>11</td>\n",
       "      <td>14</td>\n",
       "    </tr>\n",
       "    <tr>\n",
       "      <th>4</th>\n",
       "      <td>http://www.billboard.com/charts/hot-100/2013-0...</td>\n",
       "      <td>1/12/2013</td>\n",
       "      <td>15</td>\n",
       "      <td>Don't You Worry Child</td>\n",
       "      <td>Swedish House Mafia Featuring John Martin</td>\n",
       "      <td>Don't You Worry ChildSwedish House Mafia Featu...</td>\n",
       "      <td>1</td>\n",
       "      <td>11.0</td>\n",
       "      <td>11</td>\n",
       "      <td>15</td>\n",
       "    </tr>\n",
       "  </tbody>\n",
       "</table>\n",
       "</div>"
      ],
      "text/plain": [
       "                                                 url      WeekID  \\\n",
       "0  http://www.billboard.com/charts/hot-100/2012-1...  12/15/2012   \n",
       "1  http://www.billboard.com/charts/hot-100/2012-1...  12/22/2012   \n",
       "2  http://www.billboard.com/charts/hot-100/2012-1...  12/29/2012   \n",
       "3  http://www.billboard.com/charts/hot-100/2013-0...    1/5/2013   \n",
       "4  http://www.billboard.com/charts/hot-100/2013-0...   1/12/2013   \n",
       "\n",
       "   Week Position                   Song  \\\n",
       "0             21  Don't You Worry Child   \n",
       "1             14  Don't You Worry Child   \n",
       "2             12  Don't You Worry Child   \n",
       "3             11  Don't You Worry Child   \n",
       "4             15  Don't You Worry Child   \n",
       "\n",
       "                                   Performer  \\\n",
       "0  Swedish House Mafia Featuring John Martin   \n",
       "1  Swedish House Mafia Featuring John Martin   \n",
       "2  Swedish House Mafia Featuring John Martin   \n",
       "3  Swedish House Mafia Featuring John Martin   \n",
       "4  Swedish House Mafia Featuring John Martin   \n",
       "\n",
       "                                              SongID  Instance  \\\n",
       "0  Don't You Worry ChildSwedish House Mafia Featu...         1   \n",
       "1  Don't You Worry ChildSwedish House Mafia Featu...         1   \n",
       "2  Don't You Worry ChildSwedish House Mafia Featu...         1   \n",
       "3  Don't You Worry ChildSwedish House Mafia Featu...         1   \n",
       "4  Don't You Worry ChildSwedish House Mafia Featu...         1   \n",
       "\n",
       "   Previous Week Position  Peak Position  Weeks on Chart  \n",
       "0                    28.0             21              11  \n",
       "1                    21.0             14              12  \n",
       "2                    14.0             12              13  \n",
       "3                    12.0             11              14  \n",
       "4                    11.0             11              15  "
      ]
     },
     "execution_count": 2,
     "metadata": {},
     "output_type": "execute_result"
    }
   ],
   "source": [
    "BB_data = pd.read_csv(\"../data/Hot Stuff.csv\")\n",
    "BB_data.head()"
   ]
  },
  {
   "cell_type": "code",
   "execution_count": 3,
   "metadata": {},
   "outputs": [],
   "source": [
    "song_art = set()\n",
    "for i,r in BB_data.iterrows():\n",
    "    song_art.add((r['Song'],r['Performer']))"
   ]
  },
  {
   "cell_type": "code",
   "execution_count": 4,
   "metadata": {},
   "outputs": [],
   "source": [
    "from bs4 import BeautifulSoup\n",
    "import requests\n",
    "import re\n",
    "from time import sleep\n",
    "from random import random\n",
    "from Levenshtein import ratio"
   ]
  },
  {
   "cell_type": "code",
   "execution_count": 5,
   "metadata": {},
   "outputs": [],
   "source": [
    "def clean_art_name(art):\n",
    "    if \"Featuring\" in art:\n",
    "        art = art.split(\"Featuring\")[0].strip()\n",
    "    if \"Feat.\" in art:\n",
    "        art = art.split(\"Feat.\")[0].strip()\n",
    "    if \"featuring\" in art:\n",
    "        art = art.split(\"featuring\")[0].strip()\n",
    "    if \"&\" in art:\n",
    "        art = art.split(\"&\")[0].strip()\n",
    "    if \"and\" in art:\n",
    "        art = art.split(\"and\")[0].strip()\n",
    "    if \"And\" in art:\n",
    "        art = art.split(\"And\")[0].strip()\n",
    "    if \"With\" in art:\n",
    "        art = art.split(\"With\")[0].strip()\n",
    "    if \"with\" in art:\n",
    "        art = art.split(\"with\")[0].strip()\n",
    "    if \"(\" in art:\n",
    "        art = art.split(\"(\")[0].strip()\n",
    "    return art\n",
    "        \n",
    "def scrape(sa,debug=False):\n",
    "    s_name,a_name = sa\n",
    "    if debug:\n",
    "        print(s_name,a_name)\n",
    "    url = \"https://search.azlyrics.com/search.php\"\n",
    "    headers = {'Cache-Control':'no-cache'}\n",
    "    querystring = {\"q\":\"{} by {}\".format(s_name,a_name)}\n",
    "    try:\n",
    "        resp = requests.request(\"GET\",url,headers=headers,params=querystring)\n",
    "        if debug:\n",
    "            print(resp.text)\n",
    "\n",
    "        list_of_results_reg = r'''<div class=\"container main-page\">\\s*<div class=\"row\">\\s*<div class=\"col-xs-12 col-sm-10 col-sm-offset-1 col-md-8 col-md-offset-2 text-center\" style=\"padding-top: 20px;\">\\s*<div class=\"panel\">\\s*<div class=\"panel-heading\"><b>Song results:</b><br><small>\\[[\\s\\S]*\\]</small></div>\\s*<table class=\"table table-condensed\">\\s*([\\s\\S]+?)\\s*</table>\\s*</div>'''\n",
    "        m = re.search(list_of_results_reg, resp.text)\n",
    "        if not m:\n",
    "            if debug:\n",
    "                print(\"cleaning artist name\")\n",
    "            querystring = {\"q\":\"{} by {}\".format(s_name,clean_art_name(a_name))}\n",
    "            resp = requests.request(\"GET\",url,headers=headers,params=querystring)\n",
    "            m = re.search(list_of_results_reg, resp.text)\n",
    "        if m:\n",
    "            rows = m.group(1)\n",
    "            search_data_reg = r'''<tr><td class=\"text-left visitedlyr\">\\s*\\d{1,2}\\. <a href=\"(https://www\\.azlyrics\\.com/lyrics/[\\w-]+/[\\w-]+\\.html)\" target=\"_blank\"><b>([\\s\\S]*?)</b></a>  by <b>([\\s\\S]*?)</b><br/?>\\s*<small>[\\s\\S]*?</small>\\s*</td></tr>'''\n",
    "            matches = re.search(search_data_reg,rows)\n",
    "\n",
    "            soup = BeautifulSoup(rows, 'html.parser')\n",
    "            result_list = []\n",
    "            for r in soup.find_all('tr'):\n",
    "                if debug:\n",
    "                    print(str(r))\n",
    "                match = re.search(search_data_reg,str(r))\n",
    "                if match:\n",
    "                    res = \"{} by {}\".format(match.group(2),match.group(3))\n",
    "                    orig = querystring['q']\n",
    "                    if debug:\n",
    "                        print(orig,\"=?=\",res)\n",
    "                    result_list.append((ratio(res.lower(),orig.lower()),res,match.group(1)))\n",
    "                elif debug:\n",
    "                    print('\"{}\" by \"{}\"'.format(s_name,a_name))\n",
    "                    print(\"No match:\\n{}\".format(str(r)))\n",
    "            return [sorted(result_list,reverse=True),s_name, a_name]\n",
    "        else:\n",
    "            return [[],s_name, a_name]\n",
    "    except KeyboardInterrupt as e:\n",
    "        print(\"My time has come\")\n",
    "        raise e\n",
    "    except:\n",
    "        print(\"Site thinks im tryna DDOS, lol\")\n",
    "        sleep(random()*20)\n",
    "        return scrape(sa)"
   ]
  },
  {
   "cell_type": "code",
   "execution_count": null,
   "metadata": {},
   "outputs": [],
   "source": [
    "scraped_data = {}\n",
    "cnt = 0\n",
    "song_art_list = list(song_art)\n",
    "for i in range(len(song_art_list)):\n",
    "    s,a = song_art_list[i]\n",
    "    scraped_data[(s,a)] = scrape((s,a))\n",
    "    cnt+=1\n",
    "    if cnt%100 == 0:\n",
    "        print(\"{:4.3f}% completed\".format(cnt/len(song_art)*100))"
   ]
  },
  {
   "cell_type": "code",
   "execution_count": 6,
   "metadata": {},
   "outputs": [
    {
     "data": {
      "text/plain": [
       "[[(1.0,\n",
       "   \"Don't You Worry Child by Swedish House Mafia\",\n",
       "   'https://www.azlyrics.com/lyrics/swedishhousemafia/dontyouworrychild.html'),\n",
       "  (0.7674418604651163,\n",
       "   \"Don't You Worry Child by Within Temptation\",\n",
       "   'https://www.azlyrics.com/lyrics/withintemptation/dontyouworrychild.html'),\n",
       "  (0.7532467532467533,\n",
       "   \"Don't You Worry Child by Sam Tsui\",\n",
       "   'https://www.azlyrics.com/lyrics/samtsui/dontyouworrychild.html'),\n",
       "  (0.7228915662650602,\n",
       "   \"Don't You Worry Child by Madilyn Bailey\",\n",
       "   'https://www.azlyrics.com/lyrics/madilynbailey/dontyouworrychild.html'),\n",
       "  (0.7160493827160493,\n",
       "   \"Don't You Worry Child by Nicole Cross\",\n",
       "   'https://www.azlyrics.com/lyrics/nicolecross/dontyouworrychild.html')],\n",
       " \"Don't You Worry Child\",\n",
       " 'Swedish House Mafia']"
      ]
     },
     "execution_count": 6,
     "metadata": {},
     "output_type": "execute_result"
    }
   ],
   "source": [
    "scrape((\"Don't You Worry Child\",\"Swedish House Mafia\"))"
   ]
  },
  {
   "cell_type": "code",
   "execution_count": 7,
   "metadata": {},
   "outputs": [
    {
     "ename": "NameError",
     "evalue": "name 'scraped_data' is not defined",
     "output_type": "error",
     "traceback": [
      "\u001b[0;31m---------------------------------------------------------------------------\u001b[0m",
      "\u001b[0;31mNameError\u001b[0m                                 Traceback (most recent call last)",
      "\u001b[0;32m<ipython-input-7-a32b32495f7f>\u001b[0m in \u001b[0;36m<module>\u001b[0;34m\u001b[0m\n\u001b[0;32m----> 1\u001b[0;31m \u001b[0mprint\u001b[0m\u001b[0;34m(\u001b[0m\u001b[0mlen\u001b[0m\u001b[0;34m(\u001b[0m\u001b[0mscraped_data\u001b[0m\u001b[0;34m)\u001b[0m\u001b[0;34m)\u001b[0m\u001b[0;34m\u001b[0m\u001b[0m\n\u001b[0m",
      "\u001b[0;31mNameError\u001b[0m: name 'scraped_data' is not defined"
     ]
    }
   ],
   "source": [
    "print(len(scraped_data))"
   ]
  },
  {
   "cell_type": "code",
   "execution_count": 8,
   "metadata": {},
   "outputs": [
    {
     "data": {
      "text/plain": [
       "[[(0.8888888888888888,\n",
       "   \"Didn't I (Blow Your Mind This Time) by New Kids On The Block\",\n",
       "   'https://www.azlyrics.com/lyrics/newkidsontheblock/didntiblowyourmindthistime.html'),\n",
       "  (0.42718446601941745,\n",
       "   'The Session (Longest Posse Cut In History) by The Roots',\n",
       "   'https://www.azlyrics.com/lyrics/roots/thesessionlongestpossecutinhistory.html'),\n",
       "  (0.41379310344827586,\n",
       "   'Dope House Family by South Park Mexican',\n",
       "   'https://www.azlyrics.com/lyrics/southparkmexican/dopehousefamily.html'),\n",
       "  (0.4,\n",
       "   \"No One's Iller Than Me by Eminem\",\n",
       "   'https://www.azlyrics.com/lyrics/eminem/noonesillerthanme.html'),\n",
       "  (0.38961038961038963,\n",
       "   'One Love (LG Main Mix) by Nas',\n",
       "   'https://www.azlyrics.com/lyrics/nas/onelovelgmainmix.html'),\n",
       "  (0.379746835443038,\n",
       "   'Amen (Intro) by CyHi The Prynce',\n",
       "   'https://www.azlyrics.com/lyrics/cyhitheprynce/amenintro.html'),\n",
       "  (0.37777777777777777,\n",
       "   'Dance With The Devil by Immortal Technique',\n",
       "   'https://www.azlyrics.com/lyrics/immortaltechnique/dancewiththedevil.html'),\n",
       "  (0.37037037037037035,\n",
       "   'When You Walk by Ghostface Killah',\n",
       "   'https://www.azlyrics.com/lyrics/ghostfacekillah/whenyouwalk.html'),\n",
       "  (0.367816091954023,\n",
       "   'Long Kiss Goodnight by Notorious B.I.G.',\n",
       "   'https://www.azlyrics.com/lyrics/notoriousbig/longkissgoodnight.html'),\n",
       "  (0.367816091954023,\n",
       "   'Box In Hand (Remix) by Ghostface Killah',\n",
       "   'https://www.azlyrics.com/lyrics/ghostfacekillah/boxinhandremix.html'),\n",
       "  (0.36585365853658536,\n",
       "   'In Some Shit (Part 1) by Dave East',\n",
       "   'https://www.azlyrics.com/lyrics/daveeast/insomeshitpart1.html'),\n",
       "  (0.36363636363636365,\n",
       "   \"No One's Iller Than Me by D12\",\n",
       "   'https://www.azlyrics.com/lyrics/d12/noonesillerthanme.html'),\n",
       "  (0.36363636363636365,\n",
       "   \"I'm Back by Eminem\",\n",
       "   'https://www.azlyrics.com/lyrics/eminem/imback.html'),\n",
       "  (0.325,\n",
       "   '30,000 Word Rap Song! by Quadeca',\n",
       "   'https://www.azlyrics.com/lyrics/quadeca/30000wordrapsong.html'),\n",
       "  (0.3235294117647059,\n",
       "   'Bricks Two by Redman',\n",
       "   'https://www.azlyrics.com/lyrics/redman/brickstwo.html'),\n",
       "  (0.31746031746031744,\n",
       "   'One Love by Nas',\n",
       "   'https://www.azlyrics.com/lyrics/nas/onelove.html'),\n",
       "  (0.3142857142857143,\n",
       "   'Love Letters by Watsky',\n",
       "   'https://www.azlyrics.com/lyrics/watsky/loveletters.html'),\n",
       "  (0.30927835051546393,\n",
       "   \"Rapper's Reprise (Jam, Jam) by The Sugarhill Gang\",\n",
       "   'https://www.azlyrics.com/lyrics/sugarhillgang/rappersreprisejamjam.html'),\n",
       "  (0.3076923076923077,\n",
       "   \"Caught Up by Ol' Dirty Bastard\",\n",
       "   'https://www.azlyrics.com/lyrics/oldirtybastard/caughtup.html'),\n",
       "  (0.30303030303030304,\n",
       "   'The Tunnel by Onyx',\n",
       "   'https://www.azlyrics.com/lyrics/onyx/thetunnel.html')],\n",
       " \"Didn't I Blow Your Mind\",\n",
       " 'New Kids On The Block']"
      ]
     },
     "execution_count": 8,
     "metadata": {},
     "output_type": "execute_result"
    }
   ],
   "source": [
    "scrape((\"Didn't I Blow Your Mind\",\"New Kids On The Block\"),debug=False)"
   ]
  },
  {
   "cell_type": "code",
   "execution_count": 9,
   "metadata": {},
   "outputs": [
    {
     "name": "stdout",
     "output_type": "stream",
     "text": [
      "3.578% done - 733 songs 'found'\n",
      "7.156% done - 1468 songs 'found'\n",
      "10.734% done - 2220 songs 'found'\n",
      "14.312% done - 2942 songs 'found'\n",
      "17.890% done - 3659 songs 'found'\n",
      "21.468% done - 4386 songs 'found'\n",
      "25.046% done - 5100 songs 'found'\n",
      "28.624% done - 5818 songs 'found'\n",
      "32.202% done - 6525 songs 'found'\n",
      "35.779% done - 7248 songs 'found'\n",
      "39.357% done - 7988 songs 'found'\n",
      "42.935% done - 8728 songs 'found'\n",
      "46.513% done - 9451 songs 'found'\n",
      "50.091% done - 10171 songs 'found'\n",
      "53.669% done - 10896 songs 'found'\n",
      "57.247% done - 11613 songs 'found'\n",
      "60.825% done - 12304 songs 'found'\n",
      "64.403% done - 13032 songs 'found'\n",
      "67.981% done - 13740 songs 'found'\n",
      "71.559% done - 14471 songs 'found'\n",
      "75.137% done - 15212 songs 'found'\n",
      "78.715% done - 15938 songs 'found'\n",
      "82.293% done - 16643 songs 'found'\n",
      "85.871% done - 17355 songs 'found'\n",
      "89.449% done - 18092 songs 'found'\n",
      "93.027% done - 18808 songs 'found'\n",
      "96.605% done - 19553 songs 'found'\n"
     ]
    }
   ],
   "source": [
    "import multiprocessing\n",
    "\n",
    "mp_scraped_data = {}\n",
    "cnt = 0\n",
    "song_art_list = list(song_art)\n",
    "song_art_found = []\n",
    "song_art_missing = []\n",
    "with multiprocessing.Pool(processes=multiprocessing.cpu_count()*16) as pool:\n",
    "    for res_ls in pool.imap_unordered(scrape,song_art_list):\n",
    "        mp_scraped_data[(res_ls[1],res_ls[2])] = res_ls[0]\n",
    "        if not res_ls[0]:\n",
    "            song_art_missing.append((res_ls[1],res_ls[2]))\n",
    "        else:\n",
    "            song_art_found.append((res_ls[1],res_ls[2]))\n",
    "        cnt+=1\n",
    "        if cnt%1000 == 0:\n",
    "            print(\"{:4.3f}% done - {} songs 'found'\".format(cnt/len(song_art)*100,len(song_art_found)))\n",
    "pool.close()\n",
    "pool.terminate()"
   ]
  },
  {
   "cell_type": "code",
   "execution_count": 10,
   "metadata": {},
   "outputs": [
    {
     "data": {
      "text/plain": [
       "27949"
      ]
     },
     "execution_count": 10,
     "metadata": {},
     "output_type": "execute_result"
    }
   ],
   "source": [
    "pool.close()\n",
    "pool.terminate()"
   ]
  },
  {
   "cell_type": "code",
   "execution_count": 11,
   "metadata": {},
   "outputs": [
    {
     "name": "stdout",
     "output_type": "stream",
     "text": [
      "Search results for 20214 songs\n",
      "No results for 7735 songs\n"
     ]
    }
   ],
   "source": [
    "print(\"Search results for {} songs\".format(len(song_art_found)))\n",
    "print(\"No results for {} songs\".format(len(song_art_missing)))"
   ]
  },
  {
   "cell_type": "code",
   "execution_count": 12,
   "metadata": {},
   "outputs": [
    {
     "name": "stdout",
     "output_type": "stream",
     "text": [
      "12.928% done - 20214 songs 'found'\n",
      "25.856% done - 20214 songs 'found'\n",
      "38.785% done - 20214 songs 'found'\n",
      "51.713% done - 20214 songs 'found'\n",
      "64.641% done - 20214 songs 'found'\n",
      "77.569% done - 20214 songs 'found'\n",
      "90.498% done - 20214 songs 'found'\n"
     ]
    }
   ],
   "source": [
    "cnt = 0\n",
    "song_art_list = list(song_art_missing)\n",
    "song_art_missing = []\n",
    "with multiprocessing.Pool(processes=multiprocessing.cpu_count()*4) as pool:\n",
    "    for res_ls in pool.imap_unordered(scrape,song_art_list):\n",
    "        mp_scraped_data[(res_ls[1],res_ls[2])] = res_ls[0]\n",
    "        if not res_ls[0]:\n",
    "            song_art_missing.append((res_ls[1],res_ls[2]))\n",
    "        else:\n",
    "            song_art_found.append((res_ls[1],res_ls[2]))\n",
    "        cnt+=1\n",
    "        if cnt%1000 == 0:\n",
    "            print(\"{:4.3f}% done - {} songs 'found'\".format(cnt/len(song_art_list)*100,len(song_art_found)))\n",
    "pool.close()\n",
    "pool.terminate()"
   ]
  },
  {
   "cell_type": "code",
   "execution_count": 13,
   "metadata": {},
   "outputs": [
    {
     "name": "stdout",
     "output_type": "stream",
     "text": [
      "Search results for 20214 songs\n",
      "No results for 7735 songs\n"
     ]
    },
    {
     "data": {
      "text/plain": [
       "True"
      ]
     },
     "execution_count": 13,
     "metadata": {},
     "output_type": "execute_result"
    }
   ],
   "source": [
    "print(\"Search results for {} songs\".format(len(song_art_found)))\n",
    "print(\"No results for {} songs\".format(len(song_art_missing)))\n",
    "len(song_art_found) + len(song_art_missing) == len(song_art)"
   ]
  },
  {
   "cell_type": "code",
   "execution_count": 14,
   "metadata": {},
   "outputs": [
    {
     "name": "stdout",
     "output_type": "stream",
     "text": [
      "('Gilee', 'Sonny Spencer')\n",
      "('The Way', 'Ariana Grande Featuring Mac Miller')\n",
      "('Making Memories', 'Frankie Laine')\n",
      "('East Side Rendezvous', 'Frost')\n",
      "('Shutters And Boards', 'Jerry Wallace')\n",
      "(\"Gimme Gimme Good Lovin'\", 'Crazy Elephant')\n",
      "('Tell Me Something', 'Indecent Obsession')\n",
      "('Star Love', 'The Playmates')\n",
      "('Theme From Doctor Detroit', 'Devo')\n",
      "('Sophisticated Cissy', 'The Meters')\n",
      "('Image Of A Girl', \"Safaris with The Phantom's Band\")\n",
      "('Anytime', 'McAuley Schenker Group')\n",
      "('Freakit', 'Das EFX')\n",
      "(\"The Chokin' Kind\", 'Joe Simon')\n",
      "('L.A. Goodbye', 'The Ides Of March')\n",
      "('Monkey-Shine', \"Bill Black's Combo\")\n",
      "('Special Lady', 'Ray, Goodman & Brown')\n",
      "('Steal Away', 'Jimmy Hughes')\n",
      "('Do It To My Mind', 'Johnny Bristol')\n",
      "('Pay You Back With Interest', \"Gary O'\")\n"
     ]
    }
   ],
   "source": [
    "for i in range(20):\n",
    "    print(song_art_missing[i])"
   ]
  },
  {
   "cell_type": "code",
   "execution_count": 18,
   "metadata": {},
   "outputs": [
    {
     "data": {
      "text/plain": [
       "(('Funkdafied', 'Da Brat'),\n",
       " [(1.0,\n",
       "   'Funkdafied by Da Brat',\n",
       "   'https://www.azlyrics.com/lyrics/dabrat/funkdafied.html'),\n",
       "  (0.6363636363636364,\n",
       "   \"Mind Blowin' by Da Brat\",\n",
       "   'https://www.azlyrics.com/lyrics/dabrat/mindblowin.html'),\n",
       "  (0.6363636363636364,\n",
       "   'Dirty B Side by Da Brat',\n",
       "   'https://www.azlyrics.com/lyrics/dabrat/dirtybside.html'),\n",
       "  (0.6086956521739131,\n",
       "   'World Premiere by Da Brat',\n",
       "   'https://www.azlyrics.com/lyrics/dabrat/worldpremiere.html'),\n",
       "  (0.6086956521739131,\n",
       "   \"What 'Chu Like by Da Brat\",\n",
       "   'https://www.azlyrics.com/lyrics/dabrat/whatchulike.html'),\n",
       "  (0.6086956521739131,\n",
       "   'Make It Happen by Da Brat',\n",
       "   'https://www.azlyrics.com/lyrics/dabrat/makeithappen.html'),\n",
       "  (0.5909090909090909,\n",
       "   'Give It 2 Ya by Da Brat',\n",
       "   'https://www.azlyrics.com/lyrics/dabrat/giveit2ya.html'),\n",
       "  (0.5909090909090909,\n",
       "   \"Fa All Y'all by Da Brat\",\n",
       "   'https://www.azlyrics.com/lyrics/dabrat/faallyall.html'),\n",
       "  (0.5818181818181818,\n",
       "   \"May Da Funk Be Wit 'Cha by Da Brat\",\n",
       "   'https://www.azlyrics.com/lyrics/dabrat/maydafunkbewitcha.html'),\n",
       "  (0.5777777777777777,\n",
       "   'Get It Get It by Da Brat',\n",
       "   'https://www.azlyrics.com/lyrics/dabrat/getitgetit.html'),\n",
       "  (0.5714285714285714,\n",
       "   'Come And Get Some by Da Brat',\n",
       "   'https://www.azlyrics.com/lyrics/dabrat/comeandgetsome.html'),\n",
       "  (0.5652173913043478,\n",
       "   \"Ain't No Thang by Da Brat\",\n",
       "   'https://www.azlyrics.com/lyrics/dabrat/aintnothang.html'),\n",
       "  (0.5084745762711864,\n",
       "   \"Sittin' On Top Of The World by Da Brat\",\n",
       "   'https://www.azlyrics.com/lyrics/dabrat/sittinontopoftheworld.html'),\n",
       "  (0.4666666666666667,\n",
       "   \"It's Brat (Tupac Back Remix) by Da Brat\",\n",
       "   'https://www.azlyrics.com/lyrics/dabrat/itsbrattupacbackremix.html'),\n",
       "  (0.35714285714285715,\n",
       "   'Rock With Me by Jermaine Dupri (JD)',\n",
       "   'https://www.azlyrics.com/lyrics/jermaineduprijd/rockwithme.html')])"
      ]
     },
     "execution_count": 18,
     "metadata": {},
     "output_type": "execute_result"
    }
   ],
   "source": [
    "list(mp_scraped_data.items())[0]"
   ]
  },
  {
   "cell_type": "code",
   "execution_count": 19,
   "metadata": {},
   "outputs": [],
   "source": [
    "from json import dumps,loads"
   ]
  },
  {
   "cell_type": "code",
   "execution_count": 21,
   "metadata": {},
   "outputs": [
    {
     "name": "stdout",
     "output_type": "stream",
     "text": [
      "27949\n"
     ]
    }
   ],
   "source": [
    "import pickle\n",
    "print(len(mp_scraped_data))\n",
    "pickle.dump(mp_scraped_data, open( \"../data/pickle/azlyrics_search.pickle\", \"wb\" ) )"
   ]
  },
  {
   "cell_type": "code",
   "execution_count": 22,
   "metadata": {},
   "outputs": [
    {
     "data": {
      "text/plain": [
       "20214"
      ]
     },
     "execution_count": 22,
     "metadata": {},
     "output_type": "execute_result"
    }
   ],
   "source": [
    "sum(int(bool(mp_scraped_data[(s,a)])) for s,a in mp_scraped_data)"
   ]
  },
  {
   "cell_type": "markdown",
   "metadata": {},
   "source": [
    "### Save the songs with similarity above 0.8"
   ]
  },
  {
   "cell_type": "code",
   "execution_count": 41,
   "metadata": {},
   "outputs": [],
   "source": [
    "toSave = defaultdict(dict)\n",
    "for s, a in mp_scraped_data:\n",
    "    if mp_scraped_data[(s, a)] != []:\n",
    "        if mp_scraped_data[(s, a)][0][0] > 0.8:\n",
    "            toSave[a][s] = {\"scrapedSongName\": mp_scraped_data[(s, a)][0][1], \"url\": mp_scraped_data[(s, a)][0][2]}"
   ]
  },
  {
   "cell_type": "code",
   "execution_count": 62,
   "metadata": {},
   "outputs": [
    {
     "data": {
      "text/plain": [
       "16233"
      ]
     },
     "execution_count": 62,
     "metadata": {},
     "output_type": "execute_result"
    }
   ],
   "source": [
    "artist_song_pair = set([(j, i) for i in toSave.keys() for j in toSave[i].keys()])\n",
    "len(artist_song_pair)"
   ]
  },
  {
   "cell_type": "code",
   "execution_count": 66,
   "metadata": {},
   "outputs": [],
   "source": [
    "missing_artist_song_pair_Set = song_art - artist_song_pair"
   ]
  },
  {
   "cell_type": "code",
   "execution_count": 67,
   "metadata": {},
   "outputs": [
    {
     "name": "stdout",
     "output_type": "stream",
     "text": [
      "11716\n"
     ]
    }
   ],
   "source": [
    "print(len(missing_artist_song_pair_Set))\n",
    "assert((len(missing_artist_song_pair_Set) + len(artist_song_pair)) == len(song_art))"
   ]
  },
  {
   "cell_type": "code",
   "execution_count": 68,
   "metadata": {},
   "outputs": [],
   "source": [
    "missing_artist_song_pair_toSave = defaultdict(set)\n",
    "for s, a in missing_artist_song_pair_Set:\n",
    "    missing_artist_song_pair_toSave[a].add(s)"
   ]
  },
  {
   "cell_type": "code",
   "execution_count": 71,
   "metadata": {},
   "outputs": [],
   "source": [
    "pickle.dump(toSave, open( \"../data/pickle/azlyrics_found.pickle\", \"wb\" ) )\n",
    "pickle.dump(missing_artist_song_pair_toSave, open( \"../data/pickle/azlyrics_missing.pickle\", \"wb\" ) )"
   ]
  },
  {
   "cell_type": "code",
   "execution_count": null,
   "metadata": {},
   "outputs": [],
   "source": []
  },
  {
   "cell_type": "code",
   "execution_count": 10,
   "metadata": {},
   "outputs": [
    {
     "name": "stdout",
     "output_type": "stream",
     "text": [
      "(1958, 8, 2)\n",
      "(2018, 12, 29)\n"
     ]
    }
   ],
   "source": [
    "#map(lambda d: ,BB_data['WeekID'])\n",
    "def date(s):\n",
    "    m = re.search(r'^(\\d{1,2})\\/(\\d{1,2})\\/(\\d{4})$',s)\n",
    "    return int(m.group(3)),int(m.group(1)),int(m.group(2))\n",
    "date('12/15/2012')\n",
    "print(min(map(date,BB_data['WeekID'])))\n",
    "print(max(map(date,BB_data['WeekID'])))"
   ]
  }
 ],
 "metadata": {
  "kernelspec": {
   "display_name": "Python 3",
   "language": "python",
   "name": "python3"
  },
  "language_info": {
   "codemirror_mode": {
    "name": "ipython",
    "version": 3
   },
   "file_extension": ".py",
   "mimetype": "text/x-python",
   "name": "python",
   "nbconvert_exporter": "python",
   "pygments_lexer": "ipython3",
   "version": "3.6.4"
  }
 },
 "nbformat": 4,
 "nbformat_minor": 2
}
