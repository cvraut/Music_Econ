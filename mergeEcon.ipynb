{
 "cells": [
  {
   "cell_type": "code",
   "execution_count": 1,
   "metadata": {},
   "outputs": [],
   "source": [
    "import pandas as pd"
   ]
  },
  {
   "cell_type": "code",
   "execution_count": 2,
   "metadata": {},
   "outputs": [],
   "source": [
    "BB = pd.read_csv(\"data/Hot Stuff.csv\")\n",
    "GDP = pd.read_csv(\"data/Real Gross Domestic Product.csv\")\n",
    "Income = pd.read_csv(\"data/Real Disposable Personal Income.csv\")\n",
    "Inflation = pd.read_csv(\"data/Inflation, consumer prices for the United States.csv\")"
   ]
  },
  {
   "cell_type": "code",
   "execution_count": 3,
   "metadata": {},
   "outputs": [],
   "source": [
    "BB = BB.drop(\"url\", axis=1)\n",
    "GDP.columns = [\"DATE\", \"GDP\"]\n",
    "Income.columns = [\"DATE\", \"Income\"]\n",
    "Inflation.columns = [\"DATE\", \"Inflation\"]"
   ]
  },
  {
   "cell_type": "code",
   "execution_count": 4,
   "metadata": {},
   "outputs": [
    {
     "data": {
      "text/plain": [
       "['1956-01-01', '1965-01-01', '1965-01-01', '1/1/1966']"
      ]
     },
     "execution_count": 4,
     "metadata": {},
     "output_type": "execute_result"
    }
   ],
   "source": [
    "[min(GDP[\"DATE\"]), min(Inflation[\"DATE\"]), min(Income[\"DATE\"]), min(BB[\"WeekID\"])]"
   ]
  },
  {
   "cell_type": "code",
   "execution_count": 5,
   "metadata": {},
   "outputs": [
    {
     "data": {
      "text/plain": [
       "['2018-10-01', '2017-01-01', '2018-10-01', '9/9/2017']"
      ]
     },
     "execution_count": 5,
     "metadata": {},
     "output_type": "execute_result"
    }
   ],
   "source": [
    "[max(GDP[\"DATE\"]), max(Inflation[\"DATE\"]), max(Income[\"DATE\"]), max(BB[\"WeekID\"])]"
   ]
  },
  {
   "cell_type": "code",
   "execution_count": 6,
   "metadata": {},
   "outputs": [],
   "source": [
    "def convert_YQ(df, timestr):\n",
    "    df[timestr] = pd.to_datetime(df[timestr])\n",
    "    df[\"YearQuarter\"] = [i + (j-1)*0.25 for i, j in [[a.year, a.quarter] for a in df[timestr]]]"
   ]
  },
  {
   "cell_type": "code",
   "execution_count": 7,
   "metadata": {},
   "outputs": [],
   "source": [
    "convert_YQ(BB, \"WeekID\")\n",
    "convert_YQ(GDP, \"DATE\")\n",
    "convert_YQ(Income, \"DATE\")"
   ]
  },
  {
   "cell_type": "code",
   "execution_count": 8,
   "metadata": {},
   "outputs": [],
   "source": [
    "BB[\"Year\"] = [i.year for i in BB[\"WeekID\"]]\n",
    "Inflation[\"DATE\"] = pd.to_datetime(Inflation[\"DATE\"])\n",
    "Inflation[\"Year\"] = [i.year for i in Inflation[\"DATE\"]]"
   ]
  },
  {
   "cell_type": "code",
   "execution_count": 9,
   "metadata": {},
   "outputs": [],
   "source": [
    "merged = BB.merge(GDP, left_on=\"YearQuarter\", right_on=\"YearQuarter\", how=\"left\")\n",
    "merged = merged.merge(Income, left_on=\"YearQuarter\", right_on=\"YearQuarter\", how=\"left\")\n",
    "merged = merged.merge(Inflation, left_on=\"Year\", right_on=\"Year\", how=\"left\")"
   ]
  },
  {
   "cell_type": "code",
   "execution_count": 10,
   "metadata": {},
   "outputs": [],
   "source": [
    "merged = merged.drop([\"DATE_x\", \"DATE_y\", \"DATE\"], axis=1)"
   ]
  },
  {
   "cell_type": "code",
   "execution_count": 11,
   "metadata": {},
   "outputs": [],
   "source": [
    "merged = merged.sort_values(by=\"WeekID\").reset_index()\n",
    "merged = merged.drop(\"index\", axis=1)"
   ]
  },
  {
   "cell_type": "code",
   "execution_count": 12,
   "metadata": {},
   "outputs": [],
   "source": [
    "merged = merged.fillna(method=\"ffill\")\n",
    "merged = merged.fillna(method=\"backfill\")"
   ]
  },
  {
   "cell_type": "code",
   "execution_count": 14,
   "metadata": {},
   "outputs": [
    {
     "data": {
      "text/plain": [
       "(315295, 14)"
      ]
     },
     "execution_count": 14,
     "metadata": {},
     "output_type": "execute_result"
    }
   ],
   "source": [
    "merged.shape"
   ]
  },
  {
   "cell_type": "code",
   "execution_count": 24,
   "metadata": {},
   "outputs": [
    {
     "data": {
      "text/plain": [
       "(315295, 14)"
      ]
     },
     "execution_count": 24,
     "metadata": {},
     "output_type": "execute_result"
    }
   ],
   "source": [
    "merged.shape"
   ]
  },
  {
   "cell_type": "code",
   "execution_count": 16,
   "metadata": {},
   "outputs": [
    {
     "data": {
      "text/plain": [
       "True"
      ]
     },
     "execution_count": 16,
     "metadata": {},
     "output_type": "execute_result"
    }
   ],
   "source": [
    "any(pd.isna(merged[[\"GDP\", \"Inflation\", \"Income\"]]))"
   ]
  },
  {
   "cell_type": "code",
   "execution_count": null,
   "metadata": {},
   "outputs": [],
   "source": [
    "pd.fillna"
   ]
  },
  {
   "cell_type": "code",
   "execution_count": null,
   "metadata": {},
   "outputs": [],
   "source": []
  },
  {
   "cell_type": "code",
   "execution_count": 17,
   "metadata": {},
   "outputs": [
    {
     "data": {
      "text/plain": [
       "[Timestamp('1958-08-02 00:00:00'), Timestamp('2018-12-29 00:00:00')]"
      ]
     },
     "execution_count": 17,
     "metadata": {},
     "output_type": "execute_result"
    }
   ],
   "source": [
    "[min(BB[\"WeekID\"]), max(BB[\"WeekID\"])]"
   ]
  },
  {
   "cell_type": "code",
   "execution_count": null,
   "metadata": {},
   "outputs": [],
   "source": []
  }
 ],
 "metadata": {
  "kernelspec": {
   "display_name": "Python 3",
   "language": "python",
   "name": "python3"
  },
  "language_info": {
   "codemirror_mode": {
    "name": "ipython",
    "version": 3
   },
   "file_extension": ".py",
   "mimetype": "text/x-python",
   "name": "python",
   "nbconvert_exporter": "python",
   "pygments_lexer": "ipython3",
   "version": "3.6.4"
  }
 },
 "nbformat": 4,
 "nbformat_minor": 2
}
