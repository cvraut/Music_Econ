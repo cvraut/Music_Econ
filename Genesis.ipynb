{
 "cells": [
  {
   "cell_type": "code",
   "execution_count": 1,
   "metadata": {},
   "outputs": [],
   "source": [
    "import pandas as pd\n",
    "import numpy as np\n",
    "import requests\n",
    "import json\n",
    "import collections\n",
    "from bs4 import BeautifulSoup\n",
    "import multiprocessing"
   ]
  },
  {
   "cell_type": "code",
   "execution_count": 2,
   "metadata": {},
   "outputs": [],
   "source": [
    "BB = pd.read_csv(\"data/Hot Stuff.csv\")\n",
    "songs = BB[\"SongID\"]; performer = BB[\"Performer\"]\n",
    "BB_grouped = BB.groupby([\"Performer\", \"Song\"]).count()"
   ]
  },
  {
   "cell_type": "code",
   "execution_count": 3,
   "metadata": {},
   "outputs": [],
   "source": [
    "art_song_lyrics = json.loads(open(\"genesis_data.json\").read())\n",
    "missing_artists_song = json.loads(open(\"Genesis_missing.json\").read())"
   ]
  },
  {
   "cell_type": "code",
   "execution_count": 4,
   "metadata": {},
   "outputs": [],
   "source": [
    "song_performer_pair = list(BB_grouped.index)"
   ]
  },
  {
   "cell_type": "code",
   "execution_count": 5,
   "metadata": {},
   "outputs": [],
   "source": [
    "client_id = \"HYxx-SDO43-ap9RUVgD9nNRuz-kmhQw9W-TeCtA4NdmWbLYQUvkCmmcOlNzsdzRE\"\n",
    "client_secred = \"2xRkeAd2SDvMLXbkScUzLCZvOPxYXcsdQeiDqhrax-kzxpFkO3fKI4HEKeD5aDlXnYnja7pwYQ9BkMoDvl6ipw\"\n",
    "token = \"dxvLAG0Jhx6B01DK9pLzusCIFlboFV996sOvwEAPQbON-MUPz2vLgu9_z7u-hODo\"\n",
    "headers = {'Authorization': \"Bearer \" + token}\n",
    "base_url = \"http://api.genius.com\"\n",
    "search_url = base_url + \"/search\""
   ]
  },
  {
   "cell_type": "code",
   "execution_count": 5,
   "metadata": {},
   "outputs": [],
   "source": [
    "def get_lyrics(i):\n",
    "    artist_name, song_title = song_performer_pair[i]\n",
    "    params = {'q': song_title.lower() + \" \" + artist_name.lower()}\n",
    "#     params = {'q': song_title.lower()}\n",
    "    response = requests.get(search_url, params=params, headers=headers).json()\n",
    "    song_info = False\n",
    "    for hit in response[\"response\"][\"hits\"]:\n",
    "        if len(set(hit[\"result\"][\"primary_artist\"][\"name\"].lower().split(\" \")).intersection(set(artist_name.lower().split(\" \")))) != 0:\n",
    "            song_info = hit\n",
    "            break\n",
    "    if song_info:\n",
    "        song_api_path = song_info[\"result\"][\"api_path\"]\n",
    "        song_url = base_url + song_api_path\n",
    "        response = requests.get(song_url, headers=headers).json()\n",
    "        path = response[\"response\"][\"song\"][\"path\"]\n",
    "        page_url = \"http://genius.com\" + path\n",
    "        page = requests.get(page_url)\n",
    "        html = BeautifulSoup(page.text, \"html.parser\")\n",
    "        [h.extract() for h in html('script')]\n",
    "        lyrics = html.find(\"div\", class_=\"lyrics\").get_text()\n",
    "        return [artist_name, song_title, [i for i in lyrics.split(\"\\n\") if i != \"\"]]\n",
    "    else:\n",
    "        return [False, artist_name, song_title]"
   ]
  },
  {
   "cell_type": "code",
   "execution_count": 105,
   "metadata": {},
   "outputs": [],
   "source": [
    "art_song_lyrics = collections.defaultdict(dict)\n",
    "missing_artists_song = collections.defaultdict(set)\n",
    "with multiprocessing.Pool(processes=multiprocessing.cpu_count()*8) as pool:\n",
    "    try:\n",
    "        for suc,val1,val2 in pool.imap_unordered(get_lyrics, range(len(song_performer_pair))):\n",
    "            if suc:\n",
    "                art_song_lyrics[suc][val1] = val2\n",
    "            else:\n",
    "                missing_artists_song[val1].add(val2)\n",
    "    except Exception as e:\n",
    "        print(e)"
   ]
  },
  {
   "cell_type": "code",
   "execution_count": 191,
   "metadata": {},
   "outputs": [],
   "source": [
    "pool.close()"
   ]
  },
  {
   "cell_type": "code",
   "execution_count": 186,
   "metadata": {},
   "outputs": [],
   "source": [
    "temp = {}\n",
    "for i in list(missing_artists_song.keys()):\n",
    "    temp[i] = list(missing_artists_song[i])"
   ]
  },
  {
   "cell_type": "code",
   "execution_count": 182,
   "metadata": {},
   "outputs": [
    {
     "name": "stdout",
     "output_type": "stream",
     "text": [
      "The history saving thread hit an unexpected error (OperationalError('unable to open database file',)).History will not be written to the database."
     ]
    }
   ],
   "source": [
    "jdata = json.dumps(temp)\n",
    "output_file = open(\"Genesis_missing.json\",\"w+\")\n",
    "output_file.write(jdata)\n",
    "output_file.close()"
   ]
  },
  {
   "cell_type": "code",
   "execution_count": 124,
   "metadata": {},
   "outputs": [],
   "source": [
    "jdata = json.dumps(art_song_lyrics)\n",
    "output_file = open(\"genesis_data.json\",\"w+\")\n",
    "output_file.write(jdata)\n",
    "output_file.close()"
   ]
  },
  {
   "cell_type": "code",
   "execution_count": 130,
   "metadata": {},
   "outputs": [
    {
     "data": {
      "text/plain": [
       "23454"
      ]
     },
     "execution_count": 130,
     "metadata": {},
     "output_type": "execute_result"
    }
   ],
   "source": [
    "all_found_songs= [j for k in art_song_lyrics.keys() for j in list(art_song_lyrics[k].keys())]\n",
    "len(all_found_songs)"
   ]
  },
  {
   "cell_type": "code",
   "execution_count": 131,
   "metadata": {},
   "outputs": [
    {
     "data": {
      "text/plain": [
       "7429"
      ]
     },
     "execution_count": 131,
     "metadata": {},
     "output_type": "execute_result"
    }
   ],
   "source": [
    "len(art_song_lyrics)"
   ]
  },
  {
   "cell_type": "code",
   "execution_count": 113,
   "metadata": {},
   "outputs": [
    {
     "data": {
      "text/plain": [
       "3035"
      ]
     },
     "execution_count": 113,
     "metadata": {},
     "output_type": "execute_result"
    }
   ],
   "source": [
    "len(missing_artists_song)"
   ]
  },
  {
   "cell_type": "code",
   "execution_count": 137,
   "metadata": {},
   "outputs": [
    {
     "data": {
      "text/plain": [
       "40.0"
      ]
     },
     "execution_count": 137,
     "metadata": {},
     "output_type": "execute_result"
    }
   ],
   "source": [
    "4000 / 100"
   ]
  },
  {
   "cell_type": "code",
   "execution_count": 128,
   "metadata": {},
   "outputs": [
    {
     "data": {
      "text/plain": [
       "[('The', 653),\n",
       " ('&', 356),\n",
       " ('Featuring', 240),\n",
       " ('And', 167),\n",
       " ('With', 112),\n",
       " ('and', 68),\n",
       " ('His', 67),\n",
       " ('Orchestra', 64),\n",
       " ('Band', 64),\n",
       " ('Bobby', 44),\n",
       " ('Johnny', 42),\n",
       " ('Of', 33),\n",
       " ('Joe', 33),\n",
       " ('Paul', 31),\n",
       " ('John', 31),\n",
       " ('Billy', 30),\n",
       " ('Jimmy', 30),\n",
       " ('Brown', 28),\n",
       " ('Lee', 27),\n",
       " ('Ray', 25)]"
      ]
     },
     "execution_count": 128,
     "metadata": {},
     "output_type": "execute_result"
    }
   ],
   "source": [
    "collections.Counter([j for i in list(missing_artists_song.keys()) for j in i.split(\" \")]).most_common(20)"
   ]
  },
  {
   "cell_type": "code",
   "execution_count": 6,
   "metadata": {},
   "outputs": [],
   "source": [
    "song_pair_new = [[i, j] for i in list(missing_artists_song.keys()) for j in list(missing_artists_song[i])]"
   ]
  },
  {
   "cell_type": "code",
   "execution_count": 7,
   "metadata": {},
   "outputs": [],
   "source": [
    "song_pair_new_reformatted = []\n",
    "for p in song_pair_new:\n",
    "    artist, song = p\n",
    "    if \"Featuring\" in artist:\n",
    "        artist = artist.split(\"Featuring\")[0].strip()\n",
    "    if \"Feat.\" in artist:\n",
    "        artist = artist.split(\"Feat.\")[0].strip()\n",
    "    if \"featuring\" in artist:\n",
    "        artist = artist.split(\"featuring\")[0].strip()\n",
    "    if \"&\" in artist:\n",
    "        artist = artist.split(\"&\")[0].strip()\n",
    "    if \"and\" in artist:\n",
    "        artist = artist.split(\"and\")[0].strip()\n",
    "    if \"And\" in artist:\n",
    "        artist = artist.split(\"And\")[0].strip()\n",
    "    if \"With\" in artist:\n",
    "        artist = artist.split(\"With\")[0].strip()\n",
    "    if \"with\" in artist:\n",
    "        artist = artist.split(\"with\")[0].strip()\n",
    "    if \"The\" in artist:\n",
    "        artist = artist.split(\"The\")[0].strip()\n",
    "    if \"the\" in artist:\n",
    "        artist = artist.split(\"the\")[0].strip()\n",
    "    if \"(\" in artist:\n",
    "        artist = artist.split(\"(\")[0].strip()\n",
    "    song_pair_new_reformatted.append([artist, song])"
   ]
  },
  {
   "cell_type": "code",
   "execution_count": 8,
   "metadata": {},
   "outputs": [
    {
     "data": {
      "text/plain": [
       "['Dick', 'Tell Me']"
      ]
     },
     "execution_count": 8,
     "metadata": {},
     "output_type": "execute_result"
    }
   ],
   "source": [
    "song_pair_new_reformatted[1000]"
   ]
  },
  {
   "cell_type": "code",
   "execution_count": 12,
   "metadata": {},
   "outputs": [],
   "source": [
    "def get_lyrics_updated(i):\n",
    "    artist_name, song_title = song_pair_new_reformatted[i]\n",
    "    params = {'q': song_title.lower() + \" \" + artist_name.lower()}\n",
    "#     params = {'q': song_title.lower()}\n",
    "    response = requests.get(search_url, params=params, headers=headers).json()\n",
    "    song_info = False\n",
    "    for hit in response[\"response\"][\"hits\"]:\n",
    "        if len(set(hit[\"result\"][\"primary_artist\"][\"name\"].lower().split(\" \")).intersection(set(artist_name.lower().split(\" \")))) != 0:\n",
    "            song_info = hit\n",
    "            break\n",
    "    if song_info:\n",
    "        song_api_path = song_info[\"result\"][\"api_path\"]\n",
    "        song_url = base_url + song_api_path\n",
    "        response = requests.get(song_url, headers=headers).json()\n",
    "        path = response[\"response\"][\"song\"][\"path\"]\n",
    "        page_url = \"http://genius.com\" + path\n",
    "        page = requests.get(page_url)\n",
    "        html = BeautifulSoup(page.text, \"html.parser\")\n",
    "        [h.extract() for h in html('script')]\n",
    "        lyrics = html.find(\"div\", class_=\"lyrics\").get_text()\n",
    "        return [artist_name, song_title, [i for i in lyrics.split(\"\\n\") if i != \"\"]]\n",
    "    else:\n",
    "        return [False, artist_name, song_title]"
   ]
  },
  {
   "cell_type": "code",
   "execution_count": 13,
   "metadata": {},
   "outputs": [
    {
     "name": "stdout",
     "output_type": "stream",
     "text": [
      "unhashable type: 'list'\n"
     ]
    }
   ],
   "source": [
    "art_song_lyrics_updated = collections.defaultdict(dict)\n",
    "missing_artists_song_updated = collections.defaultdict(set)\n",
    "with multiprocessing.Pool(processes=multiprocessing.cpu_count()*8) as pool:\n",
    "    try:\n",
    "        for suc,val1,val2 in pool.imap_unordered(get_lyrics_updated, range(len(song_pair_new_reformatted))):\n",
    "            if suc:\n",
    "                art_song_lyrics_updated[suc][val1] = val2\n",
    "            else:\n",
    "                missing_artists_song_updated[val1].add(val2)\n",
    "    except Exception as e:\n",
    "        print(e)\n",
    "    pool.close()"
   ]
  },
  {
   "cell_type": "code",
   "execution_count": 16,
   "metadata": {},
   "outputs": [
    {
     "data": {
      "text/plain": [
       "1899"
      ]
     },
     "execution_count": 16,
     "metadata": {},
     "output_type": "execute_result"
    }
   ],
   "source": [
    "len(missing_artists_song_updated)"
   ]
  },
  {
   "cell_type": "code",
   "execution_count": 17,
   "metadata": {},
   "outputs": [
    {
     "data": {
      "text/plain": [
       "339"
      ]
     },
     "execution_count": 17,
     "metadata": {},
     "output_type": "execute_result"
    }
   ],
   "source": [
    "len(art_song_lyrics_updated)"
   ]
  },
  {
   "cell_type": "code",
   "execution_count": 20,
   "metadata": {},
   "outputs": [],
   "source": [
    "pool.terminate()"
   ]
  },
  {
   "cell_type": "code",
   "execution_count": 20,
   "metadata": {},
   "outputs": [
    {
     "data": {
      "text/plain": [
       "544"
      ]
     },
     "execution_count": 20,
     "metadata": {},
     "output_type": "execute_result"
    }
   ],
   "source": [
    "all_found_songs_updated= [j for k in art_song_lyrics_updated.keys() for j in list(art_song_lyrics_updated[k].keys())]\n",
    "len(all_found_songs_updated)"
   ]
  },
  {
   "cell_type": "code",
   "execution_count": 21,
   "metadata": {},
   "outputs": [
    {
     "data": {
      "text/plain": [
       "23998"
      ]
     },
     "execution_count": 21,
     "metadata": {},
     "output_type": "execute_result"
    }
   ],
   "source": [
    "23454 + 544"
   ]
  },
  {
   "cell_type": "code",
   "execution_count": null,
   "metadata": {},
   "outputs": [],
   "source": []
  }
 ],
 "metadata": {
  "kernelspec": {
   "display_name": "Python 3",
   "language": "python",
   "name": "python3"
  },
  "language_info": {
   "codemirror_mode": {
    "name": "ipython",
    "version": 3
   },
   "file_extension": ".py",
   "mimetype": "text/x-python",
   "name": "python",
   "nbconvert_exporter": "python",
   "pygments_lexer": "ipython3",
   "version": "3.6.4"
  }
 },
 "nbformat": 4,
 "nbformat_minor": 2
}
