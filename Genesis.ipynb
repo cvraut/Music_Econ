{
 "cells": [
  {
   "cell_type": "code",
   "execution_count": 1,
   "metadata": {
    "collapsed": true
   },
   "outputs": [],
   "source": [
    "import pandas as pd\n",
    "import numpy as np\n",
    "import requests\n",
    "import json\n",
    "import collections\n",
    "from bs4 import BeautifulSoup\n",
    "import multiprocessing"
   ]
  },
  {
   "cell_type": "code",
   "execution_count": 2,
   "metadata": {
    "collapsed": true
   },
   "outputs": [],
   "source": [
    "BB = pd.read_csv(\"data/Hot Stuff.csv\")\n",
    "songs = BB[\"SongID\"]; performer = BB[\"Performer\"]\n",
    "BB_grouped = BB.groupby([\"Performer\", \"Song\"]).count()"
   ]
  },
  {
   "cell_type": "code",
   "execution_count": 3,
   "metadata": {
    "collapsed": true
   },
   "outputs": [],
   "source": [
    "art_song_lyrics = json.loads(open(\"genesis_data.json\").read())\n",
    "missing_artists_song = json.loads(open(\"Genesis_missing.json\").read())"
   ]
  },
  {
   "cell_type": "code",
   "execution_count": 4,
   "metadata": {
    "collapsed": true
   },
   "outputs": [],
   "source": [
    "song_performer_pair = list(BB_grouped.index)"
   ]
  },
  {
   "cell_type": "code",
   "execution_count": 5,
   "metadata": {
    "collapsed": true
   },
   "outputs": [],
   "source": [
    "client_id = \"HYxx-SDO43-ap9RUVgD9nNRuz-kmhQw9W-TeCtA4NdmWbLYQUvkCmmcOlNzsdzRE\"\n",
    "client_secred = \"2xRkeAd2SDvMLXbkScUzLCZvOPxYXcsdQeiDqhrax-kzxpFkO3fKI4HEKeD5aDlXnYnja7pwYQ9BkMoDvl6ipw\"\n",
    "token = \"dxvLAG0Jhx6B01DK9pLzusCIFlboFV996sOvwEAPQbON-MUPz2vLgu9_z7u-hODo\"\n",
    "headers = {'Authorization': \"Bearer \" + token}\n",
    "base_url = \"http://api.genius.com\"\n",
    "search_url = base_url + \"/search\""
   ]
  },
  {
   "cell_type": "code",
   "execution_count": 5,
   "metadata": {
    "collapsed": true
   },
   "outputs": [],
   "source": [
    "def get_lyrics(i):\n",
    "    artist_name, song_title = song_performer_pair[i]\n",
    "    params = {'q': song_title.lower() + \" \" + artist_name.lower()}\n",
    "#     params = {'q': song_title.lower()}\n",
    "    response = requests.get(search_url, params=params, headers=headers).json()\n",
    "    song_info = False\n",
    "    for hit in response[\"response\"][\"hits\"]:\n",
    "        if len(set(hit[\"result\"][\"primary_artist\"][\"name\"].lower().split(\" \")).intersection(set(artist_name.lower().split(\" \")))) != 0:\n",
    "            song_info = hit\n",
    "            break\n",
    "    if song_info:\n",
    "        song_api_path = song_info[\"result\"][\"api_path\"]\n",
    "        song_url = base_url + song_api_path\n",
    "        response = requests.get(song_url, headers=headers).json()\n",
    "        path = response[\"response\"][\"song\"][\"path\"]\n",
    "        page_url = \"http://genius.com\" + path\n",
    "        page = requests.get(page_url)\n",
    "        html = BeautifulSoup(page.text, \"html.parser\")\n",
    "        [h.extract() for h in html('script')]\n",
    "        lyrics = html.find(\"div\", class_=\"lyrics\").get_text()\n",
    "        return [artist_name, song_title, [i for i in lyrics.split(\"\\n\") if i != \"\"]]\n",
    "    else:\n",
    "        return [False, artist_name, song_title]"
   ]
  },
  {
   "cell_type": "code",
   "execution_count": 105,
   "metadata": {
    "collapsed": true
   },
   "outputs": [],
   "source": [
    "art_song_lyrics = collections.defaultdict(dict)\n",
    "missing_artists_song = collections.defaultdict(set)\n",
    "with multiprocessing.Pool(processes=multiprocessing.cpu_count()*8) as pool:\n",
    "    try:\n",
    "        for suc,val1,val2 in pool.imap_unordered(get_lyrics, range(len(song_performer_pair))):\n",
    "            if suc:\n",
    "                art_song_lyrics[suc][val1] = val2\n",
    "            else:\n",
    "                missing_artists_song[val1].add(val2)\n",
    "    except Exception as e:\n",
    "        print(e)"
   ]
  },
  {
   "cell_type": "code",
   "execution_count": 191,
   "metadata": {
    "collapsed": true
   },
   "outputs": [],
   "source": [
    "pool.close()"
   ]
  },
  {
   "cell_type": "code",
   "execution_count": 186,
   "metadata": {
    "collapsed": true
   },
   "outputs": [],
   "source": [
    "temp = {}\n",
    "for i in list(missing_artists_song.keys()):\n",
    "    temp[i] = list(missing_artists_song[i])"
   ]
  },
  {
   "cell_type": "code",
   "execution_count": 182,
   "metadata": {},
   "outputs": [
    {
     "name": "stdout",
     "output_type": "stream",
     "text": [
      "The history saving thread hit an unexpected error (OperationalError('unable to open database file',)).History will not be written to the database."
     ]
    }
   ],
   "source": [
    "jdata = json.dumps(temp)\n",
    "output_file = open(\"Genesis_missing.json\",\"w+\")\n",
    "output_file.write(jdata)\n",
    "output_file.close()"
   ]
  },
  {
   "cell_type": "code",
   "execution_count": 124,
   "metadata": {
    "collapsed": true
   },
   "outputs": [],
   "source": [
    "jdata = json.dumps(art_song_lyrics)\n",
    "output_file = open(\"genesis_data.json\",\"w+\")\n",
    "output_file.write(jdata)\n",
    "output_file.close()"
   ]
  },
  {
   "cell_type": "code",
   "execution_count": 130,
   "metadata": {},
   "outputs": [
    {
     "data": {
      "text/plain": [
       "23454"
      ]
     },
     "execution_count": 130,
     "metadata": {},
     "output_type": "execute_result"
    }
   ],
   "source": [
    "all_found_songs= [j for k in art_song_lyrics.keys() for j in list(art_song_lyrics[k].keys())]\n",
    "len(all_found_songs)"
   ]
  },
  {
   "cell_type": "code",
   "execution_count": 131,
   "metadata": {},
   "outputs": [
    {
     "data": {
      "text/plain": [
       "7429"
      ]
     },
     "execution_count": 131,
     "metadata": {},
     "output_type": "execute_result"
    }
   ],
   "source": [
    "len(art_song_lyrics)"
   ]
  },
  {
   "cell_type": "code",
   "execution_count": 113,
   "metadata": {},
   "outputs": [
    {
     "data": {
      "text/plain": [
       "3035"
      ]
     },
     "execution_count": 113,
     "metadata": {},
     "output_type": "execute_result"
    }
   ],
   "source": [
    "len(missing_artists_song)"
   ]
  },
  {
   "cell_type": "code",
   "execution_count": 137,
   "metadata": {},
   "outputs": [
    {
     "data": {
      "text/plain": [
       "40.0"
      ]
     },
     "execution_count": 137,
     "metadata": {},
     "output_type": "execute_result"
    }
   ],
   "source": [
    "4000 / 100"
   ]
  },
  {
   "cell_type": "code",
   "execution_count": 128,
   "metadata": {},
   "outputs": [
    {
     "data": {
      "text/plain": [
       "[('The', 653),\n",
       " ('&', 356),\n",
       " ('Featuring', 240),\n",
       " ('And', 167),\n",
       " ('With', 112),\n",
       " ('and', 68),\n",
       " ('His', 67),\n",
       " ('Orchestra', 64),\n",
       " ('Band', 64),\n",
       " ('Bobby', 44),\n",
       " ('Johnny', 42),\n",
       " ('Of', 33),\n",
       " ('Joe', 33),\n",
       " ('Paul', 31),\n",
       " ('John', 31),\n",
       " ('Billy', 30),\n",
       " ('Jimmy', 30),\n",
       " ('Brown', 28),\n",
       " ('Lee', 27),\n",
       " ('Ray', 25)]"
      ]
     },
     "execution_count": 128,
     "metadata": {},
     "output_type": "execute_result"
    }
   ],
   "source": [
    "collections.Counter([j for i in list(missing_artists_song.keys()) for j in i.split(\" \")]).most_common(20)"
   ]
  },
  {
   "cell_type": "code",
   "execution_count": 6,
   "metadata": {
    "collapsed": true
   },
   "outputs": [],
   "source": [
    "song_pair_new = [[i, j] for i in list(missing_artists_song.keys()) for j in list(missing_artists_song[i])]"
   ]
  },
  {
   "cell_type": "code",
   "execution_count": 7,
   "metadata": {
    "collapsed": true
   },
   "outputs": [],
   "source": [
    "song_pair_new_reformatted = []\n",
    "for p in song_pair_new:\n",
    "    artist, song = p\n",
    "    if \"Featuring\" in artist:\n",
    "        artist = artist.split(\"Featuring\")[0].strip()\n",
    "    if \"Feat.\" in artist:\n",
    "        artist = artist.split(\"Feat.\")[0].strip()\n",
    "    if \"featuring\" in artist:\n",
    "        artist = artist.split(\"featuring\")[0].strip()\n",
    "    if \"&\" in artist:\n",
    "        artist = artist.split(\"&\")[0].strip()\n",
    "    if \"and\" in artist:\n",
    "        artist = artist.split(\"and\")[0].strip()\n",
    "    if \"And\" in artist:\n",
    "        artist = artist.split(\"And\")[0].strip()\n",
    "    if \"With\" in artist:\n",
    "        artist = artist.split(\"With\")[0].strip()\n",
    "    if \"with\" in artist:\n",
    "        artist = artist.split(\"with\")[0].strip()\n",
    "    if \"The\" in artist:\n",
    "        artist = artist.split(\"The\")[0].strip()\n",
    "    if \"the\" in artist:\n",
    "        artist = artist.split(\"the\")[0].strip()\n",
    "    if \"(\" in artist:\n",
    "        artist = artist.split(\"(\")[0].strip()\n",
    "    song_pair_new_reformatted.append([artist, song])"
   ]
  },
  {
   "cell_type": "code",
   "execution_count": 8,
   "metadata": {},
   "outputs": [
    {
     "data": {
      "text/plain": [
       "['Dick', 'Tell Me']"
      ]
     },
     "execution_count": 8,
     "metadata": {},
     "output_type": "execute_result"
    }
   ],
   "source": [
    "song_pair_new_reformatted[1000]"
   ]
  },
  {
   "cell_type": "code",
   "execution_count": 12,
   "metadata": {
    "collapsed": true
   },
   "outputs": [],
   "source": [
    "def get_lyrics_updated(i):\n",
    "    artist_name, song_title = song_pair_new_reformatted[i]\n",
    "    params = {'q': song_title.lower() + \" \" + artist_name.lower()}\n",
    "#     params = {'q': song_title.lower()}\n",
    "    response = requests.get(search_url, params=params, headers=headers).json()\n",
    "    song_info = False\n",
    "    for hit in response[\"response\"][\"hits\"]:\n",
    "        if len(set(hit[\"result\"][\"primary_artist\"][\"name\"].lower().split(\" \")).intersection(set(artist_name.lower().split(\" \")))) != 0:\n",
    "            song_info = hit\n",
    "            break\n",
    "    if song_info:\n",
    "        song_api_path = song_info[\"result\"][\"api_path\"]\n",
    "        song_url = base_url + song_api_path\n",
    "        response = requests.get(song_url, headers=headers).json()\n",
    "        path = response[\"response\"][\"song\"][\"path\"]\n",
    "        page_url = \"http://genius.com\" + path\n",
    "        page = requests.get(page_url)\n",
    "        html = BeautifulSoup(page.text, \"html.parser\")\n",
    "        [h.extract() for h in html('script')]\n",
    "        lyrics = html.find(\"div\", class_=\"lyrics\").get_text()\n",
    "        return [artist_name, song_title, [i for i in lyrics.split(\"\\n\") if i != \"\"]]\n",
    "    else:\n",
    "        return [False, artist_name, song_title]"
   ]
  },
  {
   "cell_type": "code",
   "execution_count": 13,
   "metadata": {},
   "outputs": [
    {
     "name": "stdout",
     "output_type": "stream",
     "text": [
      "unhashable type: 'list'\n"
     ]
    }
   ],
   "source": [
    "art_song_lyrics_updated = collections.defaultdict(dict)\n",
    "missing_artists_song_updated = collections.defaultdict(set)\n",
    "with multiprocessing.Pool(processes=multiprocessing.cpu_count()*8) as pool:\n",
    "    try:\n",
    "        for suc,val1,val2 in pool.imap_unordered(get_lyrics_updated, range(len(song_pair_new_reformatted))):\n",
    "            if suc:\n",
    "                art_song_lyrics_updated[suc][val1] = val2\n",
    "            else:\n",
    "                missing_artists_song_updated[val1].add(val2)\n",
    "    except Exception as e:\n",
    "        print(e)\n",
    "    pool.close()"
   ]
  },
  {
   "cell_type": "code",
   "execution_count": 16,
   "metadata": {},
   "outputs": [
    {
     "data": {
      "text/plain": [
       "1899"
      ]
     },
     "execution_count": 16,
     "metadata": {},
     "output_type": "execute_result"
    }
   ],
   "source": [
    "len(missing_artists_song_updated)"
   ]
  },
  {
   "cell_type": "code",
   "execution_count": 17,
   "metadata": {},
   "outputs": [
    {
     "data": {
      "text/plain": [
       "339"
      ]
     },
     "execution_count": 17,
     "metadata": {},
     "output_type": "execute_result"
    }
   ],
   "source": [
    "len(art_song_lyrics_updated)"
   ]
  },
  {
   "cell_type": "code",
   "execution_count": 20,
   "metadata": {
    "collapsed": true
   },
   "outputs": [],
   "source": [
    "pool.terminate()"
   ]
  },
  {
   "cell_type": "code",
   "execution_count": 20,
   "metadata": {},
   "outputs": [
    {
     "data": {
      "text/plain": [
       "544"
      ]
     },
     "execution_count": 20,
     "metadata": {},
     "output_type": "execute_result"
    }
   ],
   "source": [
    "all_found_songs_updated= [j for k in art_song_lyrics_updated.keys() for j in list(art_song_lyrics_updated[k].keys())]\n",
    "len(all_found_songs_updated)"
   ]
  },
  {
   "cell_type": "code",
   "execution_count": 21,
   "metadata": {},
   "outputs": [
    {
     "data": {
      "text/plain": [
       "23998"
      ]
     },
     "execution_count": 21,
     "metadata": {},
     "output_type": "execute_result"
    }
   ],
   "source": [
    "23454 + 544"
   ]
  },
  {
   "cell_type": "code",
   "execution_count": 4,
   "metadata": {},
   "outputs": [],
   "source": [
    "genius_data = json.loads(open('./Genesis_data.json').read())"
   ]
  },
  {
   "cell_type": "code",
   "execution_count": 5,
   "metadata": {
    "collapsed": true
   },
   "outputs": [],
   "source": [
    "lyric_l = []\n",
    "genius_data['\"Weird Al\" Yankovic']\n",
    "for art in genius_data:\n",
    "    for song in genius_data[art]:\n",
    "        lyrics = \"\\n\".join(genius_data[art][song])\n",
    "        lyric_l.append([art,song,lyrics])"
   ]
  },
  {
   "cell_type": "code",
   "execution_count": 6,
   "metadata": {},
   "outputs": [
    {
     "data": {
      "text/html": [
       "<div>\n",
       "<style scoped>\n",
       "    .dataframe tbody tr th:only-of-type {\n",
       "        vertical-align: middle;\n",
       "    }\n",
       "\n",
       "    .dataframe tbody tr th {\n",
       "        vertical-align: top;\n",
       "    }\n",
       "\n",
       "    .dataframe thead th {\n",
       "        text-align: right;\n",
       "    }\n",
       "</style>\n",
       "<table border=\"1\" class=\"dataframe\">\n",
       "  <thead>\n",
       "    <tr style=\"text-align: right;\">\n",
       "      <th></th>\n",
       "      <th>Artist</th>\n",
       "      <th>Song</th>\n",
       "      <th>Lyrics</th>\n",
       "    </tr>\n",
       "  </thead>\n",
       "  <tbody>\n",
       "    <tr>\n",
       "      <th>0</th>\n",
       "      <td>\"Weird Al\" Yankovic</td>\n",
       "      <td>Canadian Idiot</td>\n",
       "      <td>[Verse 1]\\nDon't wanna be a Canadian idiot\\nDo...</td>\n",
       "    </tr>\n",
       "    <tr>\n",
       "      <th>1</th>\n",
       "      <td>\"Weird Al\" Yankovic</td>\n",
       "      <td>Like A Surgeon</td>\n",
       "      <td>I finally made it through med school\\nSomehow ...</td>\n",
       "    </tr>\n",
       "    <tr>\n",
       "      <th>2</th>\n",
       "      <td>\"Weird Al\" Yankovic</td>\n",
       "      <td>Amish Paradise</td>\n",
       "      <td>[Verse 1]\\nAs I walk through the valley where ...</td>\n",
       "    </tr>\n",
       "    <tr>\n",
       "      <th>3</th>\n",
       "      <td>\"Weird Al\" Yankovic</td>\n",
       "      <td>Eat It</td>\n",
       "      <td>[Verse 1:]\\nHow come you're always such a fuss...</td>\n",
       "    </tr>\n",
       "    <tr>\n",
       "      <th>4</th>\n",
       "      <td>\"Weird Al\" Yankovic</td>\n",
       "      <td>Ricky</td>\n",
       "      <td>[Ricky]\\nHey Lucy, I'm home\\n[Lucy]\\nOh Ricky,...</td>\n",
       "    </tr>\n",
       "  </tbody>\n",
       "</table>\n",
       "</div>"
      ],
      "text/plain": [
       "                Artist            Song  \\\n",
       "0  \"Weird Al\" Yankovic  Canadian Idiot   \n",
       "1  \"Weird Al\" Yankovic  Like A Surgeon   \n",
       "2  \"Weird Al\" Yankovic  Amish Paradise   \n",
       "3  \"Weird Al\" Yankovic          Eat It   \n",
       "4  \"Weird Al\" Yankovic           Ricky   \n",
       "\n",
       "                                              Lyrics  \n",
       "0  [Verse 1]\\nDon't wanna be a Canadian idiot\\nDo...  \n",
       "1  I finally made it through med school\\nSomehow ...  \n",
       "2  [Verse 1]\\nAs I walk through the valley where ...  \n",
       "3  [Verse 1:]\\nHow come you're always such a fuss...  \n",
       "4  [Ricky]\\nHey Lucy, I'm home\\n[Lucy]\\nOh Ricky,...  "
      ]
     },
     "execution_count": 6,
     "metadata": {},
     "output_type": "execute_result"
    }
   ],
   "source": [
    "genius_df = pd.DataFrame(data=lyric_l,columns=[\"Artist\",\"Song\",\"Lyrics\"])\n",
    "genius_df.head()"
   ]
  },
  {
   "cell_type": "code",
   "execution_count": 13,
   "metadata": {},
   "outputs": [
    {
     "data": {
      "text/plain": [
       "(23454, 3)"
      ]
     },
     "execution_count": 13,
     "metadata": {},
     "output_type": "execute_result"
    }
   ],
   "source": [
    "genius_df.shape"
   ]
  },
  {
   "cell_type": "code",
   "execution_count": 7,
   "metadata": {
    "collapsed": true
   },
   "outputs": [],
   "source": [
    "import re\n",
    "list_of_words = lambda ly : \" \".join(re.split(r\"\\[[\\s\\S]*?\\]|[^\\w'\\\\-]|\\s\",ly.lower())).split()\n",
    "from collections import Counter\n",
    "bags = [Counter(list_of_words(ly)) for ly in genius_df[\"Lyrics\"]]"
   ]
  },
  {
   "cell_type": "code",
   "execution_count": 8,
   "metadata": {
    "collapsed": true
   },
   "outputs": [],
   "source": [
    "lists = [list_of_words(ly) for ly in genius_df[\"Lyrics\"]]"
   ]
  },
  {
   "cell_type": "code",
   "execution_count": 9,
   "metadata": {
    "collapsed": true
   },
   "outputs": [],
   "source": [
    "genius_df[\"Bag\"] = bags\n",
    "genius_df[\"List\"] = lists"
   ]
  },
  {
   "cell_type": "code",
   "execution_count": 10,
   "metadata": {},
   "outputs": [
    {
     "data": {
      "text/html": [
       "<div>\n",
       "<style scoped>\n",
       "    .dataframe tbody tr th:only-of-type {\n",
       "        vertical-align: middle;\n",
       "    }\n",
       "\n",
       "    .dataframe tbody tr th {\n",
       "        vertical-align: top;\n",
       "    }\n",
       "\n",
       "    .dataframe thead th {\n",
       "        text-align: right;\n",
       "    }\n",
       "</style>\n",
       "<table border=\"1\" class=\"dataframe\">\n",
       "  <thead>\n",
       "    <tr style=\"text-align: right;\">\n",
       "      <th></th>\n",
       "      <th>Artist</th>\n",
       "      <th>Song</th>\n",
       "      <th>Lyrics</th>\n",
       "      <th>Bag</th>\n",
       "      <th>List</th>\n",
       "    </tr>\n",
       "  </thead>\n",
       "  <tbody>\n",
       "    <tr>\n",
       "      <th>0</th>\n",
       "      <td>\"Weird Al\" Yankovic</td>\n",
       "      <td>Canadian Idiot</td>\n",
       "      <td>[Verse 1]\\nDon't wanna be a Canadian idiot\\nDo...</td>\n",
       "      <td>{'don't': 3, 'wanna': 3, 'be': 3, 'a': 7, 'can...</td>\n",
       "      <td>[don't, wanna, be, a, canadian, idiot, don't, ...</td>\n",
       "    </tr>\n",
       "    <tr>\n",
       "      <th>1</th>\n",
       "      <td>\"Weird Al\" Yankovic</td>\n",
       "      <td>Like A Surgeon</td>\n",
       "      <td>I finally made it through med school\\nSomehow ...</td>\n",
       "      <td>{'i': 7, 'finally': 1, 'made': 2, 'it': 2, 'th...</td>\n",
       "      <td>[i, finally, made, it, through, med, school, s...</td>\n",
       "    </tr>\n",
       "    <tr>\n",
       "      <th>2</th>\n",
       "      <td>\"Weird Al\" Yankovic</td>\n",
       "      <td>Amish Paradise</td>\n",
       "      <td>[Verse 1]\\nAs I walk through the valley where ...</td>\n",
       "      <td>{'as': 5, 'i': 14, 'walk': 1, 'through': 1, 't...</td>\n",
       "      <td>[as, i, walk, through, the, valley, where, i, ...</td>\n",
       "    </tr>\n",
       "    <tr>\n",
       "      <th>3</th>\n",
       "      <td>\"Weird Al\" Yankovic</td>\n",
       "      <td>Eat It</td>\n",
       "      <td>[Verse 1:]\\nHow come you're always such a fuss...</td>\n",
       "      <td>{'how': 1, 'come': 1, 'you're': 5, 'always': 1...</td>\n",
       "      <td>[how, come, you're, always, such, a, fussy, yo...</td>\n",
       "    </tr>\n",
       "    <tr>\n",
       "      <th>4</th>\n",
       "      <td>\"Weird Al\" Yankovic</td>\n",
       "      <td>Ricky</td>\n",
       "      <td>[Ricky]\\nHey Lucy, I'm home\\n[Lucy]\\nOh Ricky,...</td>\n",
       "      <td>{'hey': 10, 'lucy': 17, 'i'm': 5, 'home': 1, '...</td>\n",
       "      <td>[hey, lucy, i'm, home, oh, ricky, you're, so, ...</td>\n",
       "    </tr>\n",
       "  </tbody>\n",
       "</table>\n",
       "</div>"
      ],
      "text/plain": [
       "                Artist            Song  \\\n",
       "0  \"Weird Al\" Yankovic  Canadian Idiot   \n",
       "1  \"Weird Al\" Yankovic  Like A Surgeon   \n",
       "2  \"Weird Al\" Yankovic  Amish Paradise   \n",
       "3  \"Weird Al\" Yankovic          Eat It   \n",
       "4  \"Weird Al\" Yankovic           Ricky   \n",
       "\n",
       "                                              Lyrics  \\\n",
       "0  [Verse 1]\\nDon't wanna be a Canadian idiot\\nDo...   \n",
       "1  I finally made it through med school\\nSomehow ...   \n",
       "2  [Verse 1]\\nAs I walk through the valley where ...   \n",
       "3  [Verse 1:]\\nHow come you're always such a fuss...   \n",
       "4  [Ricky]\\nHey Lucy, I'm home\\n[Lucy]\\nOh Ricky,...   \n",
       "\n",
       "                                                 Bag  \\\n",
       "0  {'don't': 3, 'wanna': 3, 'be': 3, 'a': 7, 'can...   \n",
       "1  {'i': 7, 'finally': 1, 'made': 2, 'it': 2, 'th...   \n",
       "2  {'as': 5, 'i': 14, 'walk': 1, 'through': 1, 't...   \n",
       "3  {'how': 1, 'come': 1, 'you're': 5, 'always': 1...   \n",
       "4  {'hey': 10, 'lucy': 17, 'i'm': 5, 'home': 1, '...   \n",
       "\n",
       "                                                List  \n",
       "0  [don't, wanna, be, a, canadian, idiot, don't, ...  \n",
       "1  [i, finally, made, it, through, med, school, s...  \n",
       "2  [as, i, walk, through, the, valley, where, i, ...  \n",
       "3  [how, come, you're, always, such, a, fussy, yo...  \n",
       "4  [hey, lucy, i'm, home, oh, ricky, you're, so, ...  "
      ]
     },
     "execution_count": 10,
     "metadata": {},
     "output_type": "execute_result"
    }
   ],
   "source": [
    "genius_df.head()"
   ]
  },
  {
   "cell_type": "code",
   "execution_count": 11,
   "metadata": {},
   "outputs": [
    {
     "data": {
      "text/plain": [
       "153645"
      ]
     },
     "execution_count": 11,
     "metadata": {},
     "output_type": "execute_result"
    }
   ],
   "source": [
    "from collections import defaultdict\n",
    "big_word_bag = defaultdict(int)\n",
    "for ls in genius_df[\"List\"]:\n",
    "    for word in ls:\n",
    "        big_word_bag[word]+=1\n",
    "len(big_word_bag)"
   ]
  },
  {
   "cell_type": "code",
   "execution_count": 14,
   "metadata": {},
   "outputs": [],
   "source": [
    "sorted_words = sorted(big_word_bag,key=lambda w: big_word_bag[w],reverse=True)"
   ]
  },
  {
   "cell_type": "code",
   "execution_count": 15,
   "metadata": {},
   "outputs": [
    {
     "name": "stdout",
     "output_type": "stream",
     "text": [
      "0 the 0\n",
      "1 i 0\n",
      "2 you 0\n",
      "3 and 0\n",
      "4 to 0\n",
      "5 a 0\n",
      "6 of 0\n",
      "7 in 0\n",
      "8 it 0\n",
      "9 me 0\n",
      "10 that 0\n",
      "11 my 0\n",
      "12 on 0\n",
      "13 is 0\n",
      "14 for 0\n",
      "15 be 0\n",
      "16 your 0\n",
      "17 with 0\n",
      "18 all 0\n",
      "19 i'm 0\n"
     ]
    }
   ],
   "source": [
    "for i in range(20):\n",
    "    print(i,sorted_words[i],big_word_bag[])"
   ]
  }
 ],
 "metadata": {
  "kernelspec": {
   "display_name": "Python 3",
   "language": "python",
   "name": "python3"
  },
  "language_info": {
   "codemirror_mode": {
    "name": "ipython",
    "version": 3
   },
   "file_extension": ".py",
   "mimetype": "text/x-python",
   "name": "python",
   "nbconvert_exporter": "python",
   "pygments_lexer": "ipython3",
   "version": "3.6.3"
  }
 },
 "nbformat": 4,
 "nbformat_minor": 2
}
