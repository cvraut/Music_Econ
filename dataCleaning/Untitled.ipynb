{
 "cells": [
  {
   "cell_type": "code",
   "execution_count": 1,
   "metadata": {},
   "outputs": [],
   "source": [
    "import pandas as pd\n",
    "import numpy as np\n",
    "import json\n",
    "import re\n",
    "import collections\n",
    "from Levenshtein import ratio\n",
    "from difflib import SequenceMatcher"
   ]
  },
  {
   "cell_type": "code",
   "execution_count": 2,
   "metadata": {},
   "outputs": [],
   "source": [
    "BB = pd.read_csv(\"../data/Hot Stuff.csv\")\n",
    "lyrics = pd.read_csv(\"../data/billboard_lyrics_1964-2015.csv\", engine=\"python\")\n",
    "genius_found = json.loads(open(\"../data/json/Genius_data.json\").read())\n",
    "genius_missing = json.loads(open(\"../data/json/Genius_missing.json\").read())\n",
    "az_found = json.loads(open(\"../data/json/az_found.json\").read())"
   ]
  },
  {
   "cell_type": "code",
   "execution_count": 10,
   "metadata": {},
   "outputs": [
    {
     "data": {
      "text/plain": [
       "[('\"Pookie\" Hudson', ['I Know I Know']),\n",
       " ('100 Proof Aged in Soul',\n",
       "  ['Too Many Cooks (Spoil The Soup)',\n",
       "   'Everything Good Is Bad',\n",
       "   \"One Man's Leftovers (Is Another Man's Feast)\"]),\n",
       " ('\"Groove\" Holmes', ['What Now My Love'])]"
      ]
     },
     "execution_count": 10,
     "metadata": {},
     "output_type": "execute_result"
    }
   ],
   "source": [
    "list(genius_missing.items())[:3]"
   ]
  },
  {
   "cell_type": "code",
   "execution_count": null,
   "metadata": {},
   "outputs": [],
   "source": [
    "BB_artist_song_pair = list(BB.groupby([\"Performer\", \"Song\"]).count().index)\n",
    "lyrics_artist_song_pair = list(lyrics.groupby([\"Artist\", \"Song\"]).count().index)\n",
    "genius_artist_song_pair = [[i, j] for i in genius_found.keys() for j in genius_found[i].keys()]\n",
    "az_artist_song_pair = [[i, j] for i in az_found.keys() for j in az_found[i][\"Song\"] if j in BB[BB[\"Performer\"] == i][\"Song\"]]"
   ]
  },
  {
   "cell_type": "code",
   "execution_count": 13,
   "metadata": {},
   "outputs": [
    {
     "data": {
      "text/plain": [
       "[27949, 4899, 24492, 1405632]"
      ]
     },
     "execution_count": 13,
     "metadata": {},
     "output_type": "execute_result"
    }
   ],
   "source": [
    "[len(BB_artist_song_pair), len(lyrics_artist_song_pair), len(genius_artist_song_pair), len(az_artist_song_pair)]"
   ]
  },
  {
   "cell_type": "code",
   "execution_count": 12,
   "metadata": {},
   "outputs": [
    {
     "name": "stdout",
     "output_type": "stream",
     "text": [
      "0\n",
      "10000\n",
      "20000\n",
      "30000\n",
      "40000\n",
      "50000\n",
      "60000\n",
      "70000\n",
      "80000\n",
      "90000\n",
      "100000\n",
      "110000\n",
      "120000\n",
      "130000\n",
      "140000\n",
      "150000\n",
      "160000\n",
      "170000\n",
      "180000\n",
      "190000\n",
      "200000\n",
      "210000\n",
      "220000\n",
      "230000\n",
      "240000\n",
      "250000\n",
      "260000\n",
      "270000\n",
      "280000\n",
      "290000\n",
      "300000\n",
      "310000\n"
     ]
    }
   ],
   "source": [
    "BB_artist_song = collections.defaultdict(set)\n",
    "for i in range(BB.shape[0]):\n",
    "    artist, song = BB.loc[i, [\"Performer\", \"Song\"]]\n",
    "    BB_artist_song[artist].add(song)\n",
    "    if i % 10000 == 0:\n",
    "        print(i)"
   ]
  },
  {
   "cell_type": "code",
   "execution_count": 102,
   "metadata": {},
   "outputs": [],
   "source": [
    "az_artist_song_pair = collections.defaultdict(set)\n",
    "az_missing_artist_song_pair = collections.defaultdict(set)\n",
    "for p in az_found.keys():\n",
    "    for s in list(BB_artist_song[p]):\n",
    "        sorted_score = sorted(az_found[p][\"Song\"], key = lambda x: ratio(x.lower(), s.lower()), reverse=True)\n",
    "        if ratio(sorted_score[0].lower(), s.lower()) >= 0.8:\n",
    "            az_artist_song_pair[p].add(s)\n",
    "        else:\n",
    "            az_missing_artist_song_pair[p].add(s)"
   ]
  },
  {
   "cell_type": "code",
   "execution_count": 14,
   "metadata": {},
   "outputs": [],
   "source": [
    "lyrics_song_artist_pair = list(lyrics.groupby([\"Song\", \"Artist\"]).count().index)\n",
    "BB_song_artist_pair = list(BB.groupby([\"Song\", \"Performer\"]).count().index)"
   ]
  },
  {
   "cell_type": "code",
   "execution_count": 15,
   "metadata": {},
   "outputs": [
    {
     "data": {
      "text/plain": [
       "[4899, 27949]"
      ]
     },
     "execution_count": 15,
     "metadata": {},
     "output_type": "execute_result"
    }
   ],
   "source": [
    "[len(lyrics_song_artist_pair), len(BB_song_artist_pair)]"
   ]
  },
  {
   "cell_type": "code",
   "execution_count": 16,
   "metadata": {},
   "outputs": [
    {
     "data": {
      "text/plain": [
       "(5100, 6)"
      ]
     },
     "execution_count": 16,
     "metadata": {},
     "output_type": "execute_result"
    }
   ],
   "source": [
    "lyrics.shape"
   ]
  },
  {
   "cell_type": "code",
   "execution_count": 18,
   "metadata": {},
   "outputs": [],
   "source": [
    "az_found = json.loads(open(\"ex_json.json\").read())"
   ]
  },
  {
   "cell_type": "code",
   "execution_count": 19,
   "metadata": {},
   "outputs": [
    {
     "data": {
      "text/plain": [
       "2647"
      ]
     },
     "execution_count": 19,
     "metadata": {},
     "output_type": "execute_result"
    }
   ],
   "source": [
    "len(az_found)"
   ]
  },
  {
   "cell_type": "code",
   "execution_count": null,
   "metadata": {},
   "outputs": [],
   "source": []
  }
 ],
 "metadata": {
  "kernelspec": {
   "display_name": "Python 3",
   "language": "python",
   "name": "python3"
  },
  "language_info": {
   "codemirror_mode": {
    "name": "ipython",
    "version": 3
   },
   "file_extension": ".py",
   "mimetype": "text/x-python",
   "name": "python",
   "nbconvert_exporter": "python",
   "pygments_lexer": "ipython3",
   "version": "3.6.4"
  }
 },
 "nbformat": 4,
 "nbformat_minor": 2
}
